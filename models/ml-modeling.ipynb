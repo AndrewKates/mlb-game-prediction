{
 "cells": [
  {
   "cell_type": "code",
   "execution_count": 1,
   "metadata": {},
   "outputs": [],
   "source": [
    "import pandas as pd\n",
    "import matplotlib.pyplot as plt\n",
    "import seaborn as sns\n",
    "import os\n",
    "\n",
    "PATH_TO_DATA = '../data/'\n",
    "PATH_TO_OUTPUT_DATA = '../output-data/'\n",
    "PATH_TO_MODEL_DATA = '../model-data/'"
   ]
  },
  {
   "cell_type": "code",
   "execution_count": 2,
   "metadata": {},
   "outputs": [],
   "source": [
    "from sklearn.model_selection import train_test_split"
   ]
  },
  {
   "cell_type": "code",
   "execution_count": 4,
   "metadata": {},
   "outputs": [],
   "source": [
    "MLB_DF = pd.read_csv(PATH_TO_OUTPUT_DATA + 'MLB_INPUT.csv')"
   ]
  },
  {
   "cell_type": "code",
   "execution_count": 7,
   "metadata": {},
   "outputs": [],
   "source": [
    "MLB_DF['home_ISO'] = MLB_DF['home_SLG'] - MLB_DF['home_AVG']\n",
    "MLB_DF['away_ISO'] = MLB_DF['away_SLG'] - MLB_DF['away_AVG']\n",
    "MLB_DF['ISO_difference'] = MLB_DF['home_ISO'] - MLB_DF['away_ISO']\n",
    "MLB_DF['ISO_difference_PCT'] = (MLB_DF['home_ISO'] - MLB_DF['away_ISO'])/ MLB_DF['home_ISO']*100"
   ]
  },
  {
   "cell_type": "code",
   "execution_count": 8,
   "metadata": {},
   "outputs": [
    {
     "data": {
      "text/html": [
       "<div>\n",
       "<style scoped>\n",
       "    .dataframe tbody tr th:only-of-type {\n",
       "        vertical-align: middle;\n",
       "    }\n",
       "\n",
       "    .dataframe tbody tr th {\n",
       "        vertical-align: top;\n",
       "    }\n",
       "\n",
       "    .dataframe thead th {\n",
       "        text-align: right;\n",
       "    }\n",
       "</style>\n",
       "<table border=\"1\" class=\"dataframe\">\n",
       "  <thead>\n",
       "    <tr style=\"text-align: right;\">\n",
       "      <th></th>\n",
       "      <th>dt</th>\n",
       "      <th>Y</th>\n",
       "      <th>M</th>\n",
       "      <th>D</th>\n",
       "      <th>away_team</th>\n",
       "      <th>home_team</th>\n",
       "      <th>away_pitcher_id</th>\n",
       "      <th>home_pitcher_id</th>\n",
       "      <th>outcome</th>\n",
       "      <th>home_AVG</th>\n",
       "      <th>...</th>\n",
       "      <th>home_ELO</th>\n",
       "      <th>away_ELO</th>\n",
       "      <th>ELO_difference</th>\n",
       "      <th>E[ELO]</th>\n",
       "      <th>home_rest</th>\n",
       "      <th>away_rest</th>\n",
       "      <th>home_ISO</th>\n",
       "      <th>away_ISO</th>\n",
       "      <th>ISO_difference</th>\n",
       "      <th>ISO_difference_PCT</th>\n",
       "    </tr>\n",
       "  </thead>\n",
       "  <tbody>\n",
       "    <tr>\n",
       "      <th>0</th>\n",
       "      <td>2001-04-01</td>\n",
       "      <td>2001</td>\n",
       "      <td>4</td>\n",
       "      <td>1</td>\n",
       "      <td>TEX</td>\n",
       "      <td>TOR</td>\n",
       "      <td>hellr001</td>\n",
       "      <td>loaie001</td>\n",
       "      <td>1</td>\n",
       "      <td>0.273459</td>\n",
       "      <td>...</td>\n",
       "      <td>1496.828252</td>\n",
       "      <td>1462.450742</td>\n",
       "      <td>34.377511</td>\n",
       "      <td>0.597675</td>\n",
       "      <td>5</td>\n",
       "      <td>5</td>\n",
       "      <td>0.192927</td>\n",
       "      <td>0.161597</td>\n",
       "      <td>0.031331</td>\n",
       "      <td>16.239572</td>\n",
       "    </tr>\n",
       "    <tr>\n",
       "      <th>1</th>\n",
       "      <td>2001-04-02</td>\n",
       "      <td>2001</td>\n",
       "      <td>4</td>\n",
       "      <td>2</td>\n",
       "      <td>SLN</td>\n",
       "      <td>COL</td>\n",
       "      <td>kiled001</td>\n",
       "      <td>hampm001</td>\n",
       "      <td>1</td>\n",
       "      <td>0.290176</td>\n",
       "      <td>...</td>\n",
       "      <td>1487.470945</td>\n",
       "      <td>1529.964302</td>\n",
       "      <td>-42.493357</td>\n",
       "      <td>0.380077</td>\n",
       "      <td>5</td>\n",
       "      <td>5</td>\n",
       "      <td>0.158088</td>\n",
       "      <td>0.182953</td>\n",
       "      <td>-0.024866</td>\n",
       "      <td>-15.729076</td>\n",
       "    </tr>\n",
       "    <tr>\n",
       "      <th>2</th>\n",
       "      <td>2001-04-02</td>\n",
       "      <td>2001</td>\n",
       "      <td>4</td>\n",
       "      <td>2</td>\n",
       "      <td>SDN</td>\n",
       "      <td>SFN</td>\n",
       "      <td>willw001</td>\n",
       "      <td>hernl003</td>\n",
       "      <td>1</td>\n",
       "      <td>0.276079</td>\n",
       "      <td>...</td>\n",
       "      <td>1544.173611</td>\n",
       "      <td>1478.296302</td>\n",
       "      <td>65.877309</td>\n",
       "      <td>0.681015</td>\n",
       "      <td>5</td>\n",
       "      <td>5</td>\n",
       "      <td>0.192446</td>\n",
       "      <td>0.146424</td>\n",
       "      <td>0.046022</td>\n",
       "      <td>23.914199</td>\n",
       "    </tr>\n",
       "    <tr>\n",
       "      <th>3</th>\n",
       "      <td>2001-04-02</td>\n",
       "      <td>2001</td>\n",
       "      <td>4</td>\n",
       "      <td>2</td>\n",
       "      <td>MIL</td>\n",
       "      <td>LAN</td>\n",
       "      <td>wrigj001</td>\n",
       "      <td>parkc002</td>\n",
       "      <td>1</td>\n",
       "      <td>0.254198</td>\n",
       "      <td>...</td>\n",
       "      <td>1527.653270</td>\n",
       "      <td>1509.946671</td>\n",
       "      <td>17.706599</td>\n",
       "      <td>0.550788</td>\n",
       "      <td>5</td>\n",
       "      <td>5</td>\n",
       "      <td>0.172233</td>\n",
       "      <td>0.156534</td>\n",
       "      <td>0.015699</td>\n",
       "      <td>9.115030</td>\n",
       "    </tr>\n",
       "    <tr>\n",
       "      <th>4</th>\n",
       "      <td>2001-04-02</td>\n",
       "      <td>2001</td>\n",
       "      <td>4</td>\n",
       "      <td>2</td>\n",
       "      <td>ATL</td>\n",
       "      <td>CIN</td>\n",
       "      <td>burkj001</td>\n",
       "      <td>harnp001</td>\n",
       "      <td>0</td>\n",
       "      <td>0.272199</td>\n",
       "      <td>...</td>\n",
       "      <td>1544.192550</td>\n",
       "      <td>1512.406489</td>\n",
       "      <td>31.786061</td>\n",
       "      <td>0.590480</td>\n",
       "      <td>5</td>\n",
       "      <td>5</td>\n",
       "      <td>0.171600</td>\n",
       "      <td>0.155356</td>\n",
       "      <td>0.016244</td>\n",
       "      <td>9.466322</td>\n",
       "    </tr>\n",
       "  </tbody>\n",
       "</table>\n",
       "<p>5 rows × 65 columns</p>\n",
       "</div>"
      ],
      "text/plain": [
       "           dt     Y  M  D away_team home_team away_pitcher_id home_pitcher_id  \\\n",
       "0  2001-04-01  2001  4  1       TEX       TOR        hellr001        loaie001   \n",
       "1  2001-04-02  2001  4  2       SLN       COL        kiled001        hampm001   \n",
       "2  2001-04-02  2001  4  2       SDN       SFN        willw001        hernl003   \n",
       "3  2001-04-02  2001  4  2       MIL       LAN        wrigj001        parkc002   \n",
       "4  2001-04-02  2001  4  2       ATL       CIN        burkj001        harnp001   \n",
       "\n",
       "   outcome  home_AVG  ...     home_ELO     away_ELO  ELO_difference    E[ELO]  \\\n",
       "0        1  0.273459  ...  1496.828252  1462.450742       34.377511  0.597675   \n",
       "1        1  0.290176  ...  1487.470945  1529.964302      -42.493357  0.380077   \n",
       "2        1  0.276079  ...  1544.173611  1478.296302       65.877309  0.681015   \n",
       "3        1  0.254198  ...  1527.653270  1509.946671       17.706599  0.550788   \n",
       "4        0  0.272199  ...  1544.192550  1512.406489       31.786061  0.590480   \n",
       "\n",
       "   home_rest  away_rest  home_ISO  away_ISO  ISO_difference  \\\n",
       "0          5          5  0.192927  0.161597        0.031331   \n",
       "1          5          5  0.158088  0.182953       -0.024866   \n",
       "2          5          5  0.192446  0.146424        0.046022   \n",
       "3          5          5  0.172233  0.156534        0.015699   \n",
       "4          5          5  0.171600  0.155356        0.016244   \n",
       "\n",
       "   ISO_difference_PCT  \n",
       "0           16.239572  \n",
       "1          -15.729076  \n",
       "2           23.914199  \n",
       "3            9.115030  \n",
       "4            9.466322  \n",
       "\n",
       "[5 rows x 65 columns]"
      ]
     },
     "execution_count": 8,
     "metadata": {},
     "output_type": "execute_result"
    }
   ],
   "source": [
    "MLB_DF.head()"
   ]
  },
  {
   "cell_type": "markdown",
   "metadata": {},
   "source": [
    "### 1. Group into years "
   ]
  },
  {
   "cell_type": "code",
   "execution_count": 231,
   "metadata": {},
   "outputs": [],
   "source": [
    "def create_features(data, pct = True):\n",
    "    features = data.drop(labels = \n",
    "                       ['dt', 'Y', 'M', 'D', 'away_team', \n",
    "                        'home_team', 'away_pitcher_id', 'home_pitcher_id',\n",
    "                       'date'],\n",
    "                      axis = 1)\n",
    "    features['rest_difference'] = features['home_rest'] - features['away_rest']\n",
    "    features['ELO_difference_PCT'] = features['ELO_difference']/features['home_ELO']*100\n",
    "    if (pct == True):\n",
    "        PCT_DIFF = features[[i for i in list(features) if 'PCT' in i] + ['rest_difference', 'outcome']]\n",
    "        PCT_DIFF_features = [i for i in list(features) if 'PCT' in i] + ['rest_difference']\n",
    "        return PCT_DIFF[PCT_DIFF_features], PCT_DIFF['outcome']\n",
    "    else:\n",
    "        DIFF = features[[i for i in list(features) if \n",
    "                         (('difference' in i) and ('PCT' not in i))] + ['outcome']]\n",
    "        DIFF_features = [i for i in list(features) if \n",
    "                        (('difference' in i) and ('PCT' not in i))] + []\n",
    "        return DIFF[DIFF_features], DIFF['outcome']\n"
   ]
  },
  {
   "cell_type": "code",
   "execution_count": 218,
   "metadata": {},
   "outputs": [],
   "source": [
    "# splits season into 3/4 for train, 1/4 for test\n",
    "def seasonal_train_test_split(X, Y):\n",
    "    test_train_cutoff = int(len(X)*.75)\n",
    "    x_train = X[0:test_train_cutoff]\n",
    "    x_test = X[test_train_cutoff:]\n",
    "    y_train = Y[0:test_train_cutoff]\n",
    "    y_test = Y[test_train_cutoff:]\n",
    "    \n",
    "    return x_train, x_test, y_train, y_test"
   ]
  },
  {
   "cell_type": "code",
   "execution_count": 219,
   "metadata": {},
   "outputs": [],
   "source": [
    "# Generate \n",
    "def create_yearly_samples(MLB_DF = MLB_DF):\n",
    "    years = list(set(MLB_DF.Y))\n",
    "    YEARLY_DATA = {}\n",
    "    for i in years:\n",
    "        YEARLY_MLB = create_features(MLB_DF[MLB_DF.Y == i])\n",
    "        x_train, x_test, y_train, y_test = seasonal_train_test_split(YEARLY_MLB[0], YEARLY_MLB[1])\n",
    "        YEARLY_DATA[i] = {\n",
    "            'x_train': x_train,\n",
    "            'x_test': x_test,\n",
    "            'y_train': y_train,\n",
    "            'y_test': y_test\n",
    "        }\n",
    "    return YEARLY_DATA"
   ]
  },
  {
   "cell_type": "code",
   "execution_count": 101,
   "metadata": {},
   "outputs": [],
   "source": [
    "# Create our yearly df\n",
    "MLB_FINAL_DATA = create_yearly_samples()"
   ]
  },
  {
   "cell_type": "markdown",
   "metadata": {},
   "source": [
    "### 2. Create feature label"
   ]
  },
  {
   "cell_type": "code",
   "execution_count": 102,
   "metadata": {},
   "outputs": [],
   "source": [
    "# # UNUSED\n",
    "# PCT_DIFF = features[[i for i in list(features) if 'PCT' in i] + ['E[ELO]', 'rest_difference', 'outcome']]\n",
    "# PCT_DIFF_features = [i for i in list(features) if 'PCT' in i] + ['E[ELO]', 'rest_difference']\n",
    "\n",
    "# DIFF = features[[i for i in list(features) if (('difference' in i) & ('PCT' not in i))] + [\n",
    "#     'E[ELO]', 'outcome']]\n",
    "# DIFF_features = [i for i in list(features) if (('difference' in i) & ('PCT' not in i))] + [\n",
    "#     'E[ELO]']"
   ]
  },
  {
   "cell_type": "code",
   "execution_count": 103,
   "metadata": {},
   "outputs": [],
   "source": [
    "# standard features\n",
    "features = create_features(MLB_DF)\n",
    "X, Y = features[0], features[1]"
   ]
  },
  {
   "cell_type": "markdown",
   "metadata": {},
   "source": [
    "### Brief EDA"
   ]
  },
  {
   "cell_type": "code",
   "execution_count": 104,
   "metadata": {
    "scrolled": true
   },
   "outputs": [
    {
     "data": {
      "text/plain": [
       "array([[1.        , 0.08780784],\n",
       "       [0.08780784, 1.        ]])"
      ]
     },
     "execution_count": 104,
     "metadata": {},
     "output_type": "execute_result"
    }
   ],
   "source": [
    "import numpy as np\n",
    "np.corrcoef([1 if x > .5 else 0 for x in MLB_DF['E[ELO]']], MLB_DF['outcome'])"
   ]
  },
  {
   "cell_type": "markdown",
   "metadata": {},
   "source": [
    "Thank you: https://towardsdatascience.com/feature-selection-with-pandas-e3690ad8504b"
   ]
  },
  {
   "cell_type": "code",
   "execution_count": 1,
   "metadata": {},
   "outputs": [
    {
     "ename": "NameError",
     "evalue": "name 'plt' is not defined",
     "output_type": "error",
     "traceback": [
      "\u001b[0;31m---------------------------------------------------------------------------\u001b[0m",
      "\u001b[0;31mNameError\u001b[0m                                 Traceback (most recent call last)",
      "\u001b[0;32m<ipython-input-1-e9ea4882c00f>\u001b[0m in \u001b[0;36m<module>\u001b[0;34m\u001b[0m\n\u001b[1;32m      1\u001b[0m \u001b[0;31m# # correlation plots\u001b[0m\u001b[0;34m\u001b[0m\u001b[0;34m\u001b[0m\u001b[0;34m\u001b[0m\u001b[0m\n\u001b[0;32m----> 2\u001b[0;31m \u001b[0mplt\u001b[0m\u001b[0;34m.\u001b[0m\u001b[0mfigure\u001b[0m\u001b[0;34m(\u001b[0m\u001b[0mfigsize\u001b[0m\u001b[0;34m=\u001b[0m\u001b[0;34m(\u001b[0m\u001b[0;36m8\u001b[0m\u001b[0;34m,\u001b[0m\u001b[0;36m8\u001b[0m\u001b[0;34m)\u001b[0m\u001b[0;34m)\u001b[0m\u001b[0;34m\u001b[0m\u001b[0;34m\u001b[0m\u001b[0m\n\u001b[0m\u001b[1;32m      3\u001b[0m \u001b[0mcor\u001b[0m \u001b[0;34m=\u001b[0m \u001b[0mMLB_DF\u001b[0m\u001b[0;34m.\u001b[0m\u001b[0mcorr\u001b[0m\u001b[0;34m(\u001b[0m\u001b[0;34m)\u001b[0m\u001b[0;34m\u001b[0m\u001b[0;34m\u001b[0m\u001b[0m\n\u001b[1;32m      4\u001b[0m \u001b[0mcor\u001b[0m \u001b[0;34m=\u001b[0m \u001b[0mcor\u001b[0m\u001b[0;34m.\u001b[0m\u001b[0mapply\u001b[0m\u001b[0;34m(\u001b[0m\u001b[0;32mlambda\u001b[0m \u001b[0mx\u001b[0m\u001b[0;34m:\u001b[0m \u001b[0mround\u001b[0m\u001b[0;34m(\u001b[0m\u001b[0;36m100\u001b[0m\u001b[0;34m*\u001b[0m\u001b[0mx\u001b[0m\u001b[0;34m)\u001b[0m\u001b[0;34m/\u001b[0m\u001b[0;36m100\u001b[0m\u001b[0;34m)\u001b[0m\u001b[0;34m\u001b[0m\u001b[0;34m\u001b[0m\u001b[0m\n\u001b[1;32m      5\u001b[0m \u001b[0msns\u001b[0m\u001b[0;34m.\u001b[0m\u001b[0mheatmap\u001b[0m\u001b[0;34m(\u001b[0m\u001b[0mcor\u001b[0m\u001b[0;34m,\u001b[0m \u001b[0mannot\u001b[0m\u001b[0;34m=\u001b[0m\u001b[0;32mTrue\u001b[0m\u001b[0;34m,\u001b[0m \u001b[0mcmap\u001b[0m\u001b[0;34m=\u001b[0m\u001b[0mplt\u001b[0m\u001b[0;34m.\u001b[0m\u001b[0mcm\u001b[0m\u001b[0;34m.\u001b[0m\u001b[0mReds\u001b[0m\u001b[0;34m)\u001b[0m\u001b[0;34m\u001b[0m\u001b[0;34m\u001b[0m\u001b[0m\n",
      "\u001b[0;31mNameError\u001b[0m: name 'plt' is not defined"
     ]
    }
   ],
   "source": [
    "# # correlation plots\n",
    "plt.figure(figsize=(8,8))\n",
    "cor = MLB_DF.corr()\n",
    "cor = cor.apply(lambda x: round(100*x)/100)\n",
    "sns.heatmap(cor, annot=True, cmap=plt.cm.Reds)\n",
    "# plt.show()"
   ]
  },
  {
   "cell_type": "code",
   "execution_count": 106,
   "metadata": {},
   "outputs": [
    {
     "data": {
      "text/plain": [
       "outcome               0.21\n",
       "home_AVG              0.32\n",
       "home_OBP              0.33\n",
       "home_SLG              0.62\n",
       "away_AVG              0.32\n",
       "away_OBP              0.32\n",
       "away_SLG              0.61\n",
       "AVG_difference        0.46\n",
       "OBP_difference        0.46\n",
       "SLG_difference        0.90\n",
       "AVG_difference_PCT    0.46\n",
       "OBP_difference_PCT    0.46\n",
       "SLG_difference_PCT    0.88\n",
       "home_ELO              0.22\n",
       "away_ELO              0.22\n",
       "ELO_difference        0.31\n",
       "E[ELO]                0.31\n",
       "home_ISO              0.68\n",
       "away_ISO              0.67\n",
       "ISO_difference        1.00\n",
       "ISO_difference_PCT    0.92\n",
       "Name: ISO_difference, dtype: float64"
      ]
     },
     "execution_count": 106,
     "metadata": {},
     "output_type": "execute_result"
    }
   ],
   "source": [
    "#Correlation with output variable\n",
    "cor_target = abs(cor['ISO_difference'])\n",
    "#Selecting highly correlated features\n",
    "relevant_features = cor_target[cor_target >= 0.2]\n",
    "relevant_features"
   ]
  },
  {
   "cell_type": "markdown",
   "metadata": {},
   "source": [
    "### 3. Train-test split\n",
    "Looking at PCT differences only"
   ]
  },
  {
   "cell_type": "code",
   "execution_count": 107,
   "metadata": {},
   "outputs": [],
   "source": [
    "# PCT DIFF\n",
    "x_train, x_test, y_train, y_test = train_test_split(\n",
    "    X, Y, test_size = 0.2, random_state = 499\n",
    ")"
   ]
  },
  {
   "cell_type": "code",
   "execution_count": 108,
   "metadata": {},
   "outputs": [
    {
     "data": {
      "text/html": [
       "<div>\n",
       "<style scoped>\n",
       "    .dataframe tbody tr th:only-of-type {\n",
       "        vertical-align: middle;\n",
       "    }\n",
       "\n",
       "    .dataframe tbody tr th {\n",
       "        vertical-align: top;\n",
       "    }\n",
       "\n",
       "    .dataframe thead th {\n",
       "        text-align: right;\n",
       "    }\n",
       "</style>\n",
       "<table border=\"1\" class=\"dataframe\">\n",
       "  <thead>\n",
       "    <tr style=\"text-align: right;\">\n",
       "      <th></th>\n",
       "      <th>AVG_difference_PCT</th>\n",
       "      <th>OBP_difference_PCT</th>\n",
       "      <th>SLG_difference_PCT</th>\n",
       "      <th>IP_Start_difference_PCT</th>\n",
       "      <th>ERA_difference_PCT</th>\n",
       "      <th>WHIP_difference_PCT</th>\n",
       "      <th>BAA_difference_PCT</th>\n",
       "      <th>K9_difference_PCT</th>\n",
       "      <th>HR9_difference_PCT</th>\n",
       "      <th>K/BB_difference_PCT</th>\n",
       "      <th>FIP_difference_PCT</th>\n",
       "      <th>ISO_difference_PCT</th>\n",
       "      <th>ELO_difference_PCT</th>\n",
       "      <th>rest_difference</th>\n",
       "    </tr>\n",
       "  </thead>\n",
       "  <tbody>\n",
       "    <tr>\n",
       "      <th>count</th>\n",
       "      <td>36902.000000</td>\n",
       "      <td>36902.000000</td>\n",
       "      <td>36902.000000</td>\n",
       "      <td>36902.000000</td>\n",
       "      <td>36902.000000</td>\n",
       "      <td>36902.000000</td>\n",
       "      <td>36902.000000</td>\n",
       "      <td>36902.000000</td>\n",
       "      <td>36902.000000</td>\n",
       "      <td>36902.000000</td>\n",
       "      <td>36902.000000</td>\n",
       "      <td>36902.000000</td>\n",
       "      <td>36902.000000</td>\n",
       "      <td>36902.000000</td>\n",
       "    </tr>\n",
       "    <tr>\n",
       "      <th>mean</th>\n",
       "      <td>-1.013753</td>\n",
       "      <td>-0.353648</td>\n",
       "      <td>-1.762579</td>\n",
       "      <td>-0.517322</td>\n",
       "      <td>-3.792635</td>\n",
       "      <td>-1.224264</td>\n",
       "      <td>-0.784944</td>\n",
       "      <td>-3.451836</td>\n",
       "      <td>-8.107719</td>\n",
       "      <td>-9.575041</td>\n",
       "      <td>-2.397757</td>\n",
       "      <td>-7.650092</td>\n",
       "      <td>-0.045809</td>\n",
       "      <td>0.005176</td>\n",
       "    </tr>\n",
       "    <tr>\n",
       "      <th>std</th>\n",
       "      <td>17.394966</td>\n",
       "      <td>14.730360</td>\n",
       "      <td>22.250893</td>\n",
       "      <td>10.964865</td>\n",
       "      <td>28.699998</td>\n",
       "      <td>14.908714</td>\n",
       "      <td>12.060618</td>\n",
       "      <td>28.450092</td>\n",
       "      <td>46.624491</td>\n",
       "      <td>54.147190</td>\n",
       "      <td>22.251927</td>\n",
       "      <td>46.460539</td>\n",
       "      <td>3.148565</td>\n",
       "      <td>2.497672</td>\n",
       "    </tr>\n",
       "    <tr>\n",
       "      <th>min</th>\n",
       "      <td>-109.282700</td>\n",
       "      <td>-83.205575</td>\n",
       "      <td>-157.825203</td>\n",
       "      <td>-163.040201</td>\n",
       "      <td>-314.942529</td>\n",
       "      <td>-129.224270</td>\n",
       "      <td>-88.622754</td>\n",
       "      <td>-235.397317</td>\n",
       "      <td>-663.771712</td>\n",
       "      <td>-1048.387097</td>\n",
       "      <td>-233.875299</td>\n",
       "      <td>-661.572052</td>\n",
       "      <td>-12.576655</td>\n",
       "      <td>-182.000000</td>\n",
       "    </tr>\n",
       "    <tr>\n",
       "      <th>25%</th>\n",
       "      <td>-11.173356</td>\n",
       "      <td>-9.246454</td>\n",
       "      <td>-14.403381</td>\n",
       "      <td>-5.459970</td>\n",
       "      <td>-16.425000</td>\n",
       "      <td>-9.031170</td>\n",
       "      <td>-7.064856</td>\n",
       "      <td>-16.717338</td>\n",
       "      <td>-23.691012</td>\n",
       "      <td>-26.882163</td>\n",
       "      <td>-12.449907</td>\n",
       "      <td>-28.386657</td>\n",
       "      <td>-2.133602</td>\n",
       "      <td>0.000000</td>\n",
       "    </tr>\n",
       "    <tr>\n",
       "      <th>50%</th>\n",
       "      <td>0.394479</td>\n",
       "      <td>0.643160</td>\n",
       "      <td>0.537893</td>\n",
       "      <td>0.000000</td>\n",
       "      <td>0.000000</td>\n",
       "      <td>0.000000</td>\n",
       "      <td>0.000000</td>\n",
       "      <td>0.000000</td>\n",
       "      <td>0.000000</td>\n",
       "      <td>0.000000</td>\n",
       "      <td>0.000000</td>\n",
       "      <td>1.023691</td>\n",
       "      <td>0.036315</td>\n",
       "      <td>0.000000</td>\n",
       "    </tr>\n",
       "    <tr>\n",
       "      <th>75%</th>\n",
       "      <td>10.908716</td>\n",
       "      <td>9.717416</td>\n",
       "      <td>13.513514</td>\n",
       "      <td>5.283041</td>\n",
       "      <td>13.973734</td>\n",
       "      <td>7.949139</td>\n",
       "      <td>6.535948</td>\n",
       "      <td>14.623184</td>\n",
       "      <td>19.249742</td>\n",
       "      <td>22.500019</td>\n",
       "      <td>10.944823</td>\n",
       "      <td>23.186105</td>\n",
       "      <td>2.119065</td>\n",
       "      <td>0.000000</td>\n",
       "    </tr>\n",
       "    <tr>\n",
       "      <th>max</th>\n",
       "      <td>54.131151</td>\n",
       "      <td>45.784566</td>\n",
       "      <td>58.864957</td>\n",
       "      <td>67.401098</td>\n",
       "      <td>72.267537</td>\n",
       "      <td>54.189019</td>\n",
       "      <td>44.578313</td>\n",
       "      <td>73.482284</td>\n",
       "      <td>88.837353</td>\n",
       "      <td>90.411985</td>\n",
       "      <td>69.885542</td>\n",
       "      <td>86.970515</td>\n",
       "      <td>12.373090</td>\n",
       "      <td>189.000000</td>\n",
       "    </tr>\n",
       "  </tbody>\n",
       "</table>\n",
       "</div>"
      ],
      "text/plain": [
       "       AVG_difference_PCT  OBP_difference_PCT  SLG_difference_PCT  \\\n",
       "count        36902.000000        36902.000000        36902.000000   \n",
       "mean            -1.013753           -0.353648           -1.762579   \n",
       "std             17.394966           14.730360           22.250893   \n",
       "min           -109.282700          -83.205575         -157.825203   \n",
       "25%            -11.173356           -9.246454          -14.403381   \n",
       "50%              0.394479            0.643160            0.537893   \n",
       "75%             10.908716            9.717416           13.513514   \n",
       "max             54.131151           45.784566           58.864957   \n",
       "\n",
       "       IP_Start_difference_PCT  ERA_difference_PCT  WHIP_difference_PCT  \\\n",
       "count             36902.000000        36902.000000         36902.000000   \n",
       "mean                 -0.517322           -3.792635            -1.224264   \n",
       "std                  10.964865           28.699998            14.908714   \n",
       "min                -163.040201         -314.942529          -129.224270   \n",
       "25%                  -5.459970          -16.425000            -9.031170   \n",
       "50%                   0.000000            0.000000             0.000000   \n",
       "75%                   5.283041           13.973734             7.949139   \n",
       "max                  67.401098           72.267537            54.189019   \n",
       "\n",
       "       BAA_difference_PCT  K9_difference_PCT  HR9_difference_PCT  \\\n",
       "count        36902.000000       36902.000000        36902.000000   \n",
       "mean            -0.784944          -3.451836           -8.107719   \n",
       "std             12.060618          28.450092           46.624491   \n",
       "min            -88.622754        -235.397317         -663.771712   \n",
       "25%             -7.064856         -16.717338          -23.691012   \n",
       "50%              0.000000           0.000000            0.000000   \n",
       "75%              6.535948          14.623184           19.249742   \n",
       "max             44.578313          73.482284           88.837353   \n",
       "\n",
       "       K/BB_difference_PCT  FIP_difference_PCT  ISO_difference_PCT  \\\n",
       "count         36902.000000        36902.000000        36902.000000   \n",
       "mean             -9.575041           -2.397757           -7.650092   \n",
       "std              54.147190           22.251927           46.460539   \n",
       "min           -1048.387097         -233.875299         -661.572052   \n",
       "25%             -26.882163          -12.449907          -28.386657   \n",
       "50%               0.000000            0.000000            1.023691   \n",
       "75%              22.500019           10.944823           23.186105   \n",
       "max              90.411985           69.885542           86.970515   \n",
       "\n",
       "       ELO_difference_PCT  rest_difference  \n",
       "count        36902.000000     36902.000000  \n",
       "mean            -0.045809         0.005176  \n",
       "std              3.148565         2.497672  \n",
       "min            -12.576655      -182.000000  \n",
       "25%             -2.133602         0.000000  \n",
       "50%              0.036315         0.000000  \n",
       "75%              2.119065         0.000000  \n",
       "max             12.373090       189.000000  "
      ]
     },
     "execution_count": 108,
     "metadata": {},
     "output_type": "execute_result"
    }
   ],
   "source": [
    "x_train.describe()"
   ]
  },
  {
   "cell_type": "code",
   "execution_count": 109,
   "metadata": {},
   "outputs": [
    {
     "data": {
      "text/html": [
       "<div>\n",
       "<style scoped>\n",
       "    .dataframe tbody tr th:only-of-type {\n",
       "        vertical-align: middle;\n",
       "    }\n",
       "\n",
       "    .dataframe tbody tr th {\n",
       "        vertical-align: top;\n",
       "    }\n",
       "\n",
       "    .dataframe thead th {\n",
       "        text-align: right;\n",
       "    }\n",
       "</style>\n",
       "<table border=\"1\" class=\"dataframe\">\n",
       "  <thead>\n",
       "    <tr style=\"text-align: right;\">\n",
       "      <th></th>\n",
       "      <th>AVG_difference_PCT</th>\n",
       "      <th>OBP_difference_PCT</th>\n",
       "      <th>SLG_difference_PCT</th>\n",
       "      <th>IP_Start_difference_PCT</th>\n",
       "      <th>ERA_difference_PCT</th>\n",
       "      <th>WHIP_difference_PCT</th>\n",
       "      <th>BAA_difference_PCT</th>\n",
       "      <th>K9_difference_PCT</th>\n",
       "      <th>HR9_difference_PCT</th>\n",
       "      <th>K/BB_difference_PCT</th>\n",
       "      <th>FIP_difference_PCT</th>\n",
       "      <th>ISO_difference_PCT</th>\n",
       "      <th>ELO_difference_PCT</th>\n",
       "      <th>rest_difference</th>\n",
       "    </tr>\n",
       "  </thead>\n",
       "  <tbody>\n",
       "    <tr>\n",
       "      <th>count</th>\n",
       "      <td>9226.000000</td>\n",
       "      <td>9226.000000</td>\n",
       "      <td>9226.000000</td>\n",
       "      <td>9226.000000</td>\n",
       "      <td>9226.000000</td>\n",
       "      <td>9226.000000</td>\n",
       "      <td>9226.000000</td>\n",
       "      <td>9226.000000</td>\n",
       "      <td>9226.000000</td>\n",
       "      <td>9226.000000</td>\n",
       "      <td>9226.000000</td>\n",
       "      <td>9226.000000</td>\n",
       "      <td>9226.000000</td>\n",
       "      <td>9226.000000</td>\n",
       "    </tr>\n",
       "    <tr>\n",
       "      <th>mean</th>\n",
       "      <td>-0.918526</td>\n",
       "      <td>-0.392223</td>\n",
       "      <td>-1.848003</td>\n",
       "      <td>-0.725574</td>\n",
       "      <td>-3.137996</td>\n",
       "      <td>-0.622726</td>\n",
       "      <td>-0.549185</td>\n",
       "      <td>-3.946884</td>\n",
       "      <td>-8.020901</td>\n",
       "      <td>-11.737532</td>\n",
       "      <td>-1.824391</td>\n",
       "      <td>-8.143427</td>\n",
       "      <td>-0.102615</td>\n",
       "      <td>-0.019185</td>\n",
       "    </tr>\n",
       "    <tr>\n",
       "      <th>std</th>\n",
       "      <td>17.488899</td>\n",
       "      <td>14.844921</td>\n",
       "      <td>22.720465</td>\n",
       "      <td>10.432756</td>\n",
       "      <td>28.532395</td>\n",
       "      <td>14.694322</td>\n",
       "      <td>12.098299</td>\n",
       "      <td>28.308409</td>\n",
       "      <td>46.881884</td>\n",
       "      <td>55.305329</td>\n",
       "      <td>21.896484</td>\n",
       "      <td>47.733615</td>\n",
       "      <td>3.153391</td>\n",
       "      <td>1.842221</td>\n",
       "    </tr>\n",
       "    <tr>\n",
       "      <th>min</th>\n",
       "      <td>-100.687467</td>\n",
       "      <td>-80.906050</td>\n",
       "      <td>-173.263305</td>\n",
       "      <td>-83.898305</td>\n",
       "      <td>-217.307692</td>\n",
       "      <td>-91.175359</td>\n",
       "      <td>-60.674157</td>\n",
       "      <td>-269.458128</td>\n",
       "      <td>-532.543444</td>\n",
       "      <td>-861.419753</td>\n",
       "      <td>-177.535056</td>\n",
       "      <td>-690.004131</td>\n",
       "      <td>-12.576655</td>\n",
       "      <td>-175.000000</td>\n",
       "    </tr>\n",
       "    <tr>\n",
       "      <th>25%</th>\n",
       "      <td>-10.729833</td>\n",
       "      <td>-9.278354</td>\n",
       "      <td>-14.664288</td>\n",
       "      <td>-5.885347</td>\n",
       "      <td>-15.823828</td>\n",
       "      <td>-8.085944</td>\n",
       "      <td>-6.660839</td>\n",
       "      <td>-17.377754</td>\n",
       "      <td>-23.454034</td>\n",
       "      <td>-30.284635</td>\n",
       "      <td>-11.811086</td>\n",
       "      <td>-29.501492</td>\n",
       "      <td>-2.226193</td>\n",
       "      <td>0.000000</td>\n",
       "    </tr>\n",
       "    <tr>\n",
       "      <th>50%</th>\n",
       "      <td>0.499993</td>\n",
       "      <td>0.621195</td>\n",
       "      <td>0.701127</td>\n",
       "      <td>0.000000</td>\n",
       "      <td>0.000000</td>\n",
       "      <td>0.000000</td>\n",
       "      <td>0.000000</td>\n",
       "      <td>0.000000</td>\n",
       "      <td>0.000000</td>\n",
       "      <td>0.000000</td>\n",
       "      <td>0.000000</td>\n",
       "      <td>0.761052</td>\n",
       "      <td>-0.049613</td>\n",
       "      <td>0.000000</td>\n",
       "    </tr>\n",
       "    <tr>\n",
       "      <th>75%</th>\n",
       "      <td>10.896330</td>\n",
       "      <td>9.752750</td>\n",
       "      <td>13.716618</td>\n",
       "      <td>4.999862</td>\n",
       "      <td>14.638685</td>\n",
       "      <td>8.432584</td>\n",
       "      <td>6.746032</td>\n",
       "      <td>13.860532</td>\n",
       "      <td>19.109688</td>\n",
       "      <td>20.349827</td>\n",
       "      <td>11.457180</td>\n",
       "      <td>23.403565</td>\n",
       "      <td>2.064447</td>\n",
       "      <td>0.000000</td>\n",
       "    </tr>\n",
       "    <tr>\n",
       "      <th>max</th>\n",
       "      <td>51.130637</td>\n",
       "      <td>45.409988</td>\n",
       "      <td>57.058195</td>\n",
       "      <td>59.870942</td>\n",
       "      <td>66.526611</td>\n",
       "      <td>49.378578</td>\n",
       "      <td>45.779221</td>\n",
       "      <td>71.481981</td>\n",
       "      <td>81.835443</td>\n",
       "      <td>85.627694</td>\n",
       "      <td>67.449498</td>\n",
       "      <td>81.968811</td>\n",
       "      <td>11.307956</td>\n",
       "      <td>4.000000</td>\n",
       "    </tr>\n",
       "  </tbody>\n",
       "</table>\n",
       "</div>"
      ],
      "text/plain": [
       "       AVG_difference_PCT  OBP_difference_PCT  SLG_difference_PCT  \\\n",
       "count         9226.000000         9226.000000         9226.000000   \n",
       "mean            -0.918526           -0.392223           -1.848003   \n",
       "std             17.488899           14.844921           22.720465   \n",
       "min           -100.687467          -80.906050         -173.263305   \n",
       "25%            -10.729833           -9.278354          -14.664288   \n",
       "50%              0.499993            0.621195            0.701127   \n",
       "75%             10.896330            9.752750           13.716618   \n",
       "max             51.130637           45.409988           57.058195   \n",
       "\n",
       "       IP_Start_difference_PCT  ERA_difference_PCT  WHIP_difference_PCT  \\\n",
       "count              9226.000000         9226.000000          9226.000000   \n",
       "mean                 -0.725574           -3.137996            -0.622726   \n",
       "std                  10.432756           28.532395            14.694322   \n",
       "min                 -83.898305         -217.307692           -91.175359   \n",
       "25%                  -5.885347          -15.823828            -8.085944   \n",
       "50%                   0.000000            0.000000             0.000000   \n",
       "75%                   4.999862           14.638685             8.432584   \n",
       "max                  59.870942           66.526611            49.378578   \n",
       "\n",
       "       BAA_difference_PCT  K9_difference_PCT  HR9_difference_PCT  \\\n",
       "count         9226.000000        9226.000000         9226.000000   \n",
       "mean            -0.549185          -3.946884           -8.020901   \n",
       "std             12.098299          28.308409           46.881884   \n",
       "min            -60.674157        -269.458128         -532.543444   \n",
       "25%             -6.660839         -17.377754          -23.454034   \n",
       "50%              0.000000           0.000000            0.000000   \n",
       "75%              6.746032          13.860532           19.109688   \n",
       "max             45.779221          71.481981           81.835443   \n",
       "\n",
       "       K/BB_difference_PCT  FIP_difference_PCT  ISO_difference_PCT  \\\n",
       "count          9226.000000         9226.000000         9226.000000   \n",
       "mean            -11.737532           -1.824391           -8.143427   \n",
       "std              55.305329           21.896484           47.733615   \n",
       "min            -861.419753         -177.535056         -690.004131   \n",
       "25%             -30.284635          -11.811086          -29.501492   \n",
       "50%               0.000000            0.000000            0.761052   \n",
       "75%              20.349827           11.457180           23.403565   \n",
       "max              85.627694           67.449498           81.968811   \n",
       "\n",
       "       ELO_difference_PCT  rest_difference  \n",
       "count         9226.000000      9226.000000  \n",
       "mean            -0.102615        -0.019185  \n",
       "std              3.153391         1.842221  \n",
       "min            -12.576655      -175.000000  \n",
       "25%             -2.226193         0.000000  \n",
       "50%             -0.049613         0.000000  \n",
       "75%              2.064447         0.000000  \n",
       "max             11.307956         4.000000  "
      ]
     },
     "execution_count": 109,
     "metadata": {},
     "output_type": "execute_result"
    }
   ],
   "source": [
    "x_test.describe()"
   ]
  },
  {
   "cell_type": "markdown",
   "metadata": {},
   "source": [
    "# Random selection models\n",
    "\n",
    "### Logistic regression\n",
    "\n",
    "```\n",
    ">>> from sklearn.model_selection import cross_val_score\n",
    ">>> clf = svm.SVC(kernel='linear', C=1)\n",
    ">>> scores = cross_val_score(clf, X, y, cv=5)\n",
    "```"
   ]
  },
  {
   "cell_type": "code",
   "execution_count": 110,
   "metadata": {},
   "outputs": [],
   "source": [
    "# imports\n",
    "from sklearn.model_selection import cross_val_score\n",
    "from sklearn.linear_model import LogisticRegression\n",
    "import math"
   ]
  },
  {
   "cell_type": "code",
   "execution_count": 111,
   "metadata": {},
   "outputs": [],
   "source": [
    "X = features[0]\n",
    "Y = features[1]"
   ]
  },
  {
   "cell_type": "code",
   "execution_count": 112,
   "metadata": {},
   "outputs": [],
   "source": [
    "x_train, x_test, y_train, y_test = train_test_split(X, Y, train_size = 0.75, random_state = 499)"
   ]
  },
  {
   "cell_type": "code",
   "execution_count": 113,
   "metadata": {},
   "outputs": [],
   "source": [
    "# data: x1_train, x1_test, y1_train, y1_test\n",
    "logit = LogisticRegression(\n",
    "    penalty = 'l2', \n",
    "    fit_intercept = True,\n",
    "    random_state = 499, \n",
    ")"
   ]
  },
  {
   "cell_type": "code",
   "execution_count": 114,
   "metadata": {
    "scrolled": true
   },
   "outputs": [
    {
     "name": "stderr",
     "output_type": "stream",
     "text": [
      "/Library/Frameworks/Python.framework/Versions/3.8/lib/python3.8/site-packages/sklearn/linear_model/_logistic.py:937: ConvergenceWarning: lbfgs failed to converge (status=1):\n",
      "STOP: TOTAL NO. of ITERATIONS REACHED LIMIT.\n",
      "\n",
      "Increase the number of iterations (max_iter) or scale the data as shown in:\n",
      "    https://scikit-learn.org/stable/modules/preprocessing.html.\n",
      "Please also refer to the documentation for alternative solver options:\n",
      "    https://scikit-learn.org/stable/modules/linear_model.html#logistic-regression\n",
      "  n_iter_i = _check_optimize_result(\n"
     ]
    },
    {
     "data": {
      "text/plain": [
       "0.622152850040467"
      ]
     },
     "execution_count": 114,
     "metadata": {},
     "output_type": "execute_result"
    }
   ],
   "source": [
    "logit.fit(x_train, y_train)\n",
    "logit.score(x_train, y_train)"
   ]
  },
  {
   "cell_type": "code",
   "execution_count": 115,
   "metadata": {},
   "outputs": [
    {
     "name": "stderr",
     "output_type": "stream",
     "text": [
      "/Library/Frameworks/Python.framework/Versions/3.8/lib/python3.8/site-packages/sklearn/linear_model/_logistic.py:937: ConvergenceWarning: lbfgs failed to converge (status=1):\n",
      "STOP: TOTAL NO. of ITERATIONS REACHED LIMIT.\n",
      "\n",
      "Increase the number of iterations (max_iter) or scale the data as shown in:\n",
      "    https://scikit-learn.org/stable/modules/preprocessing.html.\n",
      "Please also refer to the documentation for alternative solver options:\n",
      "    https://scikit-learn.org/stable/modules/linear_model.html#logistic-regression\n",
      "  n_iter_i = _check_optimize_result(\n"
     ]
    },
    {
     "name": "stdout",
     "output_type": "stream",
     "text": [
      "Accuracy: 0.622 (+/- 0.019)\n"
     ]
    }
   ],
   "source": [
    "scores = cross_val_score(logit, x_train, y_train, cv=10)\n",
    "print(\"Accuracy: %0.3f (+/- %0.3f)\" % (\n",
    "    scores.mean(), scores.std() * 2))"
   ]
  },
  {
   "cell_type": "code",
   "execution_count": 116,
   "metadata": {},
   "outputs": [
    {
     "data": {
      "text/plain": [
       "0.6265175164758932"
      ]
     },
     "execution_count": 116,
     "metadata": {},
     "output_type": "execute_result"
    }
   ],
   "source": [
    "sum(logit.predict(x_test) == y_test)/len(y_test)"
   ]
  },
  {
   "cell_type": "code",
   "execution_count": 117,
   "metadata": {},
   "outputs": [],
   "source": [
    "# compute logit outcomes\n",
    "def compute_logit_probabilities(logit, x_test):\n",
    "    logit_probs = [math.exp(x)/(1 + math.exp(x)) for x in list((logit.decision_function(x_test)))]\n",
    "    return logit_probs\n",
    "\n",
    "# check lift\n",
    "def compute_lift_probabilities(x_test_probs, y_test, bin_width = 0.05):\n",
    "    '''\n",
    "    bin_width is probability increments\n",
    "    '''\n",
    "    \n",
    "    y_pred = pd.DataFrame(dict(zip(logit_probs, y_test)), \n",
    "                 index = ['y']).T.reset_index().rename({'index': 'yhat'}, axis = 1)\n",
    "    y_pred['buckets'] = y_pred['yhat'].apply(lambda x: round(x/bin_width)*bin_width)\n",
    "    return y_pred"
   ]
  },
  {
   "cell_type": "code",
   "execution_count": 118,
   "metadata": {
    "scrolled": true
   },
   "outputs": [
    {
     "data": {
      "image/png": "[encoded data removed]",
      "text/plain": [
       "<Figure size 432x288 with 1 Axes>"
      ]
     },
     "metadata": {
      "needs_background": "light"
     },
     "output_type": "display_data"
    }
   ],
   "source": [
    "logit_probs = compute_logit_probabilities(logit, x_test)\n",
    "plt.hist(logit_probs)\n",
    "plt.show()"
   ]
  },
  {
   "cell_type": "markdown",
   "metadata": {},
   "source": [
    "### Logit modeling based on time of season"
   ]
  },
  {
   "cell_type": "code",
   "execution_count": 119,
   "metadata": {},
   "outputs": [],
   "source": [
    "x_train, x_test, y_train, y_test = seasonal_train_test_split(X, Y)"
   ]
  },
  {
   "cell_type": "code",
   "execution_count": 120,
   "metadata": {},
   "outputs": [
    {
     "name": "stderr",
     "output_type": "stream",
     "text": [
      "/Library/Frameworks/Python.framework/Versions/3.8/lib/python3.8/site-packages/sklearn/linear_model/_logistic.py:937: ConvergenceWarning: lbfgs failed to converge (status=1):\n",
      "STOP: TOTAL NO. of ITERATIONS REACHED LIMIT.\n",
      "\n",
      "Increase the number of iterations (max_iter) or scale the data as shown in:\n",
      "    https://scikit-learn.org/stable/modules/preprocessing.html.\n",
      "Please also refer to the documentation for alternative solver options:\n",
      "    https://scikit-learn.org/stable/modules/linear_model.html#logistic-regression\n",
      "  n_iter_i = _check_optimize_result(\n"
     ]
    },
    {
     "data": {
      "text/plain": [
       "0.6230200023124061"
      ]
     },
     "execution_count": 120,
     "metadata": {},
     "output_type": "execute_result"
    }
   ],
   "source": [
    "logit.fit(x_train, y_train)\n",
    "logit.score(x_train, y_train)"
   ]
  },
  {
   "cell_type": "code",
   "execution_count": 121,
   "metadata": {},
   "outputs": [
    {
     "name": "stderr",
     "output_type": "stream",
     "text": [
      "/Library/Frameworks/Python.framework/Versions/3.8/lib/python3.8/site-packages/sklearn/linear_model/_logistic.py:937: ConvergenceWarning: lbfgs failed to converge (status=1):\n",
      "STOP: TOTAL NO. of ITERATIONS REACHED LIMIT.\n",
      "\n",
      "Increase the number of iterations (max_iter) or scale the data as shown in:\n",
      "    https://scikit-learn.org/stable/modules/preprocessing.html.\n",
      "Please also refer to the documentation for alternative solver options:\n",
      "    https://scikit-learn.org/stable/modules/linear_model.html#logistic-regression\n",
      "  n_iter_i = _check_optimize_result(\n",
      "/Library/Frameworks/Python.framework/Versions/3.8/lib/python3.8/site-packages/sklearn/linear_model/_logistic.py:937: ConvergenceWarning: lbfgs failed to converge (status=1):\n",
      "STOP: TOTAL NO. of ITERATIONS REACHED LIMIT.\n",
      "\n",
      "Increase the number of iterations (max_iter) or scale the data as shown in:\n",
      "    https://scikit-learn.org/stable/modules/preprocessing.html.\n",
      "Please also refer to the documentation for alternative solver options:\n",
      "    https://scikit-learn.org/stable/modules/linear_model.html#logistic-regression\n",
      "  n_iter_i = _check_optimize_result(\n"
     ]
    },
    {
     "name": "stdout",
     "output_type": "stream",
     "text": [
      "Accuracy: 0.623 (+/- 0.015)\n"
     ]
    },
    {
     "name": "stderr",
     "output_type": "stream",
     "text": [
      "/Library/Frameworks/Python.framework/Versions/3.8/lib/python3.8/site-packages/sklearn/linear_model/_logistic.py:937: ConvergenceWarning: lbfgs failed to converge (status=1):\n",
      "STOP: TOTAL NO. of ITERATIONS REACHED LIMIT.\n",
      "\n",
      "Increase the number of iterations (max_iter) or scale the data as shown in:\n",
      "    https://scikit-learn.org/stable/modules/preprocessing.html.\n",
      "Please also refer to the documentation for alternative solver options:\n",
      "    https://scikit-learn.org/stable/modules/linear_model.html#logistic-regression\n",
      "  n_iter_i = _check_optimize_result(\n"
     ]
    }
   ],
   "source": [
    "scores = cross_val_score(logit, x_train, y_train, cv=5)\n",
    "print(\"Accuracy: %0.3f (+/- %0.3f)\" % (\n",
    "    scores.mean(), scores.std() * 2))"
   ]
  },
  {
   "cell_type": "code",
   "execution_count": 122,
   "metadata": {},
   "outputs": [
    {
     "data": {
      "text/plain": [
       "buckets\n",
       "0.03      7\n",
       "0.06      9\n",
       "0.09     27\n",
       "0.12     45\n",
       "0.15     63\n",
       "0.18     94\n",
       "0.21    118\n",
       "0.24    191\n",
       "0.27    227\n",
       "0.30    296\n",
       "0.33    327\n",
       "0.36    418\n",
       "0.39    476\n",
       "0.42    532\n",
       "0.45    630\n",
       "0.48    713\n",
       "0.51    777\n",
       "0.54    845\n",
       "0.57    865\n",
       "0.60    866\n",
       "0.63    826\n",
       "0.66    769\n",
       "0.69    661\n",
       "0.72    596\n",
       "0.75    486\n",
       "0.78    332\n",
       "0.81    210\n",
       "0.84     85\n",
       "0.87     27\n",
       "0.90      3\n",
       "0.93      1\n",
       "Name: y, dtype: int64"
      ]
     },
     "execution_count": 122,
     "metadata": {},
     "output_type": "execute_result"
    }
   ],
   "source": [
    "logit_probs = [math.exp(x)/(1 + math.exp(x)) for x in list((logit.decision_function(x_test)))]\n",
    "y_pred = compute_lift_probabilities(logit_probs, y_test, bin_width = 0.03)\n",
    "y_pred.groupby('buckets')['y'].count()"
   ]
  },
  {
   "cell_type": "code",
   "execution_count": 123,
   "metadata": {},
   "outputs": [
    {
     "data": {
      "image/png": "[encoded data removed]",
      "text/plain": [
       "<Figure size 432x288 with 1 Axes>"
      ]
     },
     "metadata": {
      "needs_background": "light"
     },
     "output_type": "display_data"
    }
   ],
   "source": [
    "plt.plot(y_pred.groupby('buckets')['y'].mean())\n",
    "plt.xlabel('Model predicted chance of win')\n",
    "plt.ylabel('Likelihood of win')\n",
    "plt.title('More confident model = better lift!')\n",
    "plt.show()"
   ]
  },
  {
   "cell_type": "markdown",
   "metadata": {},
   "source": [
    "### More regularized Logit"
   ]
  },
  {
   "cell_type": "code",
   "execution_count": 837,
   "metadata": {},
   "outputs": [],
   "source": [
    "from sklearn.linear_model import LogisticRegressionCV\n",
    "from sklearn.metrics import brier_score_loss, confusion_matrix, \\\n",
    "    roc_auc_score, roc_curve, auc, average_precision_score, precision_score"
   ]
  },
  {
   "cell_type": "code",
   "execution_count": 838,
   "metadata": {},
   "outputs": [],
   "source": [
    "X, Y = create_features(MLB_DF, False)\n",
    "x_train, x_test, y_train, y_test = seasonal_train_test_split(X, Y) # why standrardscale when you couldn't?\n",
    "\n",
    "\n",
    "# x_train, x_test, y_train, y_test = train_test_split(X, Y, train_size = 0.75, random_state = 499)\n",
    "logitCV = LogisticRegressionCV(cv = 5, random_state = 499)"
   ]
  },
  {
   "cell_type": "code",
   "execution_count": 839,
   "metadata": {},
   "outputs": [
    {
     "data": {
      "text/plain": [
       "LogisticRegressionCV(Cs=10, class_weight=None, cv=5, dual=False,\n",
       "                     fit_intercept=True, intercept_scaling=1.0, l1_ratios=None,\n",
       "                     max_iter=100, multi_class='auto', n_jobs=None,\n",
       "                     penalty='l2', random_state=499, refit=True, scoring=None,\n",
       "                     solver='lbfgs', tol=0.0001, verbose=0)"
      ]
     },
     "execution_count": 839,
     "metadata": {},
     "output_type": "execute_result"
    }
   ],
   "source": [
    "logitCV.fit(x_train, y_train)"
   ]
  },
  {
   "cell_type": "code",
   "execution_count": 840,
   "metadata": {},
   "outputs": [
    {
     "data": {
      "text/plain": [
       "0.6271245230662504"
      ]
     },
     "execution_count": 840,
     "metadata": {},
     "output_type": "execute_result"
    }
   ],
   "source": [
    "logitCV.score(x_test, y_test)"
   ]
  },
  {
   "cell_type": "code",
   "execution_count": 841,
   "metadata": {},
   "outputs": [
    {
     "data": {
      "text/plain": [
       "0.2266955677761798"
      ]
     },
     "execution_count": 841,
     "metadata": {},
     "output_type": "execute_result"
    }
   ],
   "source": [
    "logit_probs = [math.exp(x)/(1 + math.exp(x)) for x in list((logitCV.decision_function(x_test)))]\n",
    "brier_score_loss(y_test, logit_probs)"
   ]
  },
  {
   "cell_type": "code",
   "execution_count": 129,
   "metadata": {},
   "outputs": [
    {
     "data": {
      "text/plain": [
       "array([[2601, 2685],\n",
       "       [1628, 4618]])"
      ]
     },
     "execution_count": 129,
     "metadata": {},
     "output_type": "execute_result"
    }
   ],
   "source": [
    "confusion_matrix(y_test, logitCV.predict(x_test))"
   ]
  },
  {
   "cell_type": "code",
   "execution_count": 130,
   "metadata": {},
   "outputs": [
    {
     "data": {
      "text/plain": [
       "0.6157038347902476"
      ]
     },
     "execution_count": 130,
     "metadata": {},
     "output_type": "execute_result"
    }
   ],
   "source": [
    "roc_auc_score(y_test, logitCV.predict(x_test))"
   ]
  },
  {
   "cell_type": "code",
   "execution_count": 131,
   "metadata": {},
   "outputs": [],
   "source": [
    "fpr, tpr, thresholds = roc_curve(y_test, logit_probs)"
   ]
  },
  {
   "cell_type": "code",
   "execution_count": 132,
   "metadata": {},
   "outputs": [
    {
     "name": "stdout",
     "output_type": "stream",
     "text": [
      "0.6706539328567938\n"
     ]
    },
    {
     "data": {
      "text/plain": [
       "[<matplotlib.lines.Line2D at 0x122b35280>]"
      ]
     },
     "execution_count": 132,
     "metadata": {},
     "output_type": "execute_result"
    },
    {
     "data": {
      "image/png": "[encoded data removed]",
      "text/plain": [
       "<Figure size 432x288 with 1 Axes>"
      ]
     },
     "metadata": {
      "needs_background": "light"
     },
     "output_type": "display_data"
    }
   ],
   "source": [
    "print(auc(fpr, tpr))\n",
    "plt.plot(fpr, tpr)\n",
    "plt.plot([0, 1], [0, 1])"
   ]
  },
  {
   "cell_type": "code",
   "execution_count": 133,
   "metadata": {},
   "outputs": [
    {
     "data": {
      "text/plain": [
       "0.6959398003202922"
      ]
     },
     "execution_count": 133,
     "metadata": {},
     "output_type": "execute_result"
    }
   ],
   "source": [
    "# average prediction\n",
    "average_precision_score(y_test, logit_probs)"
   ]
  },
  {
   "cell_type": "code",
   "execution_count": 134,
   "metadata": {
    "scrolled": true
   },
   "outputs": [
    {
     "data": {
      "text/plain": [
       "0.6323428727920033"
      ]
     },
     "execution_count": 134,
     "metadata": {},
     "output_type": "execute_result"
    }
   ],
   "source": [
    "precision_score(y_test, logitCV.predict(x_test))"
   ]
  },
  {
   "cell_type": "markdown",
   "metadata": {},
   "source": [
    "### Decision tree"
   ]
  },
  {
   "cell_type": "code",
   "execution_count": 135,
   "metadata": {},
   "outputs": [],
   "source": [
    "from sklearn import tree\n",
    "from sklearn.tree import DecisionTreeClassifier"
   ]
  },
  {
   "cell_type": "code",
   "execution_count": 136,
   "metadata": {},
   "outputs": [],
   "source": [
    "clf = DecisionTreeClassifier(max_depth = 5, max_features = 1)"
   ]
  },
  {
   "cell_type": "code",
   "execution_count": 137,
   "metadata": {},
   "outputs": [
    {
     "data": {
      "text/plain": [
       "DecisionTreeClassifier(ccp_alpha=0.0, class_weight=None, criterion='gini',\n",
       "                       max_depth=5, max_features=1, max_leaf_nodes=None,\n",
       "                       min_impurity_decrease=0.0, min_impurity_split=None,\n",
       "                       min_samples_leaf=1, min_samples_split=2,\n",
       "                       min_weight_fraction_leaf=0.0, presort='deprecated',\n",
       "                       random_state=None, splitter='best')"
      ]
     },
     "execution_count": 137,
     "metadata": {},
     "output_type": "execute_result"
    }
   ],
   "source": [
    "clf.fit(x_train, y_train)"
   ]
  },
  {
   "cell_type": "code",
   "execution_count": 138,
   "metadata": {},
   "outputs": [
    {
     "data": {
      "text/plain": [
       "[Text(177.8625, 199.32, 'X[6] <= -2.003\\ngini = 0.497\\nsamples = 34596\\nvalue = [15993, 18603]'),\n",
       " Text(95.65714285714286, 163.07999999999998, 'X[1] <= 1.643\\ngini = 0.489\\nsamples = 13407\\nvalue = [5726, 7681]'),\n",
       " Text(47.82857142857143, 126.83999999999999, 'X[12] <= -7.127\\ngini = 0.498\\nsamples = 6770\\nvalue = [3591, 3179]'),\n",
       " Text(23.914285714285715, 90.6, 'X[10] <= 4.991\\ngini = 0.46\\nsamples = 123\\nvalue = [79, 44]'),\n",
       " Text(11.957142857142857, 54.359999999999985, 'X[2] <= -4.184\\ngini = 0.417\\nsamples = 81\\nvalue = [57, 24]'),\n",
       " Text(5.978571428571429, 18.119999999999976, 'gini = 0.399\\nsamples = 69\\nvalue = [50, 19]'),\n",
       " Text(17.935714285714287, 18.119999999999976, 'gini = 0.486\\nsamples = 12\\nvalue = [7, 5]'),\n",
       " Text(35.871428571428574, 54.359999999999985, 'X[0] <= -8.83\\ngini = 0.499\\nsamples = 42\\nvalue = [22, 20]'),\n",
       " Text(29.892857142857142, 18.119999999999976, 'gini = 0.454\\nsamples = 23\\nvalue = [15, 8]'),\n",
       " Text(41.85, 18.119999999999976, 'gini = 0.465\\nsamples = 19\\nvalue = [7, 12]'),\n",
       " Text(71.74285714285715, 90.6, 'X[0] <= -12.141\\ngini = 0.498\\nsamples = 6647\\nvalue = [3512, 3135]'),\n",
       " Text(59.785714285714285, 54.359999999999985, 'X[0] <= -27.396\\ngini = 0.483\\nsamples = 2779\\nvalue = [1646, 1133]'),\n",
       " Text(53.80714285714286, 18.119999999999976, 'gini = 0.456\\nsamples = 863\\nvalue = [559, 304]'),\n",
       " Text(65.76428571428572, 18.119999999999976, 'gini = 0.491\\nsamples = 1916\\nvalue = [1087, 829]'),\n",
       " Text(83.7, 54.359999999999985, 'X[12] <= -4.602\\ngini = 0.499\\nsamples = 3868\\nvalue = [1866, 2002]'),\n",
       " Text(77.72142857142858, 18.119999999999976, 'gini = 0.483\\nsamples = 233\\nvalue = [95, 138]'),\n",
       " Text(89.67857142857143, 18.119999999999976, 'gini = 0.5\\nsamples = 3635\\nvalue = [1771, 1864]'),\n",
       " Text(143.4857142857143, 126.83999999999999, 'X[8] <= -73.645\\ngini = 0.436\\nsamples = 6637\\nvalue = [2135, 4502]'),\n",
       " Text(119.57142857142857, 90.6, 'X[5] <= -52.346\\ngini = 0.402\\nsamples = 962\\nvalue = [268, 694]'),\n",
       " Text(107.61428571428571, 54.359999999999985, 'X[1] <= 11.749\\ngini = 0.468\\nsamples = 59\\nvalue = [22, 37]'),\n",
       " Text(101.63571428571429, 18.119999999999976, 'gini = 0.497\\nsamples = 24\\nvalue = [13, 11]'),\n",
       " Text(113.59285714285714, 18.119999999999976, 'gini = 0.382\\nsamples = 35\\nvalue = [9, 26]'),\n",
       " Text(131.52857142857144, 54.359999999999985, 'X[0] <= 0.961\\ngini = 0.396\\nsamples = 903\\nvalue = [246, 657]'),\n",
       " Text(125.55, 18.119999999999976, 'gini = 0.489\\nsamples = 124\\nvalue = [53, 71]'),\n",
       " Text(137.50714285714287, 18.119999999999976, 'gini = 0.373\\nsamples = 779\\nvalue = [193, 586]'),\n",
       " Text(167.4, 90.6, 'X[8] <= -67.4\\ngini = 0.442\\nsamples = 5675\\nvalue = [1867, 3808]'),\n",
       " Text(155.44285714285715, 54.359999999999985, 'X[1] <= 11.055\\ngini = 0.494\\nsamples = 126\\nvalue = [56, 70]'),\n",
       " Text(149.46428571428572, 18.119999999999976, 'gini = 0.499\\nsamples = 63\\nvalue = [33, 30]'),\n",
       " Text(161.42142857142858, 18.119999999999976, 'gini = 0.464\\nsamples = 63\\nvalue = [23, 40]'),\n",
       " Text(179.35714285714286, 54.359999999999985, 'X[0] <= 13.271\\ngini = 0.44\\nsamples = 5549\\nvalue = [1811, 3738]'),\n",
       " Text(173.37857142857143, 18.119999999999976, 'gini = 0.47\\nsamples = 3161\\nvalue = [1196, 1965]'),\n",
       " Text(185.3357142857143, 18.119999999999976, 'gini = 0.382\\nsamples = 2388\\nvalue = [615, 1773]'),\n",
       " Text(260.0678571428571, 163.07999999999998, 'X[10] <= 10.632\\ngini = 0.5\\nsamples = 21189\\nvalue = [10267, 10922]'),\n",
       " Text(230.175, 126.83999999999999, 'X[13] <= 0.5\\ngini = 0.497\\nsamples = 13965\\nvalue = [6425, 7540]'),\n",
       " Text(215.22857142857143, 90.6, 'X[12] <= 1.257\\ngini = 0.497\\nsamples = 13495\\nvalue = [6231, 7264]'),\n",
       " Text(203.27142857142857, 54.359999999999985, 'X[10] <= -18.74\\ngini = 0.5\\nsamples = 8865\\nvalue = [4370, 4495]'),\n",
       " Text(197.29285714285714, 18.119999999999976, 'gini = 0.492\\nsamples = 878\\nvalue = [383, 495]'),\n",
       " Text(209.25, 18.119999999999976, 'gini = 0.5\\nsamples = 7987\\nvalue = [3987, 4000]'),\n",
       " Text(227.18571428571428, 54.359999999999985, 'X[2] <= -0.049\\ngini = 0.481\\nsamples = 4630\\nvalue = [1861, 2769]'),\n",
       " Text(221.20714285714286, 18.119999999999976, 'gini = 0.495\\nsamples = 1534\\nvalue = [846, 688]'),\n",
       " Text(233.1642857142857, 18.119999999999976, 'gini = 0.441\\nsamples = 3096\\nvalue = [1015, 2081]'),\n",
       " Text(245.12142857142857, 90.6, 'X[4] <= -42.56\\ngini = 0.485\\nsamples = 470\\nvalue = [194, 276]'),\n",
       " Text(239.14285714285714, 54.359999999999985, 'gini = 0.0\\nsamples = 4\\nvalue = [4, 0]'),\n",
       " Text(251.1, 54.359999999999985, 'X[13] <= 1.5\\ngini = 0.483\\nsamples = 466\\nvalue = [190, 276]'),\n",
       " Text(245.12142857142857, 18.119999999999976, 'gini = 0.482\\nsamples = 461\\nvalue = [187, 274]'),\n",
       " Text(257.0785714285714, 18.119999999999976, 'gini = 0.48\\nsamples = 5\\nvalue = [3, 2]'),\n",
       " Text(289.9607142857143, 126.83999999999999, 'X[3] <= -2.71\\ngini = 0.498\\nsamples = 7224\\nvalue = [3842, 3382]'),\n",
       " Text(269.0357142857143, 90.6, 'X[13] <= -3.0\\ngini = 0.497\\nsamples = 4911\\nvalue = [2653, 2258]'),\n",
       " Text(263.0571428571429, 54.359999999999985, 'gini = 0.0\\nsamples = 2\\nvalue = [2, 0]'),\n",
       " Text(275.01428571428573, 54.359999999999985, 'X[10] <= 24.128\\ngini = 0.497\\nsamples = 4909\\nvalue = [2651, 2258]'),\n",
       " Text(269.0357142857143, 18.119999999999976, 'gini = 0.499\\nsamples = 2914\\nvalue = [1518, 1396]'),\n",
       " Text(280.99285714285713, 18.119999999999976, 'gini = 0.491\\nsamples = 1995\\nvalue = [1133, 862]'),\n",
       " Text(310.8857142857143, 90.6, 'X[9] <= -76.97\\ngini = 0.5\\nsamples = 2313\\nvalue = [1189, 1124]'),\n",
       " Text(298.92857142857144, 54.359999999999985, 'X[13] <= -0.5\\ngini = 0.489\\nsamples = 390\\nvalue = [224, 166]'),\n",
       " Text(292.95, 18.119999999999976, 'gini = 0.426\\nsamples = 13\\nvalue = [9, 4]'),\n",
       " Text(304.90714285714284, 18.119999999999976, 'gini = 0.49\\nsamples = 377\\nvalue = [215, 162]'),\n",
       " Text(322.84285714285716, 54.359999999999985, 'X[12] <= -2.47\\ngini = 0.5\\nsamples = 1923\\nvalue = [965, 958]'),\n",
       " Text(316.8642857142857, 18.119999999999976, 'gini = 0.483\\nsamples = 568\\nvalue = [336, 232]'),\n",
       " Text(328.82142857142856, 18.119999999999976, 'gini = 0.497\\nsamples = 1355\\nvalue = [629, 726]')]"
      ]
     },
     "execution_count": 138,
     "metadata": {},
     "output_type": "execute_result"
    },
    {
     "data": {
      "image/png": "[encoded data removed]",
      "text/plain": [
       "<Figure size 432x288 with 1 Axes>"
      ]
     },
     "metadata": {
      "needs_background": "light"
     },
     "output_type": "display_data"
    }
   ],
   "source": [
    "# Initial tree too much \n",
    "tree.plot_tree(clf.fit(x_train, y_train))"
   ]
  },
  {
   "cell_type": "code",
   "execution_count": 139,
   "metadata": {
    "scrolled": true
   },
   "outputs": [
    {
     "data": {
      "text/plain": [
       "[Text(167.4, 199.32, 'X[11] <= 7.474\\ngini = 0.497\\nsamples = 34596\\nvalue = [15993, 18603]'),\n",
       " Text(83.7, 163.07999999999998, 'X[2] <= -13.458\\ngini = 0.498\\nsamples = 19777\\nvalue = [10578, 9199]'),\n",
       " Text(41.85, 126.83999999999999, 'X[0] <= -27.422\\ngini = 0.467\\nsamples = 8993\\nvalue = [5649, 3344]'),\n",
       " Text(20.925, 90.6, 'X[1] <= -33.941\\ngini = 0.413\\nsamples = 2277\\nvalue = [1613, 664]'),\n",
       " Text(10.4625, 54.359999999999985, 'X[9] <= 63.253\\ngini = 0.324\\nsamples = 601\\nvalue = [479, 122]'),\n",
       " Text(5.23125, 18.119999999999976, 'gini = 0.316\\nsamples = 594\\nvalue = [477, 117]'),\n",
       " Text(15.693750000000001, 18.119999999999976, 'gini = 0.408\\nsamples = 7\\nvalue = [2, 5]'),\n",
       " Text(31.387500000000003, 54.359999999999985, 'X[9] <= 54.44\\ngini = 0.438\\nsamples = 1676\\nvalue = [1134, 542]'),\n",
       " Text(26.15625, 18.119999999999976, 'gini = 0.432\\nsamples = 1627\\nvalue = [1113, 514]'),\n",
       " Text(36.61875, 18.119999999999976, 'gini = 0.49\\nsamples = 49\\nvalue = [21, 28]'),\n",
       " Text(62.775000000000006, 90.6, 'X[5] <= 12.938\\ngini = 0.48\\nsamples = 6716\\nvalue = [4036, 2680]'),\n",
       " Text(52.3125, 54.359999999999985, 'X[10] <= -7.528\\ngini = 0.486\\nsamples = 5624\\nvalue = [3290, 2334]'),\n",
       " Text(47.081250000000004, 18.119999999999976, 'gini = 0.496\\nsamples = 1960\\nvalue = [1064, 896]'),\n",
       " Text(57.54375, 18.119999999999976, 'gini = 0.477\\nsamples = 3664\\nvalue = [2226, 1438]'),\n",
       " Text(73.2375, 54.359999999999985, 'X[9] <= -63.496\\ngini = 0.433\\nsamples = 1092\\nvalue = [746, 346]'),\n",
       " Text(68.00625000000001, 18.119999999999976, 'gini = 0.454\\nsamples = 534\\nvalue = [348, 186]'),\n",
       " Text(78.46875, 18.119999999999976, 'gini = 0.409\\nsamples = 558\\nvalue = [398, 160]'),\n",
       " Text(125.55000000000001, 126.83999999999999, 'X[2] <= -0.581\\ngini = 0.496\\nsamples = 10784\\nvalue = [4929, 5855]'),\n",
       " Text(104.625, 90.6, 'X[1] <= 1.978\\ngini = 0.5\\nsamples = 6339\\nvalue = [3174, 3165]'),\n",
       " Text(94.16250000000001, 54.359999999999985, 'X[0] <= -6.347\\ngini = 0.497\\nsamples = 4135\\nvalue = [2221, 1914]'),\n",
       " Text(88.93125, 18.119999999999976, 'gini = 0.492\\nsamples = 1665\\nvalue = [938, 727]'),\n",
       " Text(99.39375, 18.119999999999976, 'gini = 0.499\\nsamples = 2470\\nvalue = [1283, 1187]'),\n",
       " Text(115.0875, 54.359999999999985, 'X[7] <= 13.435\\ngini = 0.491\\nsamples = 2204\\nvalue = [953, 1251]'),\n",
       " Text(109.85625, 18.119999999999976, 'gini = 0.496\\nsamples = 1643\\nvalue = [751, 892]'),\n",
       " Text(120.31875000000001, 18.119999999999976, 'gini = 0.461\\nsamples = 561\\nvalue = [202, 359]'),\n",
       " Text(146.475, 90.6, 'X[0] <= 14.776\\ngini = 0.478\\nsamples = 4445\\nvalue = [1755, 2690]'),\n",
       " Text(136.01250000000002, 54.359999999999985, 'X[11] <= 7.335\\ngini = 0.491\\nsamples = 2883\\nvalue = [1250, 1633]'),\n",
       " Text(130.78125, 18.119999999999976, 'gini = 0.491\\nsamples = 2855\\nvalue = [1231, 1624]'),\n",
       " Text(141.24375, 18.119999999999976, 'gini = 0.436\\nsamples = 28\\nvalue = [19, 9]'),\n",
       " Text(156.9375, 54.359999999999985, 'X[1] <= 11.687\\ngini = 0.438\\nsamples = 1562\\nvalue = [505, 1057]'),\n",
       " Text(151.70625, 18.119999999999976, 'gini = 0.477\\nsamples = 487\\nvalue = [191, 296]'),\n",
       " Text(162.16875000000002, 18.119999999999976, 'gini = 0.414\\nsamples = 1075\\nvalue = [314, 761]'),\n",
       " Text(251.10000000000002, 163.07999999999998, 'X[0] <= 8.431\\ngini = 0.464\\nsamples = 14819\\nvalue = [5415, 9404]'),\n",
       " Text(209.25, 126.83999999999999, 'X[9] <= -25.033\\ngini = 0.493\\nsamples = 8033\\nvalue = [3541, 4492]'),\n",
       " Text(188.32500000000002, 90.6, 'X[7] <= -34.86\\ngini = 0.5\\nsamples = 2038\\nvalue = [1003, 1035]'),\n",
       " Text(177.8625, 54.359999999999985, 'X[5] <= 31.317\\ngini = 0.494\\nsamples = 585\\nvalue = [324, 261]'),\n",
       " Text(172.63125, 18.119999999999976, 'gini = 0.491\\nsamples = 560\\nvalue = [317, 243]'),\n",
       " Text(183.09375, 18.119999999999976, 'gini = 0.403\\nsamples = 25\\nvalue = [7, 18]'),\n",
       " Text(198.7875, 54.359999999999985, 'X[0] <= -12.338\\ngini = 0.498\\nsamples = 1453\\nvalue = [679, 774]'),\n",
       " Text(193.55625, 18.119999999999976, 'gini = 0.487\\nsamples = 274\\nvalue = [159, 115]'),\n",
       " Text(204.01875, 18.119999999999976, 'gini = 0.493\\nsamples = 1179\\nvalue = [520, 659]'),\n",
       " Text(230.175, 90.6, 'X[10] <= -25.388\\ngini = 0.488\\nsamples = 5995\\nvalue = [2538, 3457]'),\n",
       " Text(219.7125, 54.359999999999985, 'X[11] <= 30.138\\ngini = 0.457\\nsamples = 1038\\nvalue = [366, 672]'),\n",
       " Text(214.48125000000002, 18.119999999999976, 'gini = 0.474\\nsamples = 696\\nvalue = [268, 428]'),\n",
       " Text(224.94375, 18.119999999999976, 'gini = 0.409\\nsamples = 342\\nvalue = [98, 244]'),\n",
       " Text(240.63750000000002, 54.359999999999985, 'X[1] <= -5.411\\ngini = 0.492\\nsamples = 4957\\nvalue = [2172, 2785]'),\n",
       " Text(235.40625, 18.119999999999976, 'gini = 0.495\\nsamples = 1609\\nvalue = [881, 728]'),\n",
       " Text(245.86875, 18.119999999999976, 'gini = 0.474\\nsamples = 3348\\nvalue = [1291, 2057]'),\n",
       " Text(292.95, 126.83999999999999, 'X[5] <= -3.27\\ngini = 0.4\\nsamples = 6786\\nvalue = [1874, 4912]'),\n",
       " Text(272.02500000000003, 90.6, 'X[0] <= 23.055\\ngini = 0.363\\nsamples = 2679\\nvalue = [638, 2041]'),\n",
       " Text(261.5625, 54.359999999999985, 'X[11] <= 30.744\\ngini = 0.388\\nsamples = 1963\\nvalue = [518, 1445]'),\n",
       " Text(256.33125, 18.119999999999976, 'gini = 0.415\\nsamples = 1006\\nvalue = [295, 711]'),\n",
       " Text(266.79375, 18.119999999999976, 'gini = 0.357\\nsamples = 957\\nvalue = [223, 734]'),\n",
       " Text(282.4875, 54.359999999999985, 'X[2] <= 36.635\\ngini = 0.279\\nsamples = 716\\nvalue = [120, 596]'),\n",
       " Text(277.25625, 18.119999999999976, 'gini = 0.305\\nsamples = 521\\nvalue = [98, 423]'),\n",
       " Text(287.71875, 18.119999999999976, 'gini = 0.2\\nsamples = 195\\nvalue = [22, 173]'),\n",
       " Text(313.875, 90.6, 'X[1] <= 14.674\\ngini = 0.421\\nsamples = 4107\\nvalue = [1236, 2871]'),\n",
       " Text(303.4125, 54.359999999999985, 'X[8] <= -76.097\\ngini = 0.456\\nsamples = 2102\\nvalue = [739, 1363]'),\n",
       " Text(298.18125000000003, 18.119999999999976, 'gini = 0.341\\nsamples = 78\\nvalue = [17, 61]'),\n",
       " Text(308.64375, 18.119999999999976, 'gini = 0.459\\nsamples = 2024\\nvalue = [722, 1302]'),\n",
       " Text(324.33750000000003, 54.359999999999985, 'X[11] <= 64.027\\ngini = 0.373\\nsamples = 2005\\nvalue = [497, 1508]'),\n",
       " Text(319.10625, 18.119999999999976, 'gini = 0.382\\nsamples = 1921\\nvalue = [493, 1428]'),\n",
       " Text(329.56875, 18.119999999999976, 'gini = 0.091\\nsamples = 84\\nvalue = [4, 80]')]"
      ]
     },
     "execution_count": 139,
     "metadata": {},
     "output_type": "execute_result"
    },
    {
     "data": {
      "image/png": "[encoded data removed]",
      "text/plain": [
       "<Figure size 432x288 with 1 Axes>"
      ]
     },
     "metadata": {
      "needs_background": "light"
     },
     "output_type": "display_data"
    }
   ],
   "source": [
    "# TUNING\n",
    "clf = DecisionTreeClassifier(max_depth = 5, max_features = 'log2', min_samples_split = 100, random_state = 499)\n",
    "tree.plot_tree(clf.fit(x_train, y_train))"
   ]
  },
  {
   "cell_type": "code",
   "execution_count": 182,
   "metadata": {},
   "outputs": [
    {
     "ename": "AttributeError",
     "evalue": "'numpy.ndarray' object has no attribute 'columns'",
     "output_type": "error",
     "traceback": [
      "\u001b[0;31m---------------------------------------------------------------------------\u001b[0m",
      "\u001b[0;31mAttributeError\u001b[0m                            Traceback (most recent call last)",
      "\u001b[0;32m<ipython-input-182-e0a65fb76148>\u001b[0m in \u001b[0;36m<module>\u001b[0;34m\u001b[0m\n\u001b[1;32m      1\u001b[0m \u001b[0mclf\u001b[0m\u001b[0;34m.\u001b[0m\u001b[0mfit\u001b[0m\u001b[0;34m(\u001b[0m\u001b[0mx_train\u001b[0m\u001b[0;34m,\u001b[0m \u001b[0my_train\u001b[0m\u001b[0;34m)\u001b[0m\u001b[0;34m\u001b[0m\u001b[0;34m\u001b[0m\u001b[0m\n\u001b[0;32m----> 2\u001b[0;31m \u001b[0mpd\u001b[0m\u001b[0;34m.\u001b[0m\u001b[0mSeries\u001b[0m\u001b[0;34m(\u001b[0m\u001b[0mclf\u001b[0m\u001b[0;34m.\u001b[0m\u001b[0mfeature_importances_\u001b[0m\u001b[0;34m,\u001b[0m \u001b[0mindex\u001b[0m \u001b[0;34m=\u001b[0m \u001b[0mx_train\u001b[0m\u001b[0;34m.\u001b[0m\u001b[0mcolumns\u001b[0m\u001b[0;34m)\u001b[0m\u001b[0;34m.\u001b[0m\u001b[0msort_values\u001b[0m\u001b[0;34m(\u001b[0m\u001b[0mascending\u001b[0m \u001b[0;34m=\u001b[0m \u001b[0;32mFalse\u001b[0m\u001b[0;34m)\u001b[0m\u001b[0;34m\u001b[0m\u001b[0;34m\u001b[0m\u001b[0m\n\u001b[0m",
      "\u001b[0;31mAttributeError\u001b[0m: 'numpy.ndarray' object has no attribute 'columns'"
     ]
    }
   ],
   "source": [
    "clf.fit(x_train, y_train)\n",
    "pd.Series(clf.feature_importances_, index = x_train.columns).sort_values(ascending = False)"
   ]
  },
  {
   "cell_type": "code",
   "execution_count": 142,
   "metadata": {},
   "outputs": [
    {
     "data": {
      "text/plain": [
       "AVG_difference_PCT    0.43\n",
       "OBP_difference_PCT    0.43\n",
       "SLG_difference_PCT    0.86\n",
       "ISO_difference_PCT    1.00\n",
       "ELO_difference_PCT    0.28\n",
       "Name: ISO_difference_PCT, dtype: float64"
      ]
     },
     "execution_count": 142,
     "metadata": {},
     "output_type": "execute_result"
    }
   ],
   "source": [
    "\n",
    "# # correlation plots\n",
    "# plt.figure(figsize=(8,8))\n",
    "cor = x_train.corr()\n",
    "cor = cor.apply(lambda x: round(100*x)/100)\n",
    "# sns.heatmap(cor, annot=True, cmap=plt.cm.Reds)\n",
    "# plt.show()\n",
    "#Correlation with output variable\n",
    "cor_target = abs(cor['ISO_difference_PCT'])\n",
    "#Selecting highly correlated features\n",
    "relevant_features = cor_target[cor_target >= 0.2]\n",
    "relevant_features"
   ]
  },
  {
   "cell_type": "code",
   "execution_count": 144,
   "metadata": {},
   "outputs": [
    {
     "data": {
      "text/plain": [
       "IP_Start_difference_PCT    0.42\n",
       "ERA_difference_PCT         0.76\n",
       "WHIP_difference_PCT        0.72\n",
       "BAA_difference_PCT         0.56\n",
       "K9_difference_PCT          0.50\n",
       "HR9_difference_PCT         0.73\n",
       "K/BB_difference_PCT        0.59\n",
       "FIP_difference_PCT         1.00\n",
       "Name: FIP_difference_PCT, dtype: float64"
      ]
     },
     "execution_count": 144,
     "metadata": {},
     "output_type": "execute_result"
    }
   ],
   "source": [
    "cor_target = abs(cor['FIP_difference_PCT'])\n",
    "#Selecting highly correlated features\n",
    "relevant_features = cor_target[cor_target >= 0.2]\n",
    "relevant_features"
   ]
  },
  {
   "cell_type": "code",
   "execution_count": 146,
   "metadata": {},
   "outputs": [],
   "source": [
    "# Drop ERA, AVG, SLG\n",
    "x_train = x_train.drop(labels = ['ERA_difference_PCT', 'AVG_difference_PCT', 'SLG_difference_PCT'],\n",
    "                      axis = 1)\n",
    "x_test = x_test.drop(labels = ['ERA_difference_PCT', 'AVG_difference_PCT', 'SLG_difference_PCT'],\n",
    "                    axis = 1)"
   ]
  },
  {
   "cell_type": "code",
   "execution_count": 148,
   "metadata": {},
   "outputs": [],
   "source": [
    "clf = DecisionTreeClassifier(max_depth = 5, max_features = 'log2', min_samples_split = 100, random_state = 499)"
   ]
  },
  {
   "cell_type": "code",
   "execution_count": 149,
   "metadata": {
    "scrolled": true
   },
   "outputs": [
    {
     "data": {
      "text/plain": [
       "DecisionTreeClassifier(ccp_alpha=0.0, class_weight=None, criterion='gini',\n",
       "                       max_depth=5, max_features='log2', max_leaf_nodes=None,\n",
       "                       min_impurity_decrease=0.0, min_impurity_split=None,\n",
       "                       min_samples_leaf=1, min_samples_split=100,\n",
       "                       min_weight_fraction_leaf=0.0, presort='deprecated',\n",
       "                       random_state=499, splitter='best')"
      ]
     },
     "execution_count": 149,
     "metadata": {},
     "output_type": "execute_result"
    }
   ],
   "source": [
    "clf.fit(x_train, y_train)"
   ]
  },
  {
   "cell_type": "markdown",
   "metadata": {},
   "source": [
    "OBP is much more important; pitchers still not super important"
   ]
  },
  {
   "cell_type": "code",
   "execution_count": 152,
   "metadata": {},
   "outputs": [
    {
     "data": {
      "text/plain": [
       "ISO_difference_PCT         0.508794\n",
       "OBP_difference_PCT         0.345115\n",
       "ELO_difference_PCT         0.060085\n",
       "FIP_difference_PCT         0.038090\n",
       "WHIP_difference_PCT        0.027931\n",
       "K9_difference_PCT          0.007712\n",
       "HR9_difference_PCT         0.007074\n",
       "BAA_difference_PCT         0.003164\n",
       "IP_Start_difference_PCT    0.002036\n",
       "rest_difference            0.000000\n",
       "K/BB_difference_PCT        0.000000\n",
       "dtype: float64"
      ]
     },
     "execution_count": 152,
     "metadata": {},
     "output_type": "execute_result"
    }
   ],
   "source": [
    "pd.Series(clf.feature_importances_, index = x_train.columns).sort_values(ascending = False)"
   ]
  },
  {
   "cell_type": "code",
   "execution_count": 153,
   "metadata": {},
   "outputs": [
    {
     "data": {
      "text/html": [
       "<div>\n",
       "<style scoped>\n",
       "    .dataframe tbody tr th:only-of-type {\n",
       "        vertical-align: middle;\n",
       "    }\n",
       "\n",
       "    .dataframe tbody tr th {\n",
       "        vertical-align: top;\n",
       "    }\n",
       "\n",
       "    .dataframe thead th {\n",
       "        text-align: right;\n",
       "    }\n",
       "</style>\n",
       "<table border=\"1\" class=\"dataframe\">\n",
       "  <thead>\n",
       "    <tr style=\"text-align: right;\">\n",
       "      <th></th>\n",
       "      <th>OBP_difference_PCT</th>\n",
       "      <th>IP_Start_difference_PCT</th>\n",
       "      <th>WHIP_difference_PCT</th>\n",
       "      <th>BAA_difference_PCT</th>\n",
       "      <th>K9_difference_PCT</th>\n",
       "      <th>HR9_difference_PCT</th>\n",
       "      <th>K/BB_difference_PCT</th>\n",
       "      <th>FIP_difference_PCT</th>\n",
       "      <th>ISO_difference_PCT</th>\n",
       "      <th>ELO_difference_PCT</th>\n",
       "      <th>rest_difference</th>\n",
       "    </tr>\n",
       "  </thead>\n",
       "  <tbody>\n",
       "    <tr>\n",
       "      <th>count</th>\n",
       "      <td>34596.000000</td>\n",
       "      <td>34596.000000</td>\n",
       "      <td>34596.000000</td>\n",
       "      <td>34596.000000</td>\n",
       "      <td>34596.000000</td>\n",
       "      <td>34596.000000</td>\n",
       "      <td>34596.000000</td>\n",
       "      <td>34596.000000</td>\n",
       "      <td>34596.000000</td>\n",
       "      <td>34596.000000</td>\n",
       "      <td>34596.000000</td>\n",
       "    </tr>\n",
       "    <tr>\n",
       "      <th>mean</th>\n",
       "      <td>-0.397229</td>\n",
       "      <td>-0.521805</td>\n",
       "      <td>-1.216848</td>\n",
       "      <td>-0.784481</td>\n",
       "      <td>-3.446609</td>\n",
       "      <td>-8.081267</td>\n",
       "      <td>-9.526723</td>\n",
       "      <td>-2.388085</td>\n",
       "      <td>-7.749875</td>\n",
       "      <td>-0.051156</td>\n",
       "      <td>0.004625</td>\n",
       "    </tr>\n",
       "    <tr>\n",
       "      <th>std</th>\n",
       "      <td>14.736830</td>\n",
       "      <td>10.983565</td>\n",
       "      <td>14.884256</td>\n",
       "      <td>12.054727</td>\n",
       "      <td>28.459802</td>\n",
       "      <td>46.702485</td>\n",
       "      <td>54.111587</td>\n",
       "      <td>22.240203</td>\n",
       "      <td>46.552923</td>\n",
       "      <td>3.151346</td>\n",
       "      <td>2.578504</td>\n",
       "    </tr>\n",
       "    <tr>\n",
       "      <th>min</th>\n",
       "      <td>-83.205575</td>\n",
       "      <td>-163.040201</td>\n",
       "      <td>-129.224270</td>\n",
       "      <td>-73.846154</td>\n",
       "      <td>-235.397317</td>\n",
       "      <td>-663.771712</td>\n",
       "      <td>-1048.387097</td>\n",
       "      <td>-233.875299</td>\n",
       "      <td>-661.572052</td>\n",
       "      <td>-12.135189</td>\n",
       "      <td>-182.000000</td>\n",
       "    </tr>\n",
       "    <tr>\n",
       "      <th>25%</th>\n",
       "      <td>-9.308812</td>\n",
       "      <td>-5.458710</td>\n",
       "      <td>-9.029393</td>\n",
       "      <td>-7.078273</td>\n",
       "      <td>-16.596308</td>\n",
       "      <td>-23.691376</td>\n",
       "      <td>-26.845641</td>\n",
       "      <td>-12.428205</td>\n",
       "      <td>-28.591211</td>\n",
       "      <td>-2.144392</td>\n",
       "      <td>0.000000</td>\n",
       "    </tr>\n",
       "    <tr>\n",
       "      <th>50%</th>\n",
       "      <td>0.639335</td>\n",
       "      <td>0.000000</td>\n",
       "      <td>0.000000</td>\n",
       "      <td>0.000000</td>\n",
       "      <td>0.000000</td>\n",
       "      <td>0.000000</td>\n",
       "      <td>0.000000</td>\n",
       "      <td>0.000000</td>\n",
       "      <td>0.955902</td>\n",
       "      <td>0.033507</td>\n",
       "      <td>0.000000</td>\n",
       "    </tr>\n",
       "    <tr>\n",
       "      <th>75%</th>\n",
       "      <td>9.688943</td>\n",
       "      <td>5.288462</td>\n",
       "      <td>7.937258</td>\n",
       "      <td>6.546400</td>\n",
       "      <td>14.625132</td>\n",
       "      <td>19.395175</td>\n",
       "      <td>22.423865</td>\n",
       "      <td>10.943777</td>\n",
       "      <td>23.157056</td>\n",
       "      <td>2.115568</td>\n",
       "      <td>0.000000</td>\n",
       "    </tr>\n",
       "    <tr>\n",
       "      <th>max</th>\n",
       "      <td>45.784566</td>\n",
       "      <td>67.401098</td>\n",
       "      <td>54.189019</td>\n",
       "      <td>44.578313</td>\n",
       "      <td>73.482284</td>\n",
       "      <td>88.837353</td>\n",
       "      <td>90.411985</td>\n",
       "      <td>69.885542</td>\n",
       "      <td>86.970515</td>\n",
       "      <td>12.373090</td>\n",
       "      <td>189.000000</td>\n",
       "    </tr>\n",
       "  </tbody>\n",
       "</table>\n",
       "</div>"
      ],
      "text/plain": [
       "       OBP_difference_PCT  IP_Start_difference_PCT  WHIP_difference_PCT  \\\n",
       "count        34596.000000             34596.000000         34596.000000   \n",
       "mean            -0.397229                -0.521805            -1.216848   \n",
       "std             14.736830                10.983565            14.884256   \n",
       "min            -83.205575              -163.040201          -129.224270   \n",
       "25%             -9.308812                -5.458710            -9.029393   \n",
       "50%              0.639335                 0.000000             0.000000   \n",
       "75%              9.688943                 5.288462             7.937258   \n",
       "max             45.784566                67.401098            54.189019   \n",
       "\n",
       "       BAA_difference_PCT  K9_difference_PCT  HR9_difference_PCT  \\\n",
       "count        34596.000000       34596.000000        34596.000000   \n",
       "mean            -0.784481          -3.446609           -8.081267   \n",
       "std             12.054727          28.459802           46.702485   \n",
       "min            -73.846154        -235.397317         -663.771712   \n",
       "25%             -7.078273         -16.596308          -23.691376   \n",
       "50%              0.000000           0.000000            0.000000   \n",
       "75%              6.546400          14.625132           19.395175   \n",
       "max             44.578313          73.482284           88.837353   \n",
       "\n",
       "       K/BB_difference_PCT  FIP_difference_PCT  ISO_difference_PCT  \\\n",
       "count         34596.000000        34596.000000        34596.000000   \n",
       "mean             -9.526723           -2.388085           -7.749875   \n",
       "std              54.111587           22.240203           46.552923   \n",
       "min           -1048.387097         -233.875299         -661.572052   \n",
       "25%             -26.845641          -12.428205          -28.591211   \n",
       "50%               0.000000            0.000000            0.955902   \n",
       "75%              22.423865           10.943777           23.157056   \n",
       "max              90.411985           69.885542           86.970515   \n",
       "\n",
       "       ELO_difference_PCT  rest_difference  \n",
       "count        34596.000000     34596.000000  \n",
       "mean            -0.051156         0.004625  \n",
       "std              3.151346         2.578504  \n",
       "min            -12.135189      -182.000000  \n",
       "25%             -2.144392         0.000000  \n",
       "50%              0.033507         0.000000  \n",
       "75%              2.115568         0.000000  \n",
       "max             12.373090       189.000000  "
      ]
     },
     "execution_count": 153,
     "metadata": {},
     "output_type": "execute_result"
    }
   ],
   "source": [
    "x_train.describe()"
   ]
  },
  {
   "cell_type": "code",
   "execution_count": 151,
   "metadata": {},
   "outputs": [
    {
     "name": "stdout",
     "output_type": "stream",
     "text": [
      "0.6179327089836976\n"
     ]
    },
    {
     "data": {
      "text/plain": [
       "0.6149843912591051"
      ]
     },
     "execution_count": 151,
     "metadata": {},
     "output_type": "execute_result"
    }
   ],
   "source": [
    "print(clf.score(x_train, y_train))\n",
    "clf.score(x_test, y_test)"
   ]
  },
  {
   "cell_type": "markdown",
   "metadata": {},
   "source": [
    "### Let's try standardizing the model first\n",
    "Doesn't make sense to use PCT then\n",
    "http://rajeshmahajan.com/standard-scaler-v-min-max-scaler-machine-learning/"
   ]
  },
  {
   "cell_type": "code",
   "execution_count": 232,
   "metadata": {},
   "outputs": [],
   "source": [
    "from sklearn.model_selection import GridSearchCV\n",
    "from sklearn.preprocessing import StandardScaler"
   ]
  },
  {
   "cell_type": "code",
   "execution_count": 233,
   "metadata": {},
   "outputs": [],
   "source": [
    "X, Y = create_features(MLB_DF, False)\n",
    "x_train_0, x_test_0, y_train, y_test = seasonal_train_test_split(X, Y)\n"
   ]
  },
  {
   "cell_type": "code",
   "execution_count": 235,
   "metadata": {},
   "outputs": [],
   "source": [
    "x_train_0, x_test_0, y_train, y_test = seasonal_train_test_split(X, Y)\n",
    "\n",
    "# Drop ERA, AVG, SLG\n",
    "x_train_0 = x_train_0.drop(labels = ['ERA_difference', 'AVG_difference', 'SLG_difference',\n",
    "],\n",
    "                      axis = 1)\n",
    "x_test_0 = x_test_0.drop(labels = ['ERA_difference', 'AVG_difference', 'SLG_difference',\n",
    "],\n",
    "                    axis = 1)"
   ]
  },
  {
   "cell_type": "code",
   "execution_count": 236,
   "metadata": {},
   "outputs": [],
   "source": [
    "scl = StandardScaler()\n",
    "\n",
    "# only trasnform x_test\n",
    "x_train = scl.fit_transform(x_train_0)\n",
    "x_test = scl.transform(x_test_0)"
   ]
  },
  {
   "cell_type": "code",
   "execution_count": 237,
   "metadata": {},
   "outputs": [
    {
     "data": {
      "text/plain": [
       "LogisticRegressionCV(Cs=10, class_weight=None, cv=5, dual=False,\n",
       "                     fit_intercept=True, intercept_scaling=1.0, l1_ratios=None,\n",
       "                     max_iter=100, multi_class='auto', n_jobs=None,\n",
       "                     penalty='l2', random_state=499, refit=True, scoring=None,\n",
       "                     solver='lbfgs', tol=0.0001, verbose=0)"
      ]
     },
     "execution_count": 237,
     "metadata": {},
     "output_type": "execute_result"
    }
   ],
   "source": [
    "logitCV = LogisticRegressionCV(cv = 5, random_state = 499)\n",
    "logitCV.fit(x_train, y_train)"
   ]
  },
  {
   "cell_type": "code",
   "execution_count": 238,
   "metadata": {},
   "outputs": [
    {
     "data": {
      "text/plain": [
       "0.6227598566308243"
      ]
     },
     "execution_count": 238,
     "metadata": {},
     "output_type": "execute_result"
    }
   ],
   "source": [
    "logitCV.score(x_train, y_train)"
   ]
  },
  {
   "cell_type": "code",
   "execution_count": 239,
   "metadata": {},
   "outputs": [
    {
     "data": {
      "text/plain": [
       "0.6255636489767603"
      ]
     },
     "execution_count": 239,
     "metadata": {},
     "output_type": "execute_result"
    }
   ],
   "source": [
    "logitCV.score(x_test, y_test)"
   ]
  },
  {
   "cell_type": "code",
   "execution_count": 440,
   "metadata": {},
   "outputs": [
    {
     "data": {
      "text/plain": [
       "DecisionTreeClassifier(ccp_alpha=0.0, class_weight=None, criterion='gini',\n",
       "                       max_depth=11, max_features=None, max_leaf_nodes=None,\n",
       "                       min_impurity_decrease=0.0, min_impurity_split=None,\n",
       "                       min_samples_leaf=1, min_samples_split=2,\n",
       "                       min_weight_fraction_leaf=0.0, presort='deprecated',\n",
       "                       random_state=499, splitter='best')"
      ]
     },
     "execution_count": 440,
     "metadata": {},
     "output_type": "execute_result"
    }
   ],
   "source": [
    "clf = DecisionTreeClassifier(max_depth = 11, max_features = None, random_state = 499)\n",
    "clf.fit(x_train, y_train)"
   ]
  },
  {
   "cell_type": "code",
   "execution_count": 441,
   "metadata": {},
   "outputs": [
    {
     "data": {
      "text/plain": [
       "0.6808012486992716"
      ]
     },
     "execution_count": 441,
     "metadata": {},
     "output_type": "execute_result"
    }
   ],
   "source": [
    "clf.score(x_train, y_train)"
   ]
  },
  {
   "cell_type": "code",
   "execution_count": 442,
   "metadata": {},
   "outputs": [
    {
     "data": {
      "text/plain": [
       "0.5916579951439472"
      ]
     },
     "execution_count": 442,
     "metadata": {},
     "output_type": "execute_result"
    }
   ],
   "source": [
    "clf.score(x_test, y_test)"
   ]
  },
  {
   "cell_type": "code",
   "execution_count": 241,
   "metadata": {},
   "outputs": [
    {
     "data": {
      "text/plain": [
       "OBP_difference         0.503139\n",
       "ISO_difference         0.295086\n",
       "ELO_difference         0.118782\n",
       "K/BB_difference        0.026359\n",
       "WHIP_difference        0.018932\n",
       "K9_difference          0.016566\n",
       "FIP_difference         0.012268\n",
       "HR9_difference         0.008869\n",
       "rest_difference        0.000000\n",
       "BAA_difference         0.000000\n",
       "IP_Start_difference    0.000000\n",
       "dtype: float64"
      ]
     },
     "execution_count": 241,
     "metadata": {},
     "output_type": "execute_result"
    }
   ],
   "source": [
    "pd.Series(clf.feature_importances_, index = x_train_0.columns).sort_values(ascending = False)"
   ]
  },
  {
   "cell_type": "code",
   "execution_count": 242,
   "metadata": {},
   "outputs": [],
   "source": [
    "# Drop ERA, AVG, SLG\n",
    "x_train_0 = x_train_0.drop(labels = ['rest_difference', 'BAA_difference', 'IP_Start_difference',\n",
    "],\n",
    "                      axis = 1)\n",
    "x_test_0 = x_test_0.drop(labels = ['rest_difference', 'BAA_difference', 'IP_Start_difference',\n",
    "],\n",
    "                    axis = 1)"
   ]
  },
  {
   "cell_type": "code",
   "execution_count": 245,
   "metadata": {},
   "outputs": [
    {
     "data": {
      "text/plain": [
       "OBP_difference     0.784035\n",
       "ISO_difference     0.145160\n",
       "FIP_difference     0.034410\n",
       "K/BB_difference    0.012698\n",
       "WHIP_difference    0.009864\n",
       "ELO_difference     0.009846\n",
       "HR9_difference     0.002829\n",
       "K9_difference      0.001157\n",
       "dtype: float64"
      ]
     },
     "execution_count": 245,
     "metadata": {},
     "output_type": "execute_result"
    }
   ],
   "source": [
    "scl = StandardScaler()\n",
    "\n",
    "# only trasnform x_test\n",
    "x_train = scl.fit_transform(x_train_0)\n",
    "x_test = scl.transform(x_test_0)\n",
    "clf = DecisionTreeClassifier(max_depth = 5, max_features = 'log2', min_samples_split = 100, random_state = 499)\n",
    "clf.fit(x_train, y_train)\n",
    "pd.Series(clf.feature_importances_, index = x_train_0.columns).sort_values(ascending = False)"
   ]
  },
  {
   "cell_type": "code",
   "execution_count": 249,
   "metadata": {},
   "outputs": [
    {
     "data": {
      "text/plain": [
       "OBP_difference     0.479524\n",
       "ISO_difference     0.230823\n",
       "K9_difference      0.056078\n",
       "HR9_difference     0.027448\n",
       "K/BB_difference    0.000380\n",
       "ELO_difference    -0.038369\n",
       "WHIP_difference   -0.050416\n",
       "FIP_difference    -0.089468\n",
       "dtype: float64"
      ]
     },
     "execution_count": 249,
     "metadata": {},
     "output_type": "execute_result"
    }
   ],
   "source": [
    "logitCV = LogisticRegressionCV(cv = 5, random_state = 499)\n",
    "logitCV.fit(x_train, y_train)\n",
    "pd.Series(logitCV.coef_[0], index = x_train_0.columns).sort_values(ascending = False)"
   ]
  },
  {
   "cell_type": "code",
   "execution_count": 257,
   "metadata": {},
   "outputs": [
    {
     "data": {
      "text/plain": [
       "array([0.17750492])"
      ]
     },
     "execution_count": 257,
     "metadata": {},
     "output_type": "execute_result"
    }
   ],
   "source": [
    "logitCV.intercept_"
   ]
  },
  {
   "cell_type": "markdown",
   "metadata": {},
   "source": [
    "### Elastic Net\n",
    "\n",
    "l1 = 0.5 is best"
   ]
  },
  {
   "cell_type": "code",
   "execution_count": 253,
   "metadata": {},
   "outputs": [
    {
     "data": {
      "text/plain": [
       "OBP_difference     0.490002\n",
       "ISO_difference     0.231231\n",
       "K9_difference      0.055519\n",
       "HR9_difference     0.027460\n",
       "K/BB_difference    0.000000\n",
       "ELO_difference    -0.041435\n",
       "WHIP_difference   -0.049250\n",
       "FIP_difference    -0.091194\n",
       "dtype: float64"
      ]
     },
     "execution_count": 253,
     "metadata": {},
     "output_type": "execute_result"
    }
   ],
   "source": [
    "logitELN = LogisticRegressionCV(cv = 5, random_state = 499,\n",
    "                               penalty='elasticnet',\n",
    "                               solver='saga',\n",
    "                               l1_ratios = [0, 0.2, 0.5, 0.7, 1])\n",
    "logitELN.fit(x_train, y_train)\n",
    "pd.Series(logitELN.coef_[0], index = x_train_0.columns).sort_values(ascending = False)\n"
   ]
  },
  {
   "cell_type": "code",
   "execution_count": 255,
   "metadata": {},
   "outputs": [
    {
     "data": {
      "text/plain": [
       "array([0.17790456])"
      ]
     },
     "execution_count": 255,
     "metadata": {},
     "output_type": "execute_result"
    }
   ],
   "source": [
    "logitELN.intercept_"
   ]
  },
  {
   "cell_type": "code",
   "execution_count": 256,
   "metadata": {},
   "outputs": [
    {
     "data": {
      "text/plain": [
       "array([0.5])"
      ]
     },
     "execution_count": 256,
     "metadata": {},
     "output_type": "execute_result"
    }
   ],
   "source": [
    "logitELN.l1_ratio_"
   ]
  },
  {
   "cell_type": "markdown",
   "metadata": {},
   "source": [
    "### GridSearch for Decision Tree"
   ]
  },
  {
   "cell_type": "code",
   "execution_count": 275,
   "metadata": {},
   "outputs": [],
   "source": [
    "param_grid = {\n",
    "    'criterion': ('gini', 'entropy'),\n",
    "    'max_depth': [1, 2, 3, 4, 5, 7],\n",
    "    'max_features': ['auto', 'sqrt', 'log2', None],\n",
    "    'random_state': [499]\n",
    "}\n",
    "clf = GridSearchCV(DecisionTreeClassifier(), \n",
    "             param_grid)"
   ]
  },
  {
   "cell_type": "code",
   "execution_count": 276,
   "metadata": {},
   "outputs": [
    {
     "data": {
      "text/plain": [
       "GridSearchCV(cv=None, error_score=nan,\n",
       "             estimator=DecisionTreeClassifier(ccp_alpha=0.0, class_weight=None,\n",
       "                                              criterion='gini', max_depth=None,\n",
       "                                              max_features=None,\n",
       "                                              max_leaf_nodes=None,\n",
       "                                              min_impurity_decrease=0.0,\n",
       "                                              min_impurity_split=None,\n",
       "                                              min_samples_leaf=1,\n",
       "                                              min_samples_split=2,\n",
       "                                              min_weight_fraction_leaf=0.0,\n",
       "                                              presort='deprecated',\n",
       "                                              random_state=None,\n",
       "                                              splitter='best'),\n",
       "             iid='deprecated', n_jobs=None,\n",
       "             param_grid={'criterion': ('gini', 'entropy'),\n",
       "                         'max_depth': [1, 2, 3, 4, 5, 7],\n",
       "                         'max_features': ['auto', 'sqrt', 'log2', None],\n",
       "                         'random_state': [499]},\n",
       "             pre_dispatch='2*n_jobs', refit=True, return_train_score=False,\n",
       "             scoring=None, verbose=0)"
      ]
     },
     "execution_count": 276,
     "metadata": {},
     "output_type": "execute_result"
    }
   ],
   "source": [
    "clf.fit(x_train, y_train)"
   ]
  },
  {
   "cell_type": "code",
   "execution_count": 277,
   "metadata": {
    "scrolled": true
   },
   "outputs": [
    {
     "data": {
      "text/html": [
       "<div>\n",
       "<style scoped>\n",
       "    .dataframe tbody tr th:only-of-type {\n",
       "        vertical-align: middle;\n",
       "    }\n",
       "\n",
       "    .dataframe tbody tr th {\n",
       "        vertical-align: top;\n",
       "    }\n",
       "\n",
       "    .dataframe thead th {\n",
       "        text-align: right;\n",
       "    }\n",
       "</style>\n",
       "<table border=\"1\" class=\"dataframe\">\n",
       "  <thead>\n",
       "    <tr style=\"text-align: right;\">\n",
       "      <th></th>\n",
       "      <th>mean_fit_time</th>\n",
       "      <th>std_fit_time</th>\n",
       "      <th>mean_score_time</th>\n",
       "      <th>std_score_time</th>\n",
       "      <th>param_criterion</th>\n",
       "      <th>param_max_depth</th>\n",
       "      <th>param_max_features</th>\n",
       "      <th>param_random_state</th>\n",
       "      <th>params</th>\n",
       "      <th>split0_test_score</th>\n",
       "      <th>split1_test_score</th>\n",
       "      <th>split2_test_score</th>\n",
       "      <th>split3_test_score</th>\n",
       "      <th>split4_test_score</th>\n",
       "      <th>mean_test_score</th>\n",
       "      <th>std_test_score</th>\n",
       "      <th>rank_test_score</th>\n",
       "    </tr>\n",
       "  </thead>\n",
       "  <tbody>\n",
       "    <tr>\n",
       "      <th>35</th>\n",
       "      <td>0.106289</td>\n",
       "      <td>0.025181</td>\n",
       "      <td>0.001810</td>\n",
       "      <td>0.000765</td>\n",
       "      <td>entropy</td>\n",
       "      <td>3</td>\n",
       "      <td>None</td>\n",
       "      <td>499</td>\n",
       "      <td>{'criterion': 'entropy', 'max_depth': 3, 'max_...</td>\n",
       "      <td>0.631069</td>\n",
       "      <td>0.618297</td>\n",
       "      <td>0.616852</td>\n",
       "      <td>0.609626</td>\n",
       "      <td>0.615551</td>\n",
       "      <td>0.618279</td>\n",
       "      <td>0.007042</td>\n",
       "      <td>1</td>\n",
       "    </tr>\n",
       "    <tr>\n",
       "      <th>8</th>\n",
       "      <td>0.022340</td>\n",
       "      <td>0.002006</td>\n",
       "      <td>0.001463</td>\n",
       "      <td>0.000250</td>\n",
       "      <td>gini</td>\n",
       "      <td>3</td>\n",
       "      <td>auto</td>\n",
       "      <td>499</td>\n",
       "      <td>{'criterion': 'gini', 'max_depth': 3, 'max_fea...</td>\n",
       "      <td>0.630925</td>\n",
       "      <td>0.618442</td>\n",
       "      <td>0.618442</td>\n",
       "      <td>0.609481</td>\n",
       "      <td>0.613672</td>\n",
       "      <td>0.618192</td>\n",
       "      <td>0.007191</td>\n",
       "      <td>2</td>\n",
       "    </tr>\n",
       "    <tr>\n",
       "      <th>9</th>\n",
       "      <td>0.030359</td>\n",
       "      <td>0.004699</td>\n",
       "      <td>0.002003</td>\n",
       "      <td>0.000625</td>\n",
       "      <td>gini</td>\n",
       "      <td>3</td>\n",
       "      <td>sqrt</td>\n",
       "      <td>499</td>\n",
       "      <td>{'criterion': 'gini', 'max_depth': 3, 'max_fea...</td>\n",
       "      <td>0.630925</td>\n",
       "      <td>0.618442</td>\n",
       "      <td>0.618442</td>\n",
       "      <td>0.609481</td>\n",
       "      <td>0.613672</td>\n",
       "      <td>0.618192</td>\n",
       "      <td>0.007191</td>\n",
       "      <td>2</td>\n",
       "    </tr>\n",
       "    <tr>\n",
       "      <th>32</th>\n",
       "      <td>0.029437</td>\n",
       "      <td>0.003917</td>\n",
       "      <td>0.001289</td>\n",
       "      <td>0.000068</td>\n",
       "      <td>entropy</td>\n",
       "      <td>3</td>\n",
       "      <td>auto</td>\n",
       "      <td>499</td>\n",
       "      <td>{'criterion': 'entropy', 'max_depth': 3, 'max_...</td>\n",
       "      <td>0.630925</td>\n",
       "      <td>0.618731</td>\n",
       "      <td>0.616852</td>\n",
       "      <td>0.609481</td>\n",
       "      <td>0.614684</td>\n",
       "      <td>0.618135</td>\n",
       "      <td>0.007105</td>\n",
       "      <td>4</td>\n",
       "    </tr>\n",
       "    <tr>\n",
       "      <th>33</th>\n",
       "      <td>0.026898</td>\n",
       "      <td>0.002483</td>\n",
       "      <td>0.001295</td>\n",
       "      <td>0.000177</td>\n",
       "      <td>entropy</td>\n",
       "      <td>3</td>\n",
       "      <td>sqrt</td>\n",
       "      <td>499</td>\n",
       "      <td>{'criterion': 'entropy', 'max_depth': 3, 'max_...</td>\n",
       "      <td>0.630925</td>\n",
       "      <td>0.618731</td>\n",
       "      <td>0.616852</td>\n",
       "      <td>0.609481</td>\n",
       "      <td>0.614684</td>\n",
       "      <td>0.618135</td>\n",
       "      <td>0.007105</td>\n",
       "      <td>4</td>\n",
       "    </tr>\n",
       "  </tbody>\n",
       "</table>\n",
       "</div>"
      ],
      "text/plain": [
       "    mean_fit_time  std_fit_time  mean_score_time  std_score_time  \\\n",
       "35       0.106289      0.025181         0.001810        0.000765   \n",
       "8        0.022340      0.002006         0.001463        0.000250   \n",
       "9        0.030359      0.004699         0.002003        0.000625   \n",
       "32       0.029437      0.003917         0.001289        0.000068   \n",
       "33       0.026898      0.002483         0.001295        0.000177   \n",
       "\n",
       "   param_criterion param_max_depth param_max_features param_random_state  \\\n",
       "35         entropy               3               None                499   \n",
       "8             gini               3               auto                499   \n",
       "9             gini               3               sqrt                499   \n",
       "32         entropy               3               auto                499   \n",
       "33         entropy               3               sqrt                499   \n",
       "\n",
       "                                               params  split0_test_score  \\\n",
       "35  {'criterion': 'entropy', 'max_depth': 3, 'max_...           0.631069   \n",
       "8   {'criterion': 'gini', 'max_depth': 3, 'max_fea...           0.630925   \n",
       "9   {'criterion': 'gini', 'max_depth': 3, 'max_fea...           0.630925   \n",
       "32  {'criterion': 'entropy', 'max_depth': 3, 'max_...           0.630925   \n",
       "33  {'criterion': 'entropy', 'max_depth': 3, 'max_...           0.630925   \n",
       "\n",
       "    split1_test_score  split2_test_score  split3_test_score  \\\n",
       "35           0.618297           0.616852           0.609626   \n",
       "8            0.618442           0.618442           0.609481   \n",
       "9            0.618442           0.618442           0.609481   \n",
       "32           0.618731           0.616852           0.609481   \n",
       "33           0.618731           0.616852           0.609481   \n",
       "\n",
       "    split4_test_score  mean_test_score  std_test_score  rank_test_score  \n",
       "35           0.615551         0.618279        0.007042                1  \n",
       "8            0.613672         0.618192        0.007191                2  \n",
       "9            0.613672         0.618192        0.007191                2  \n",
       "32           0.614684         0.618135        0.007105                4  \n",
       "33           0.614684         0.618135        0.007105                4  "
      ]
     },
     "execution_count": 277,
     "metadata": {},
     "output_type": "execute_result"
    }
   ],
   "source": [
    "pd.DataFrame(clf.cv_results_).sort_values(\n",
    "by = 'rank_test_score').head(5)"
   ]
  },
  {
   "cell_type": "markdown",
   "metadata": {},
   "source": [
    "https://datascience.stackexchange.com/questions/10228/when-should-i-use-gini-impurity-as-opposed-to-information-gain"
   ]
  },
  {
   "cell_type": "code",
   "execution_count": 334,
   "metadata": {},
   "outputs": [],
   "source": [
    "# EntroTree = DecisionTreeClassifier(\n",
    "#     random_state = 499,\n",
    "#     criterion = 'entropy',\n",
    "#     max_depth = 3,\n",
    "#     max_features = None\n",
    "# )"
   ]
  },
  {
   "cell_type": "code",
   "execution_count": 335,
   "metadata": {},
   "outputs": [],
   "source": [
    "GiniTree = DecisionTreeClassifier(\n",
    "    random_state = 499,\n",
    "    criterion = 'gini',\n",
    "    max_depth = 3,\n",
    "    max_features = 'auto'\n",
    ")"
   ]
  },
  {
   "cell_type": "code",
   "execution_count": 340,
   "metadata": {},
   "outputs": [],
   "source": [
    "gini_bucket = compute_lift_probabilities(\n",
    "    [x[1] for x in GiniTree.fit(x_train, y_train).predict_proba(x_test)], y_test)\n",
    "gini_tree = gini_bucket.groupby('buckets')['y'].mean().reset_index().rename(\n",
    "        {'y': 'gini'}, axis = 1)\n",
    "# gini_bucket_entropy = (compute_lift_probabilities(\n",
    "#     [x[1] for x in EntroTree.fit(x_train, y_train).predict_proba(x_test)], y_test))"
   ]
  },
  {
   "cell_type": "code",
   "execution_count": 337,
   "metadata": {
    "scrolled": false
   },
   "outputs": [],
   "source": [
    "# tree_lifts = pd.merge(\n",
    "#     gini_bucket.groupby('buckets')['y'].mean().reset_index().rename(\n",
    "#         {'y': 'gini'}, axis = 1),\n",
    "#     gini_bucket_entropy.groupby('buckets')['y'].mean().reset_index().rename(\n",
    "#         {'y': 'entropy'}, axis = 1)).set_index('buckets')\n",
    "# tree_lifts"
   ]
  },
  {
   "cell_type": "code",
   "execution_count": 343,
   "metadata": {},
   "outputs": [
    {
     "data": {
      "image/png": "[encoded data removed]",
      "text/plain": [
       "<Figure size 432x288 with 1 Axes>"
      ]
     },
     "metadata": {
      "needs_background": "light"
     },
     "output_type": "display_data"
    }
   ],
   "source": [
    "plt.plot(gini_tree.set_index('buckets'))\n",
    "plt.show()"
   ]
  },
  {
   "cell_type": "markdown",
   "metadata": {},
   "source": [
    "### GridSearch for Random Forest"
   ]
  },
  {
   "cell_type": "code",
   "execution_count": 346,
   "metadata": {},
   "outputs": [],
   "source": [
    "from sklearn.ensemble import RandomForestClassifier"
   ]
  },
  {
   "cell_type": "code",
   "execution_count": 467,
   "metadata": {},
   "outputs": [],
   "source": [
    "len(x_train_0.columns)\n",
    "X, Y = create_features(MLB_DF, False)\n",
    "x_train_0, x_test_0, y_train, y_test = seasonal_train_test_split(X, Y) # why standrardscale when you couldn't?\n",
    "\n",
    "# Drop ERA, AVG, SLG\n",
    "x_train = x_train_0.drop(labels = ['AVG_difference', 'SLG_difference', 'BAA_difference', 'IP_Start_difference',\n",
    "],\n",
    "                      axis = 1)\n",
    "x_test = x_test_0.drop(labels = ['AVG_difference', 'SLG_difference', 'BAA_difference', 'IP_Start_difference',\n",
    "],\n",
    "                    axis = 1)"
   ]
  },
  {
   "cell_type": "code",
   "execution_count": 452,
   "metadata": {},
   "outputs": [],
   "source": [
    "param_grid = {\n",
    "    'n_estimators': [10, 20, 40, 60, 80],\n",
    "    'criterion': ['gini'],\n",
    "    'max_depth': [2, 3, 5, 7, 8],\n",
    "    'max_features': ['auto'],\n",
    "    'random_state': [499]\n",
    "}\n",
    "clf_rf = GridSearchCV(RandomForestClassifier(), \n",
    "             param_grid, cv=5, n_jobs = -1)"
   ]
  },
  {
   "cell_type": "code",
   "execution_count": 453,
   "metadata": {},
   "outputs": [
    {
     "data": {
      "text/plain": [
       "GridSearchCV(cv=5, error_score=nan,\n",
       "             estimator=RandomForestClassifier(bootstrap=True, ccp_alpha=0.0,\n",
       "                                              class_weight=None,\n",
       "                                              criterion='gini', max_depth=None,\n",
       "                                              max_features='auto',\n",
       "                                              max_leaf_nodes=None,\n",
       "                                              max_samples=None,\n",
       "                                              min_impurity_decrease=0.0,\n",
       "                                              min_impurity_split=None,\n",
       "                                              min_samples_leaf=1,\n",
       "                                              min_samples_split=2,\n",
       "                                              min_weight_fraction_leaf=0.0,\n",
       "                                              n_estimators=100, n_jobs=None,\n",
       "                                              oob_score=False,\n",
       "                                              random_state=None, verbose=0,\n",
       "                                              warm_start=False),\n",
       "             iid='deprecated', n_jobs=-1,\n",
       "             param_grid={'criterion': ['gini'], 'max_depth': [2, 3, 5, 7, 8],\n",
       "                         'max_features': ['auto'],\n",
       "                         'n_estimators': [10, 20, 40, 60, 80],\n",
       "                         'random_state': [499]},\n",
       "             pre_dispatch='2*n_jobs', refit=True, return_train_score=False,\n",
       "             scoring=None, verbose=0)"
      ]
     },
     "execution_count": 453,
     "metadata": {},
     "output_type": "execute_result"
    }
   ],
   "source": [
    "clf_rf.fit(x_train, y_train)"
   ]
  },
  {
   "cell_type": "code",
   "execution_count": 454,
   "metadata": {},
   "outputs": [
    {
     "name": "stdout",
     "output_type": "stream",
     "text": [
      "Optimal:  {'criterion': 'gini', 'max_depth': 5, 'max_features': 'auto', 'n_estimators': 60, 'random_state': 499}\n"
     ]
    }
   ],
   "source": [
    "print(\"Optimal: \", clf_rf.best_params_)"
   ]
  },
  {
   "cell_type": "code",
   "execution_count": 455,
   "metadata": {},
   "outputs": [
    {
     "name": "stdout",
     "output_type": "stream",
     "text": [
      "Score:  0.6218056670623825\n"
     ]
    }
   ],
   "source": [
    "print(\"Score: \", clf_rf.best_score_)"
   ]
  },
  {
   "cell_type": "code",
   "execution_count": 456,
   "metadata": {},
   "outputs": [
    {
     "data": {
      "image/png": "[encoded data removed]",
      "text/plain": [
       "<Figure size 576x576 with 2 Axes>"
      ]
     },
     "metadata": {
      "needs_background": "light"
     },
     "output_type": "display_data"
    }
   ],
   "source": [
    "scores = clf_rf.cv_results_['mean_test_score'].reshape(5, 5)\n",
    "\n",
    "plt.figure(figsize=(8, 8))\n",
    "plt.subplots_adjust(left=.2, right=0.95, bottom=0.15, top=0.95)\n",
    "plt.imshow(scores, interpolation='nearest', cmap=plt.cm.hot)\n",
    "plt.xlabel('n_estimators')\n",
    "plt.ylabel('max_depth')\n",
    "plt.colorbar()\n",
    "plt.xticks(np.arange(5), [10, 20, 40, 60, 80])\n",
    "plt.yticks(np.arange(5), [2,3,5,7, 8])\n",
    "plt.title('Grid Search r^2 Score')\n",
    "plt.show()\n",
    "maxDepth=clf_rf.best_params_['max_depth']\n",
    "nEstimators=clf_rf.best_params_['n_estimators']"
   ]
  },
  {
   "cell_type": "code",
   "execution_count": 457,
   "metadata": {},
   "outputs": [
    {
     "data": {
      "text/plain": [
       "array([0.61952219, 0.62012918, 0.61972449, 0.61955101, 0.61917523,\n",
       "       0.6207072 , 0.6211697 , 0.62015808, 0.6200424 , 0.62067831,\n",
       "       0.61955091, 0.62021572, 0.62122759, 0.62180567, 0.62160335,\n",
       "       0.61755649, 0.61839475, 0.62033144, 0.62119856, 0.62154545,\n",
       "       0.61495525, 0.61830826, 0.61972447, 0.61978224, 0.62024477])"
      ]
     },
     "execution_count": 457,
     "metadata": {},
     "output_type": "execute_result"
    }
   ],
   "source": [
    "clf_rf.cv_results_['mean_test_score']"
   ]
  },
  {
   "cell_type": "code",
   "execution_count": 458,
   "metadata": {},
   "outputs": [],
   "source": [
    "gsrf = RandomForestClassifier(n_estimators = nEstimators, max_depth = maxDepth, random_state = 499)"
   ]
  },
  {
   "cell_type": "code",
   "execution_count": 459,
   "metadata": {},
   "outputs": [
    {
     "data": {
      "text/plain": [
       "RandomForestClassifier(bootstrap=True, ccp_alpha=0.0, class_weight=None,\n",
       "                       criterion='gini', max_depth=5, max_features='auto',\n",
       "                       max_leaf_nodes=None, max_samples=None,\n",
       "                       min_impurity_decrease=0.0, min_impurity_split=None,\n",
       "                       min_samples_leaf=1, min_samples_split=2,\n",
       "                       min_weight_fraction_leaf=0.0, n_estimators=60,\n",
       "                       n_jobs=None, oob_score=False, random_state=499,\n",
       "                       verbose=0, warm_start=False)"
      ]
     },
     "execution_count": 459,
     "metadata": {},
     "output_type": "execute_result"
    }
   ],
   "source": [
    "gsrf.fit(x_train, y_train)"
   ]
  },
  {
   "cell_type": "code",
   "execution_count": 460,
   "metadata": {},
   "outputs": [
    {
     "data": {
      "text/plain": [
       "0.6288299225343971"
      ]
     },
     "execution_count": 460,
     "metadata": {},
     "output_type": "execute_result"
    }
   ],
   "source": [
    "gsrf.score(x_train, y_train)"
   ]
  },
  {
   "cell_type": "code",
   "execution_count": 461,
   "metadata": {},
   "outputs": [
    {
     "data": {
      "text/plain": [
       "0.6224419007977801"
      ]
     },
     "execution_count": 461,
     "metadata": {},
     "output_type": "execute_result"
    }
   ],
   "source": [
    "gsrf.score(x_test, y_test)"
   ]
  },
  {
   "cell_type": "code",
   "execution_count": 463,
   "metadata": {
    "scrolled": true
   },
   "outputs": [
    {
     "data": {
      "text/plain": [
       "OBP_difference         0.328323\n",
       "SLG_difference         0.265540\n",
       "AVG_difference         0.181713\n",
       "ISO_difference         0.095540\n",
       "ELO_difference         0.023135\n",
       "FIP_difference         0.020406\n",
       "ERA_difference         0.017876\n",
       "K/BB_difference        0.016508\n",
       "WHIP_difference        0.015807\n",
       "K9_difference          0.014669\n",
       "IP_Start_difference    0.007920\n",
       "BAA_difference         0.007500\n",
       "HR9_difference         0.004511\n",
       "rest_difference        0.000551\n",
       "dtype: float64"
      ]
     },
     "execution_count": 463,
     "metadata": {},
     "output_type": "execute_result"
    }
   ],
   "source": [
    "pd.Series(gsrf.feature_importances_, index = x_train.columns).sort_values(ascending = False)"
   ]
  },
  {
   "cell_type": "markdown",
   "metadata": {},
   "source": [
    "### XGBOOST"
   ]
  },
  {
   "cell_type": "code",
   "execution_count": 466,
   "metadata": {},
   "outputs": [],
   "source": [
    "from xgboost import XGBClassifier"
   ]
  },
  {
   "cell_type": "code",
   "execution_count": 819,
   "metadata": {},
   "outputs": [],
   "source": [
    "len(x_train_0.columns)\n",
    "X, Y = create_features(MLB_DF, True)\n",
    "x_train_0, x_test_0, y_train, y_test = seasonal_train_test_split(X, Y) # why standrardscale when you couldn't?\n",
    "\n",
    "# Drop ERA, AVG, SLG\n",
    "# x_train = x_train_0.drop(labels = ['AVG_difference', 'SLG_difference', 'BAA_difference', 'IP_Start_difference',\n",
    "# ],\n",
    "#                       axis = 1)\n",
    "# x_test = x_test_0.drop(labels = ['AVG_difference', 'SLG_difference', 'BAA_difference', 'IP_Start_difference',\n",
    "# ],\n",
    "#                     axis = 1)\n",
    "x_train = x_train_0.drop(labels = ['AVG_difference_PCT', 'SLG_difference_PCT', \n",
    "                                   'BAA_difference_PCT', 'IP_Start_difference_PCT',\n",
    "],\n",
    "                      axis = 1)\n",
    "x_test = x_test_0.drop(labels = ['AVG_difference_PCT', 'SLG_difference_PCT', \n",
    "                                 'BAA_difference_PCT', 'IP_Start_difference_PCT',\n",
    "],\n",
    "                    axis = 1)"
   ]
  },
  {
   "cell_type": "code",
   "execution_count": 817,
   "metadata": {},
   "outputs": [
    {
     "name": "stdout",
     "output_type": "stream",
     "text": [
      "0.5443592043436826\n"
     ]
    }
   ],
   "source": [
    "home_bias = (math.exp(logitELN.intercept_[0]))/(\n",
    "    1 + math.exp(logitELN.intercept_[0]))\n",
    "print(home_bias)"
   ]
  },
  {
   "cell_type": "code",
   "execution_count": null,
   "metadata": {},
   "outputs": [],
   "source": []
  },
  {
   "cell_type": "code",
   "execution_count": 812,
   "metadata": {},
   "outputs": [],
   "source": [
    "model = XGBClassifier(base_score = home_bias,\n",
    "                     random_state = 499,\n",
    "                     n_jobs = -1)"
   ]
  },
  {
   "cell_type": "code",
   "execution_count": 540,
   "metadata": {},
   "outputs": [],
   "source": [
    "from sklearn.model_selection import RandomizedSearchCV"
   ]
  },
  {
   "cell_type": "code",
   "execution_count": 764,
   "metadata": {},
   "outputs": [],
   "source": [
    "param_grid = {\n",
    "    'max_depth': [3, 5],\n",
    "    'learning_rate': [0.2, 0.24, 0.251],\n",
    "    'n_estimators': [15, 20, 30],\n",
    "    'subsample': [0.62, 0.69, 0.76, 0.83, 0.9],\n",
    "    'cv': [5]\n",
    "}"
   ]
  },
  {
   "cell_type": "code",
   "execution_count": 765,
   "metadata": {},
   "outputs": [],
   "source": [
    "rscv = RandomizedSearchCV(model, param_grid)"
   ]
  },
  {
   "cell_type": "code",
   "execution_count": 766,
   "metadata": {},
   "outputs": [
    {
     "data": {
      "text/plain": [
       "RandomizedSearchCV(cv=None, error_score=nan,\n",
       "                   estimator=XGBClassifier(base_score=0.5443592043436826,\n",
       "                                           booster=None, colsample_bylevel=None,\n",
       "                                           colsample_bynode=None,\n",
       "                                           colsample_bytree=None, gamma=None,\n",
       "                                           gpu_id=None, importance_type='gain',\n",
       "                                           interaction_constraints=None,\n",
       "                                           learning_rate=None,\n",
       "                                           max_delta_step=None, max_depth=None,\n",
       "                                           min_child_weight=None, missing=nan,\n",
       "                                           monotone_c...\n",
       "                                           subsample=None, tree_method=None,\n",
       "                                           validate_parameters=False,\n",
       "                                           verbosity=None),\n",
       "                   iid='deprecated', n_iter=10, n_jobs=None,\n",
       "                   param_distributions={'cv': [5],\n",
       "                                        'learning_rate': [0.2, 0.235, 0.24,\n",
       "                                                          0.251],\n",
       "                                        'max_depth': [3, 5],\n",
       "                                        'n_estimators': [15, 20, 30],\n",
       "                                        'subsample': [0.62, 0.69, 0.76, 0.83,\n",
       "                                                      0.9]},\n",
       "                   pre_dispatch='2*n_jobs', random_state=None, refit=True,\n",
       "                   return_train_score=False, scoring=None, verbose=0)"
      ]
     },
     "execution_count": 766,
     "metadata": {},
     "output_type": "execute_result"
    }
   ],
   "source": [
    "rscv.fit(x_train, y_train)"
   ]
  },
  {
   "cell_type": "code",
   "execution_count": 767,
   "metadata": {},
   "outputs": [
    {
     "data": {
      "text/plain": [
       "{'subsample': 0.9,\n",
       " 'n_estimators': 20,\n",
       " 'max_depth': 3,\n",
       " 'learning_rate': 0.24,\n",
       " 'cv': 5}"
      ]
     },
     "execution_count": 767,
     "metadata": {},
     "output_type": "execute_result"
    }
   ],
   "source": [
    "rscv.best_params_"
   ]
  },
  {
   "cell_type": "code",
   "execution_count": 813,
   "metadata": {},
   "outputs": [],
   "source": [
    "model_rscv = XGBClassifier(base_score = home_bias,\n",
    "            n_estimators = 20,\n",
    "           max_depth = 3,\n",
    "           learning_rate = 0.24,\n",
    "           subsample = 0.69,                \n",
    "             random_state = 499,\n",
    "                     n_jobs = -1,\n",
    "                          cv = 5)"
   ]
  },
  {
   "cell_type": "code",
   "execution_count": 820,
   "metadata": {},
   "outputs": [
    {
     "data": {
      "text/plain": [
       "0.6248699271592092"
      ]
     },
     "execution_count": 820,
     "metadata": {},
     "output_type": "execute_result"
    }
   ],
   "source": [
    "model_rscv.fit(x_train, y_train)\n",
    "model_rscv.score(x_test, y_test)"
   ]
  },
  {
   "cell_type": "code",
   "execution_count": 821,
   "metadata": {},
   "outputs": [
    {
     "data": {
      "text/plain": [
       "0.6259683200369985"
      ]
     },
     "execution_count": 821,
     "metadata": {},
     "output_type": "execute_result"
    }
   ],
   "source": [
    "model_rscv.score(x_train, y_train)"
   ]
  },
  {
   "cell_type": "markdown",
   "metadata": {},
   "source": [
    "### SVC"
   ]
  },
  {
   "cell_type": "code",
   "execution_count": 748,
   "metadata": {},
   "outputs": [],
   "source": [
    "from sklearn.svm import SVC"
   ]
  },
  {
   "cell_type": "code",
   "execution_count": 823,
   "metadata": {},
   "outputs": [],
   "source": [
    "len(x_train_0.columns)\n",
    "X, Y = create_features(MLB_DF, False)\n",
    "x_train_0, x_test_0, y_train, y_test = seasonal_train_test_split(X, Y) # why standrardscale when you couldn't?\n",
    "\n",
    "# Drop ERA, AVG, SLG\n",
    "x_train = x_train_0.drop(labels = ['AVG_difference', 'SLG_difference', 'BAA_difference', 'IP_Start_difference',\n",
    "],\n",
    "                      axis = 1)\n",
    "x_test = x_test_0.drop(labels = ['AVG_difference', 'SLG_difference', 'BAA_difference', 'IP_Start_difference',\n",
    "],\n",
    "                    axis = 1)"
   ]
  },
  {
   "cell_type": "code",
   "execution_count": 824,
   "metadata": {},
   "outputs": [],
   "source": [
    "svc_model = SVC(random_state = 499,\n",
    "               degree = 6, C = 100)"
   ]
  },
  {
   "cell_type": "code",
   "execution_count": 825,
   "metadata": {},
   "outputs": [
    {
     "data": {
      "text/plain": [
       "SVC(C=100, break_ties=False, cache_size=200, class_weight=None, coef0=0.0,\n",
       "    decision_function_shape='ovr', degree=6, gamma='scale', kernel='rbf',\n",
       "    max_iter=-1, probability=False, random_state=499, shrinking=True, tol=0.001,\n",
       "    verbose=False)"
      ]
     },
     "execution_count": 825,
     "metadata": {},
     "output_type": "execute_result"
    }
   ],
   "source": [
    "svc_model.fit(x_train, y_train)"
   ]
  },
  {
   "cell_type": "code",
   "execution_count": 826,
   "metadata": {},
   "outputs": [
    {
     "data": {
      "text/plain": [
       "0.615071106486299"
      ]
     },
     "execution_count": 826,
     "metadata": {},
     "output_type": "execute_result"
    }
   ],
   "source": [
    "svc_model.score(x_test, y_test)"
   ]
  },
  {
   "cell_type": "code",
   "execution_count": 827,
   "metadata": {},
   "outputs": [
    {
     "data": {
      "text/plain": [
       "0.6156492080009249"
      ]
     },
     "execution_count": 827,
     "metadata": {},
     "output_type": "execute_result"
    }
   ],
   "source": [
    "svc_model.score(x_train, y_train)"
   ]
  },
  {
   "cell_type": "code",
   "execution_count": 828,
   "metadata": {},
   "outputs": [],
   "source": [
    "# Let's try another one\n",
    "svc_model = SVC(random_state = 499,\n",
    "               degree = 5, C = 5)"
   ]
  },
  {
   "cell_type": "code",
   "execution_count": 829,
   "metadata": {},
   "outputs": [],
   "source": [
    "sclr = StandardScaler()\n",
    "x_train1 = sclr.fit_transform(x_train)\n",
    "x_test1 = sclr.transform(x_test)"
   ]
  },
  {
   "cell_type": "code",
   "execution_count": 830,
   "metadata": {},
   "outputs": [
    {
     "data": {
      "text/plain": [
       "SVC(C=5, break_ties=False, cache_size=200, class_weight=None, coef0=0.0,\n",
       "    decision_function_shape='ovr', degree=5, gamma='scale', kernel='rbf',\n",
       "    max_iter=-1, probability=False, random_state=499, shrinking=True, tol=0.001,\n",
       "    verbose=False)"
      ]
     },
     "execution_count": 830,
     "metadata": {},
     "output_type": "execute_result"
    }
   ],
   "source": [
    "svc_model.fit(x_train1, y_train)"
   ]
  },
  {
   "cell_type": "code",
   "execution_count": 831,
   "metadata": {},
   "outputs": [
    {
     "data": {
      "text/plain": [
       "0.6406520985084981"
      ]
     },
     "execution_count": 831,
     "metadata": {},
     "output_type": "execute_result"
    }
   ],
   "source": [
    "svc_model.score(x_train1, y_train)"
   ]
  },
  {
   "cell_type": "code",
   "execution_count": 832,
   "metadata": {
    "scrolled": true
   },
   "outputs": [
    {
     "data": {
      "text/plain": [
       "0.6223551855705862"
      ]
     },
     "execution_count": 832,
     "metadata": {},
     "output_type": "execute_result"
    }
   ],
   "source": [
    "svc_model.score(x_test1, y_test)"
   ]
  },
  {
   "cell_type": "code",
   "execution_count": 833,
   "metadata": {},
   "outputs": [],
   "source": [
    "# Let's try another one\n",
    "svc_model = SVC(random_state = 499,\n",
    "               degree = 3, C = 10**(-2))"
   ]
  },
  {
   "cell_type": "code",
   "execution_count": 834,
   "metadata": {},
   "outputs": [
    {
     "data": {
      "text/plain": [
       "SVC(C=0.01, break_ties=False, cache_size=200, class_weight=None, coef0=0.0,\n",
       "    decision_function_shape='ovr', degree=3, gamma='scale', kernel='rbf',\n",
       "    max_iter=-1, probability=False, random_state=499, shrinking=True, tol=0.001,\n",
       "    verbose=False)"
      ]
     },
     "execution_count": 834,
     "metadata": {},
     "output_type": "execute_result"
    }
   ],
   "source": [
    "svc_model.fit(x_train1, y_train)"
   ]
  },
  {
   "cell_type": "code",
   "execution_count": 835,
   "metadata": {},
   "outputs": [
    {
     "data": {
      "text/plain": [
       "0.6174124176205341"
      ]
     },
     "execution_count": 835,
     "metadata": {},
     "output_type": "execute_result"
    }
   ],
   "source": [
    "svc_model.score(x_train1, y_train)"
   ]
  },
  {
   "cell_type": "code",
   "execution_count": 836,
   "metadata": {},
   "outputs": [
    {
     "data": {
      "text/plain": [
       "0.6187998612556365"
      ]
     },
     "execution_count": 836,
     "metadata": {},
     "output_type": "execute_result"
    }
   ],
   "source": [
    "svc_model.score(x_test1, y_test)"
   ]
  },
  {
   "cell_type": "markdown",
   "metadata": {},
   "source": [
    "What happens when we don't scale?"
   ]
  },
  {
   "cell_type": "code",
   "execution_count": 797,
   "metadata": {},
   "outputs": [
    {
     "data": {
      "text/plain": [
       "SVC(C=0.01, break_ties=False, cache_size=200, class_weight=None, coef0=0.0,\n",
       "    decision_function_shape='ovr', degree=3, gamma='scale', kernel='rbf',\n",
       "    max_iter=-1, probability=False, random_state=499, shrinking=True, tol=0.001,\n",
       "    verbose=False)"
      ]
     },
     "execution_count": 797,
     "metadata": {},
     "output_type": "execute_result"
    }
   ],
   "source": [
    "# Let's try another one\n",
    "svc_model = SVC(random_state = 499,\n",
    "               degree = 3, C = 10**(-2))\n",
    "svc_model.fit(x_train, y_train)"
   ]
  },
  {
   "cell_type": "code",
   "execution_count": 798,
   "metadata": {},
   "outputs": [
    {
     "name": "stdout",
     "output_type": "stream",
     "text": [
      "0.6104751994450226\n",
      "0.6122962192160943\n"
     ]
    }
   ],
   "source": [
    "print(svc_model.score(x_train, y_train))\n",
    "print(svc_model.score(x_test, y_test))"
   ]
  },
  {
   "cell_type": "markdown",
   "metadata": {},
   "source": [
    "### MLAutomator"
   ]
  },
  {
   "cell_type": "code",
   "execution_count": 516,
   "metadata": {},
   "outputs": [],
   "source": [
    "# from mlautomator.mlautomator import MLAutomator\n",
    "\n",
    "# automator = MLAutomator(x_train, y_train, iterations = 1)"
   ]
  },
  {
   "cell_type": "code",
   "execution_count": 517,
   "metadata": {},
   "outputs": [],
   "source": [
    "# automator.find_best_algorithm()"
   ]
  },
  {
   "cell_type": "code",
   "execution_count": 518,
   "metadata": {},
   "outputs": [],
   "source": [
    "# automator.print_best_space()"
   ]
  },
  {
   "cell_type": "markdown",
   "metadata": {},
   "source": [
    "### SGD\n",
    "Logistic probabilities - doubled early stopping"
   ]
  },
  {
   "cell_type": "code",
   "execution_count": 519,
   "metadata": {},
   "outputs": [],
   "source": [
    "from sklearn.linear_model import SGDClassifier"
   ]
  },
  {
   "cell_type": "code",
   "execution_count": 535,
   "metadata": {},
   "outputs": [
    {
     "data": {
      "text/plain": [
       "SGDClassifier(alpha=0.0001, average=False, class_weight=None,\n",
       "              early_stopping=False, epsilon=0.1, eta0=0.0, fit_intercept=True,\n",
       "              l1_ratio=0.15, learning_rate='optimal', loss='log', max_iter=1000,\n",
       "              n_iter_no_change=10, n_jobs=None, penalty='l2', power_t=0.5,\n",
       "              random_state=499, shuffle=True, tol=0.001,\n",
       "              validation_fraction=0.1, verbose=0, warm_start=False)"
      ]
     },
     "execution_count": 535,
     "metadata": {},
     "output_type": "execute_result"
    }
   ],
   "source": [
    "sgd = SGDClassifier(random_state = 499, n_iter_no_change = 10, loss='log')\n",
    "sgd.fit(x_train, y_train)"
   ]
  },
  {
   "cell_type": "code",
   "execution_count": 536,
   "metadata": {},
   "outputs": [
    {
     "data": {
      "text/plain": [
       "0.5845762515897792"
      ]
     },
     "execution_count": 536,
     "metadata": {},
     "output_type": "execute_result"
    }
   ],
   "source": [
    "sgd.score(x_train, y_train)"
   ]
  },
  {
   "cell_type": "code",
   "execution_count": 537,
   "metadata": {},
   "outputs": [
    {
     "data": {
      "text/plain": [
       "0.5815123135622615"
      ]
     },
     "execution_count": 537,
     "metadata": {},
     "output_type": "execute_result"
    }
   ],
   "source": [
    "sgd.score(x_test, y_test)"
   ]
  },
  {
   "cell_type": "markdown",
   "metadata": {},
   "source": [
    "### KNN\n",
    "\n",
    "Doesn't make as much sense because we can't really build rules as well"
   ]
  },
  {
   "cell_type": "code",
   "execution_count": 799,
   "metadata": {},
   "outputs": [],
   "source": [
    "from sklearn.neighbors import KNeighborsClassifier\n"
   ]
  },
  {
   "cell_type": "code",
   "execution_count": 800,
   "metadata": {},
   "outputs": [],
   "source": [
    "sclr = StandardScaler()\n",
    "x_train1 = sclr.fit_transform(x_train)\n",
    "x_test1 = sclr.transform(x_test)"
   ]
  },
  {
   "cell_type": "code",
   "execution_count": 802,
   "metadata": {},
   "outputs": [],
   "source": [
    "knnclf1 = KNeighborsClassifier(n_neighbors = 10, \n",
    "                    weights = 'uniform',\n",
    "                    algorithm = 'auto')"
   ]
  },
  {
   "cell_type": "code",
   "execution_count": 803,
   "metadata": {},
   "outputs": [],
   "source": [
    "knnclf2 = KNeighborsClassifier(n_neighbors = 10, \n",
    "                    weights = 'distance',\n",
    "                    algorithm = 'auto')"
   ]
  },
  {
   "cell_type": "code",
   "execution_count": 804,
   "metadata": {},
   "outputs": [
    {
     "name": "stdout",
     "output_type": "stream",
     "text": [
      "0.6740374609781478\n",
      "0.5865417967395075\n"
     ]
    }
   ],
   "source": [
    "knnclf1.fit(x_train1, y_train)\n",
    "print(knnclf1.score(x_train1, y_train))\n",
    "print(knnclf1.score(x_test1, y_test))"
   ]
  },
  {
   "cell_type": "code",
   "execution_count": 805,
   "metadata": {},
   "outputs": [
    {
     "name": "stdout",
     "output_type": "stream",
     "text": [
      "0.9998265695456122\n",
      "0.5882761012833854\n"
     ]
    }
   ],
   "source": [
    "knnclf2.fit(x_train1, y_train)\n",
    "print(knnclf2.score(x_train1, y_train))\n",
    "print(knnclf2.score(x_test1, y_test))"
   ]
  },
  {
   "cell_type": "code",
   "execution_count": 806,
   "metadata": {},
   "outputs": [],
   "source": [
    "knnclf3 = KNeighborsClassifier(n_neighbors = 5, \n",
    "                    weights = 'uniform',\n",
    "                    algorithm = 'auto')\n",
    "\n",
    "knnclf4 = KNeighborsClassifier(n_neighbors = 5, \n",
    "                    weights = 'distance',\n",
    "                    algorithm = 'auto')"
   ]
  },
  {
   "cell_type": "code",
   "execution_count": 808,
   "metadata": {},
   "outputs": [
    {
     "name": "stdout",
     "output_type": "stream",
     "text": [
      "0.7226557983581917\n",
      "0.5763961151578217\n",
      "0.9998265695456122\n",
      "0.5751821019771072\n"
     ]
    }
   ],
   "source": [
    "knnclf3.fit(x_train1, y_train)\n",
    "knnclf4.fit(x_train1, y_train)\n",
    "\n",
    "print(knnclf3.score(x_train1, y_train))\n",
    "print(knnclf3.score(x_test1, y_test))\n",
    "\n",
    "print(knnclf4.score(x_train1, y_train))\n",
    "print(knnclf4.score(x_test1, y_test))"
   ]
  }
 ],
 "metadata": {
  "kernelspec": {
   "display_name": "Python 3",
   "language": "python",
   "name": "python3"
  },
  "language_info": {
   "codemirror_mode": {
    "name": "ipython",
    "version": 3
   },
   "file_extension": ".py",
   "mimetype": "text/x-python",
   "name": "python",
   "nbconvert_exporter": "python",
   "pygments_lexer": "ipython3",
   "version": "3.8.0"
  }
 },
 "nbformat": 4,
 "nbformat_minor": 2
}
