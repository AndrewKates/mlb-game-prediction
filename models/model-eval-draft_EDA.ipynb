{
 "cells": [
  {
   "cell_type": "code",
   "execution_count": 1,
   "metadata": {},
   "outputs": [],
   "source": [
    "import pandas as pd\n",
    "import matplotlib.pyplot as plt\n",
    "import seaborn as sns\n",
    "import os\n",
    "import plotnine\n",
    "from plotnine import ggplot, geom_histogram, aes\n",
    "\n",
    "PATH_TO_DATA = '../data/'\n",
    "PATH_TO_OUTPUT_DATA = '../output-data/'\n",
    "PATH_TO_MODEL_DATA = '../model-data/'\n",
    "PATH_TO_VIS_DATA = '../visualization-data/'"
   ]
  },
  {
   "cell_type": "code",
   "execution_count": 2,
   "metadata": {},
   "outputs": [],
   "source": [
    "# imports\n",
    "from sklearn.model_selection import cross_val_score\n",
    "from sklearn.linear_model import LogisticRegression\n",
    "import math\n",
    "from sklearn.model_selection import train_test_split\n",
    "from sklearn.linear_model import LogisticRegressionCV\n",
    "from sklearn.metrics import brier_score_loss, confusion_matrix, \\\n",
    "    roc_auc_score, roc_curve, auc, average_precision_score, precision_score\n",
    "from sklearn import tree\n",
    "from sklearn.tree import DecisionTreeClassifier\n",
    "from sklearn.model_selection import GridSearchCV\n",
    "from sklearn.preprocessing import StandardScaler\n",
    "from sklearn.ensemble import RandomForestClassifier\n",
    "from xgboost import XGBClassifier\n",
    "from sklearn.model_selection import RandomizedSearchCV\n",
    "from sklearn.svm import SVC\n",
    "from sklearn.linear_model import SGDClassifier\n",
    "from sklearn.neighbors import KNeighborsClassifier"
   ]
  },
  {
   "cell_type": "code",
   "execution_count": 3,
   "metadata": {},
   "outputs": [],
   "source": [
    "MLB_DF = pd.read_csv(PATH_TO_OUTPUT_DATA + 'MLB_INPUT.csv')\n",
    "MLB_DF['home_ISO'] = MLB_DF['home_SLG'] - MLB_DF['home_AVG']\n",
    "MLB_DF['away_ISO'] = MLB_DF['away_SLG'] - MLB_DF['away_AVG']\n",
    "MLB_DF['ISO_difference'] = MLB_DF['home_ISO'] - MLB_DF['away_ISO']\n",
    "MLB_DF['ISO_difference_PCT'] = (MLB_DF['home_ISO'] - MLB_DF['away_ISO'])/ MLB_DF['home_ISO']*100"
   ]
  },
  {
   "cell_type": "code",
   "execution_count": 101,
   "metadata": {},
   "outputs": [
    {
     "data": {
      "text/html": [
       "<div>\n",
       "<style scoped>\n",
       "    .dataframe tbody tr th:only-of-type {\n",
       "        vertical-align: middle;\n",
       "    }\n",
       "\n",
       "    .dataframe tbody tr th {\n",
       "        vertical-align: top;\n",
       "    }\n",
       "\n",
       "    .dataframe thead th {\n",
       "        text-align: right;\n",
       "    }\n",
       "</style>\n",
       "<table border=\"1\" class=\"dataframe\">\n",
       "  <thead>\n",
       "    <tr style=\"text-align: right;\">\n",
       "      <th></th>\n",
       "      <th>OBPΔ</th>\n",
       "      <th>WHIPΔ</th>\n",
       "      <th>K9Δ</th>\n",
       "      <th>HR9Δ</th>\n",
       "      <th>K/BBΔ</th>\n",
       "      <th>FIPΔ</th>\n",
       "      <th>ELOΔ</th>\n",
       "      <th>ISOΔ</th>\n",
       "      <th>restΔ</th>\n",
       "    </tr>\n",
       "  </thead>\n",
       "  <tbody>\n",
       "    <tr>\n",
       "      <th>count</th>\n",
       "      <td>46128.000000</td>\n",
       "      <td>46128.000000</td>\n",
       "      <td>46128.000000</td>\n",
       "      <td>46128.000000</td>\n",
       "      <td>46128.000000</td>\n",
       "      <td>46128.000000</td>\n",
       "      <td>46128.000000</td>\n",
       "      <td>46128.000000</td>\n",
       "      <td>46128.000000</td>\n",
       "    </tr>\n",
       "    <tr>\n",
       "      <th>mean</th>\n",
       "      <td>0.022602</td>\n",
       "      <td>-0.000598</td>\n",
       "      <td>0.002237</td>\n",
       "      <td>0.000093</td>\n",
       "      <td>0.005135</td>\n",
       "      <td>-0.001073</td>\n",
       "      <td>-0.112993</td>\n",
       "      <td>0.001160</td>\n",
       "      <td>0.000304</td>\n",
       "    </tr>\n",
       "    <tr>\n",
       "      <th>std</th>\n",
       "      <td>0.461568</td>\n",
       "      <td>0.194821</td>\n",
       "      <td>1.806960</td>\n",
       "      <td>0.382400</td>\n",
       "      <td>1.353428</td>\n",
       "      <td>0.837939</td>\n",
       "      <td>47.109015</td>\n",
       "      <td>0.057983</td>\n",
       "      <td>2.381057</td>\n",
       "    </tr>\n",
       "    <tr>\n",
       "      <th>min</th>\n",
       "      <td>-1.779933</td>\n",
       "      <td>-1.154770</td>\n",
       "      <td>-8.682394</td>\n",
       "      <td>-2.027936</td>\n",
       "      <td>-14.008457</td>\n",
       "      <td>-4.167378</td>\n",
       "      <td>-176.250866</td>\n",
       "      <td>-0.275342</td>\n",
       "      <td>-182.000000</td>\n",
       "    </tr>\n",
       "    <tr>\n",
       "      <th>25%</th>\n",
       "      <td>-0.283042</td>\n",
       "      <td>-0.114781</td>\n",
       "      <td>-1.060189</td>\n",
       "      <td>-0.222333</td>\n",
       "      <td>-0.579593</td>\n",
       "      <td>-0.490549</td>\n",
       "      <td>-31.949433</td>\n",
       "      <td>-0.037133</td>\n",
       "      <td>0.000000</td>\n",
       "    </tr>\n",
       "    <tr>\n",
       "      <th>50%</th>\n",
       "      <td>0.020453</td>\n",
       "      <td>0.000000</td>\n",
       "      <td>0.000000</td>\n",
       "      <td>0.000000</td>\n",
       "      <td>0.000000</td>\n",
       "      <td>0.000000</td>\n",
       "      <td>0.267419</td>\n",
       "      <td>0.001450</td>\n",
       "      <td>0.000000</td>\n",
       "    </tr>\n",
       "    <tr>\n",
       "      <th>75%</th>\n",
       "      <td>0.327019</td>\n",
       "      <td>0.113652</td>\n",
       "      <td>1.070891</td>\n",
       "      <td>0.222525</td>\n",
       "      <td>0.592246</td>\n",
       "      <td>0.494594</td>\n",
       "      <td>31.965614</td>\n",
       "      <td>0.039222</td>\n",
       "      <td>0.000000</td>\n",
       "    </tr>\n",
       "    <tr>\n",
       "      <th>max</th>\n",
       "      <td>1.960365</td>\n",
       "      <td>0.998780</td>\n",
       "      <td>9.585648</td>\n",
       "      <td>2.027936</td>\n",
       "      <td>13.964935</td>\n",
       "      <td>5.000167</td>\n",
       "      <td>193.658080</td>\n",
       "      <td>0.215447</td>\n",
       "      <td>189.000000</td>\n",
       "    </tr>\n",
       "  </tbody>\n",
       "</table>\n",
       "</div>"
      ],
      "text/plain": [
       "               OBPΔ         WHIPΔ           K9Δ          HR9Δ         K/BBΔ  \\\n",
       "count  46128.000000  46128.000000  46128.000000  46128.000000  46128.000000   \n",
       "mean       0.022602     -0.000598      0.002237      0.000093      0.005135   \n",
       "std        0.461568      0.194821      1.806960      0.382400      1.353428   \n",
       "min       -1.779933     -1.154770     -8.682394     -2.027936    -14.008457   \n",
       "25%       -0.283042     -0.114781     -1.060189     -0.222333     -0.579593   \n",
       "50%        0.020453      0.000000      0.000000      0.000000      0.000000   \n",
       "75%        0.327019      0.113652      1.070891      0.222525      0.592246   \n",
       "max        1.960365      0.998780      9.585648      2.027936     13.964935   \n",
       "\n",
       "               FIPΔ          ELOΔ          ISOΔ         restΔ  \n",
       "count  46128.000000  46128.000000  46128.000000  46128.000000  \n",
       "mean      -0.001073     -0.112993      0.001160      0.000304  \n",
       "std        0.837939     47.109015      0.057983      2.381057  \n",
       "min       -4.167378   -176.250866     -0.275342   -182.000000  \n",
       "25%       -0.490549    -31.949433     -0.037133      0.000000  \n",
       "50%        0.000000      0.267419      0.001450      0.000000  \n",
       "75%        0.494594     31.965614      0.039222      0.000000  \n",
       "max        5.000167    193.658080      0.215447    189.000000  "
      ]
     },
     "execution_count": 101,
     "metadata": {},
     "output_type": "execute_result"
    }
   ],
   "source": [
    "EDA_DATA = create_features(MLB_DF, False)[0].rename(\n",
    "    dict(zip(\n",
    "        list(create_features(MLB_DF, False)[0].columns),\n",
    "        [x.split('_difference')[0] + 'Δ' for x in create_features(MLB_DF, False)[0].columns],\n",
    "    )), axis = 1\n",
    ").rename({\n",
    "    'restΔ%': 'restΔ'\n",
    "}, axis = 1)\n",
    "EDA_DATA.describe()"
   ]
  },
  {
   "cell_type": "code",
   "execution_count": 73,
   "metadata": {},
   "outputs": [
    {
     "data": {
      "image/png": "[encoded data removed]",
      "text/plain": [
       "<Figure size 1152x360 with 3 Axes>"
      ]
     },
     "metadata": {
      "needs_background": "light"
     },
     "output_type": "display_data"
    }
   ],
   "source": [
    "fig, (ax1, ax2, ax3) = plt.subplots(1, 3, figsize = (16, 5))\n",
    "ax1.hist(EDA_DATA['OBPΔ%'], bins = 50)\n",
    "ax1.set(title = 'OBPΔ%')\n",
    "ax2.hist(EDA_DATA['ISOΔ%'], bins = 40, color = 'red')\n",
    "ax2.set(title = 'ISOΔ%')\n",
    "\n",
    "ax3.hist(EDA_DATA['ELOΔ%'], bins = 50, color = 'green')\n",
    "ax3.set(title = 'ELOΔ%')\n",
    "\n",
    "plt.savefig('../charts/eda-pct.png', dpi=320)\n",
    "plt.show()"
   ]
  },
  {
   "cell_type": "code",
   "execution_count": 74,
   "metadata": {
    "scrolled": true
   },
   "outputs": [
    {
     "data": {
      "image/png": "[encoded data removed]",
      "text/plain": [
       "<Figure size 1152x360 with 3 Axes>"
      ]
     },
     "metadata": {
      "needs_background": "light"
     },
     "output_type": "display_data"
    }
   ],
   "source": [
    "fig, (ax1, ax2, ax3) = plt.subplots(1, 3, figsize = (16, 5))\n",
    "ax1.hist(EDA_DATA['FIPΔ%'], bins = 50, color = 'purple')\n",
    "ax1.set(title = 'FIPΔ%')\n",
    "ax2.hist(EDA_DATA['WHIPΔ%'], bins = 40, color = 'gray')\n",
    "ax2.set(title = 'WHIPΔ%')\n",
    "\n",
    "ax3.hist(EDA_DATA['K/BBΔ%'], bins = 50, color = 'orange')\n",
    "ax3.set(title = 'K/BBΔ%')\n",
    "\n",
    "plt.savefig('../charts/eda-pct-2.png', dpi=320)\n",
    "plt.show()"
   ]
  },
  {
   "cell_type": "code",
   "execution_count": 82,
   "metadata": {},
   "outputs": [
    {
     "data": {
      "image/png": "[encoded data removed]",
      "text/plain": [
       "<Figure size 720x432 with 2 Axes>"
      ]
     },
     "metadata": {
      "needs_background": "light"
     },
     "output_type": "display_data"
    }
   ],
   "source": [
    "plt.figure(figsize=(10, 6))\n",
    "cor = pd.concat([EDA_DATA, create_features(MLB_DF)[1]], axis = 1).corr()\n",
    "cor = cor.apply(lambda x: round(100*x)/100)\n",
    "sns.heatmap(cor, annot = True, cmap = plt.cm.Blues)\n",
    "plt.savefig('../charts/eda-heatmap.png', dpi=320)\n",
    "plt.show()"
   ]
  },
  {
   "cell_type": "code",
   "execution_count": 63,
   "metadata": {},
   "outputs": [
    {
     "data": {
      "text/plain": [
       "OBPΔ%      0.27\n",
       "ISOΔ%      0.19\n",
       "ELOΔ%      0.11\n",
       "outcome    1.00\n",
       "Name: outcome, dtype: float64"
      ]
     },
     "execution_count": 63,
     "metadata": {},
     "output_type": "execute_result"
    }
   ],
   "source": [
    "#Correlation with output variable\n",
    "cor_target = abs(cor['outcome'])\n",
    "# Selecting highly correlated features\n",
    "relevant_features = cor_target[cor_target >= 0.1]\n",
    "relevant_features"
   ]
  },
  {
   "cell_type": "code",
   "execution_count": 7,
   "metadata": {},
   "outputs": [],
   "source": [
    "cutoff = 2015"
   ]
  },
  {
   "cell_type": "code",
   "execution_count": 94,
   "metadata": {},
   "outputs": [],
   "source": [
    "def create_features(data, pct = True):\n",
    "    features = data.drop(labels = \n",
    "                       ['dt', 'Y', 'M', 'D', 'away_team', \n",
    "                        'home_team', 'away_pitcher_id', 'home_pitcher_id',\n",
    "                       'date'],\n",
    "                      axis = 1)\n",
    "    features['rest_difference'] = features['home_rest'] - features['away_rest']\n",
    "    features['ELO_difference_PCT'] = features['ELO_difference']/features['home_ELO']*100\n",
    "    if (pct == True):\n",
    "        PCT_DIFF = features[[i for i in list(features) if 'PCT' in i] + ['rest_difference', 'outcome']]\n",
    "        PCT_DIFF_features = [i for i in list(features) if 'PCT' in i] + ['rest_difference']\n",
    "        PCT_DIFF.drop(labels = ['AVG_difference_PCT', 'SLG_difference_PCT', \n",
    "                            'BAA_difference_PCT', 'IP_Start_difference_PCT', 'ERA_difference_PCT'],\n",
    "                 axis = 1, inplace = True)\n",
    "        PCT_DIFF_features = [i for i in list(PCT_DIFF) if (i != 'outcome')]\n",
    "        return PCT_DIFF[PCT_DIFF_features], PCT_DIFF['outcome']\n",
    "    else:\n",
    "        DIFF = features[[i for i in list(features) if \n",
    "                         (('difference' in i) and ('PCT' not in i))] + ['outcome']]\n",
    "        DIFF.drop(labels = ['AVG_difference', 'SLG_difference', 'BAA_difference', 'IP_Start_difference',\n",
    "                           'ERA_difference'],\n",
    "                 axis = 1, inplace = True)\n",
    "        DIFF_features = [i for i in list(DIFF) if (i != 'outcome')]\n",
    "        return DIFF[DIFF_features], DIFF['outcome']\n",
    "    \n",
    "# splits season into 3/4 for train, 1/4 for test\n",
    "def seasonal_train_test_split(X, Y):\n",
    "    test_train_cutoff = int(len(X)*.75)\n",
    "    x_train = X[0:test_train_cutoff]\n",
    "    x_test = X[test_train_cutoff:]\n",
    "    y_train = Y[0:test_train_cutoff]\n",
    "    y_test = Y[test_train_cutoff:]\n",
    "    \n",
    "    return x_train, x_test, y_train, y_test\n",
    "\n",
    "# Generate \n",
    "def create_yearly_samples(MLB_DF = MLB_DF[MLB_DF.Y > cutoff], scaling = False):\n",
    "    if (scaling == True):\n",
    "        pd.options.mode.chained_assignment = None\n",
    "    sclr = StandardScaler()\n",
    "    years = list(set(MLB_DF.Y))\n",
    "    YEARLY_DATA = {}\n",
    "    for i in years:\n",
    "        YEARLY_MLB = create_features(MLB_DF[MLB_DF.Y == i])\n",
    "#         x_train, x_test, y_train, y_test = seasonal_train_test_split(YEARLY_MLB[0], YEARLY_MLB[1])\n",
    "        x = YEARLY_MLB[0]\n",
    "        if (scaling == True):\n",
    "            x = sclr.fit_transform(x)\n",
    "         \n",
    "        YEARLY_DATA[i] = {\n",
    "            'x': x,\n",
    "            'y': YEARLY_MLB[1],\n",
    "#             'y_train': y_train,\n",
    "#             'y_test': y_test\n",
    "        }\n",
    "    return YEARLY_DATA"
   ]
  },
  {
   "cell_type": "code",
   "execution_count": 21,
   "metadata": {},
   "outputs": [],
   "source": [
    "# Create our yearly df\n",
    "MLB_FINAL_DATA_SCALED = create_yearly_samples(scaling = True)\n",
    "MLB_FINAL_DATA_UNSCALED = create_yearly_samples(scaling = False)"
   ]
  },
  {
   "cell_type": "code",
   "execution_count": 432,
   "metadata": {},
   "outputs": [
    {
     "data": {
      "text/html": [
       "<div>\n",
       "<style scoped>\n",
       "    .dataframe tbody tr th:only-of-type {\n",
       "        vertical-align: middle;\n",
       "    }\n",
       "\n",
       "    .dataframe tbody tr th {\n",
       "        vertical-align: top;\n",
       "    }\n",
       "\n",
       "    .dataframe thead th {\n",
       "        text-align: right;\n",
       "    }\n",
       "</style>\n",
       "<table border=\"1\" class=\"dataframe\">\n",
       "  <thead>\n",
       "    <tr style=\"text-align: right;\">\n",
       "      <th></th>\n",
       "      <th>LogitLasso</th>\n",
       "      <th>LogitRidge</th>\n",
       "      <th>LogitElasticNet</th>\n",
       "      <th>SVC_C10</th>\n",
       "      <th>SVC_C1</th>\n",
       "      <th>SVC_C0.01</th>\n",
       "      <th>KNN_20_Uniform</th>\n",
       "      <th>KNN_10_Uniform</th>\n",
       "      <th>KNN_10_Distance</th>\n",
       "    </tr>\n",
       "    <tr>\n",
       "      <th>Y</th>\n",
       "      <th></th>\n",
       "      <th></th>\n",
       "      <th></th>\n",
       "      <th></th>\n",
       "      <th></th>\n",
       "      <th></th>\n",
       "      <th></th>\n",
       "      <th></th>\n",
       "      <th></th>\n",
       "    </tr>\n",
       "  </thead>\n",
       "  <tbody>\n",
       "    <tr>\n",
       "      <th>2016</th>\n",
       "      <td>0</td>\n",
       "      <td>0</td>\n",
       "      <td>0</td>\n",
       "      <td>0</td>\n",
       "      <td>0</td>\n",
       "      <td>0</td>\n",
       "      <td>0</td>\n",
       "      <td>0</td>\n",
       "      <td>0</td>\n",
       "    </tr>\n",
       "    <tr>\n",
       "      <th>2017</th>\n",
       "      <td>0</td>\n",
       "      <td>0</td>\n",
       "      <td>0</td>\n",
       "      <td>0</td>\n",
       "      <td>0</td>\n",
       "      <td>0</td>\n",
       "      <td>0</td>\n",
       "      <td>0</td>\n",
       "      <td>0</td>\n",
       "    </tr>\n",
       "    <tr>\n",
       "      <th>2018</th>\n",
       "      <td>0</td>\n",
       "      <td>0</td>\n",
       "      <td>0</td>\n",
       "      <td>0</td>\n",
       "      <td>0</td>\n",
       "      <td>0</td>\n",
       "      <td>0</td>\n",
       "      <td>0</td>\n",
       "      <td>0</td>\n",
       "    </tr>\n",
       "    <tr>\n",
       "      <th>2019</th>\n",
       "      <td>0</td>\n",
       "      <td>0</td>\n",
       "      <td>0</td>\n",
       "      <td>0</td>\n",
       "      <td>0</td>\n",
       "      <td>0</td>\n",
       "      <td>0</td>\n",
       "      <td>0</td>\n",
       "      <td>0</td>\n",
       "    </tr>\n",
       "  </tbody>\n",
       "</table>\n",
       "</div>"
      ],
      "text/plain": [
       "      LogitLasso  LogitRidge  LogitElasticNet  SVC_C10  SVC_C1  SVC_C0.01  \\\n",
       "Y                                                                           \n",
       "2016           0           0                0        0       0          0   \n",
       "2017           0           0                0        0       0          0   \n",
       "2018           0           0                0        0       0          0   \n",
       "2019           0           0                0        0       0          0   \n",
       "\n",
       "      KNN_20_Uniform  KNN_10_Uniform  KNN_10_Distance  \n",
       "Y                                                      \n",
       "2016               0               0                0  \n",
       "2017               0               0                0  \n",
       "2018               0               0                0  \n",
       "2019               0               0                0  "
      ]
     },
     "execution_count": 432,
     "metadata": {},
     "output_type": "execute_result"
    }
   ],
   "source": [
    "# Create testing DF\n",
    "SCALED_ML_RESULTS = pd.DataFrame(sorted(set(MLB_DF[MLB_DF.Y > cutoff]['Y']))).rename(\n",
    "    {0: 'Y'}, axis = 1).set_index('Y')\n",
    "SCALED_ML_RESULTS['LogitLasso'] = 0\n",
    "SCALED_ML_RESULTS['LogitRidge'] = 0\n",
    "SCALED_ML_RESULTS['LogitElasticNet'] = 0\n",
    "SCALED_ML_RESULTS['SVC_C10'] = 0\n",
    "SCALED_ML_RESULTS['SVC_C1'] = 0\n",
    "SCALED_ML_RESULTS['SVC_C0.01'] = 0\n",
    "SCALED_ML_RESULTS['KNN_20_Uniform'] = 0\n",
    "SCALED_ML_RESULTS['KNN_10_Uniform'] = 0\n",
    "SCALED_ML_RESULTS['KNN_10_Distance'] = 0\n",
    "SCALED_ML_RESULTS"
   ]
  },
  {
   "cell_type": "code",
   "execution_count": 22,
   "metadata": {},
   "outputs": [
    {
     "data": {
      "text/html": [
       "<div>\n",
       "<style scoped>\n",
       "    .dataframe tbody tr th:only-of-type {\n",
       "        vertical-align: middle;\n",
       "    }\n",
       "\n",
       "    .dataframe tbody tr th {\n",
       "        vertical-align: top;\n",
       "    }\n",
       "\n",
       "    .dataframe thead th {\n",
       "        text-align: right;\n",
       "    }\n",
       "</style>\n",
       "<table border=\"1\" class=\"dataframe\">\n",
       "  <thead>\n",
       "    <tr style=\"text-align: right;\">\n",
       "      <th></th>\n",
       "      <th>LogitLasso</th>\n",
       "      <th>LogitRidge</th>\n",
       "      <th>LogitElasticNet</th>\n",
       "      <th>DecisionTree</th>\n",
       "      <th>RF</th>\n",
       "      <th>SGD</th>\n",
       "      <th>XGBoost</th>\n",
       "    </tr>\n",
       "    <tr>\n",
       "      <th>Y</th>\n",
       "      <th></th>\n",
       "      <th></th>\n",
       "      <th></th>\n",
       "      <th></th>\n",
       "      <th></th>\n",
       "      <th></th>\n",
       "      <th></th>\n",
       "    </tr>\n",
       "  </thead>\n",
       "  <tbody>\n",
       "    <tr>\n",
       "      <th>2016</th>\n",
       "      <td>0</td>\n",
       "      <td>0</td>\n",
       "      <td>0</td>\n",
       "      <td>0</td>\n",
       "      <td>0</td>\n",
       "      <td>0</td>\n",
       "      <td>0</td>\n",
       "    </tr>\n",
       "    <tr>\n",
       "      <th>2017</th>\n",
       "      <td>0</td>\n",
       "      <td>0</td>\n",
       "      <td>0</td>\n",
       "      <td>0</td>\n",
       "      <td>0</td>\n",
       "      <td>0</td>\n",
       "      <td>0</td>\n",
       "    </tr>\n",
       "    <tr>\n",
       "      <th>2018</th>\n",
       "      <td>0</td>\n",
       "      <td>0</td>\n",
       "      <td>0</td>\n",
       "      <td>0</td>\n",
       "      <td>0</td>\n",
       "      <td>0</td>\n",
       "      <td>0</td>\n",
       "    </tr>\n",
       "    <tr>\n",
       "      <th>2019</th>\n",
       "      <td>0</td>\n",
       "      <td>0</td>\n",
       "      <td>0</td>\n",
       "      <td>0</td>\n",
       "      <td>0</td>\n",
       "      <td>0</td>\n",
       "      <td>0</td>\n",
       "    </tr>\n",
       "  </tbody>\n",
       "</table>\n",
       "</div>"
      ],
      "text/plain": [
       "      LogitLasso  LogitRidge  LogitElasticNet  DecisionTree  RF  SGD  XGBoost\n",
       "Y                                                                            \n",
       "2016           0           0                0             0   0    0        0\n",
       "2017           0           0                0             0   0    0        0\n",
       "2018           0           0                0             0   0    0        0\n",
       "2019           0           0                0             0   0    0        0"
      ]
     },
     "execution_count": 22,
     "metadata": {},
     "output_type": "execute_result"
    }
   ],
   "source": [
    "# Create testing DF\n",
    "UNSCALED_ML_RESULTS = pd.DataFrame(sorted(set(MLB_DF[MLB_DF.Y > cutoff]['Y']))).rename(\n",
    "    {0: 'Y'}, axis = 1).set_index('Y')\n",
    "UNSCALED_ML_RESULTS['LogitLasso'] = 0\n",
    "UNSCALED_ML_RESULTS['LogitRidge'] = 0\n",
    "UNSCALED_ML_RESULTS['LogitElasticNet'] = 0\n",
    "UNSCALED_ML_RESULTS['DecisionTree'] = 0\n",
    "UNSCALED_ML_RESULTS['RF'] = 0\n",
    "UNSCALED_ML_RESULTS['SGD'] = 0\n",
    "UNSCALED_ML_RESULTS['XGBoost'] = 0\n",
    "UNSCALED_ML_RESULTS"
   ]
  },
  {
   "cell_type": "code",
   "execution_count": 47,
   "metadata": {},
   "outputs": [
    {
     "data": {
      "text/html": [
       "<div>\n",
       "<style scoped>\n",
       "    .dataframe tbody tr th:only-of-type {\n",
       "        vertical-align: middle;\n",
       "    }\n",
       "\n",
       "    .dataframe tbody tr th {\n",
       "        vertical-align: top;\n",
       "    }\n",
       "\n",
       "    .dataframe thead th {\n",
       "        text-align: right;\n",
       "    }\n",
       "</style>\n",
       "<table border=\"1\" class=\"dataframe\">\n",
       "  <thead>\n",
       "    <tr style=\"text-align: right;\">\n",
       "      <th></th>\n",
       "      <th>LogitLasso</th>\n",
       "      <th>LogitRidge</th>\n",
       "      <th>LogitElasticNet</th>\n",
       "      <th>DecisionTree</th>\n",
       "      <th>RF</th>\n",
       "      <th>SGD</th>\n",
       "      <th>XGBoost</th>\n",
       "    </tr>\n",
       "    <tr>\n",
       "      <th>M</th>\n",
       "      <th></th>\n",
       "      <th></th>\n",
       "      <th></th>\n",
       "      <th></th>\n",
       "      <th></th>\n",
       "      <th></th>\n",
       "      <th></th>\n",
       "    </tr>\n",
       "  </thead>\n",
       "  <tbody>\n",
       "    <tr>\n",
       "      <th>3</th>\n",
       "      <td>0</td>\n",
       "      <td>0</td>\n",
       "      <td>0</td>\n",
       "      <td>0</td>\n",
       "      <td>0</td>\n",
       "      <td>0</td>\n",
       "      <td>0</td>\n",
       "    </tr>\n",
       "    <tr>\n",
       "      <th>4</th>\n",
       "      <td>0</td>\n",
       "      <td>0</td>\n",
       "      <td>0</td>\n",
       "      <td>0</td>\n",
       "      <td>0</td>\n",
       "      <td>0</td>\n",
       "      <td>0</td>\n",
       "    </tr>\n",
       "    <tr>\n",
       "      <th>5</th>\n",
       "      <td>0</td>\n",
       "      <td>0</td>\n",
       "      <td>0</td>\n",
       "      <td>0</td>\n",
       "      <td>0</td>\n",
       "      <td>0</td>\n",
       "      <td>0</td>\n",
       "    </tr>\n",
       "    <tr>\n",
       "      <th>6</th>\n",
       "      <td>0</td>\n",
       "      <td>0</td>\n",
       "      <td>0</td>\n",
       "      <td>0</td>\n",
       "      <td>0</td>\n",
       "      <td>0</td>\n",
       "      <td>0</td>\n",
       "    </tr>\n",
       "    <tr>\n",
       "      <th>7</th>\n",
       "      <td>0</td>\n",
       "      <td>0</td>\n",
       "      <td>0</td>\n",
       "      <td>0</td>\n",
       "      <td>0</td>\n",
       "      <td>0</td>\n",
       "      <td>0</td>\n",
       "    </tr>\n",
       "    <tr>\n",
       "      <th>8</th>\n",
       "      <td>0</td>\n",
       "      <td>0</td>\n",
       "      <td>0</td>\n",
       "      <td>0</td>\n",
       "      <td>0</td>\n",
       "      <td>0</td>\n",
       "      <td>0</td>\n",
       "    </tr>\n",
       "    <tr>\n",
       "      <th>9</th>\n",
       "      <td>0</td>\n",
       "      <td>0</td>\n",
       "      <td>0</td>\n",
       "      <td>0</td>\n",
       "      <td>0</td>\n",
       "      <td>0</td>\n",
       "      <td>0</td>\n",
       "    </tr>\n",
       "  </tbody>\n",
       "</table>\n",
       "</div>"
      ],
      "text/plain": [
       "   LogitLasso  LogitRidge  LogitElasticNet  DecisionTree  RF  SGD  XGBoost\n",
       "M                                                                         \n",
       "3           0           0                0             0   0    0        0\n",
       "4           0           0                0             0   0    0        0\n",
       "5           0           0                0             0   0    0        0\n",
       "6           0           0                0             0   0    0        0\n",
       "7           0           0                0             0   0    0        0\n",
       "8           0           0                0             0   0    0        0\n",
       "9           0           0                0             0   0    0        0"
      ]
     },
     "execution_count": 47,
     "metadata": {},
     "output_type": "execute_result"
    }
   ],
   "source": [
    "# Create testing DF\n",
    "UNSCALED_ML_RESULTS_MONTH = pd.DataFrame(\n",
    "    sorted(set(MLB_DF[MLB_DF.Y == 2019]['M']))).rename(\n",
    "    {0: 'M'}, axis = 1).set_index('M')\n",
    "UNSCALED_ML_RESULTS_MONTH['LogitLasso'] = 0\n",
    "UNSCALED_ML_RESULTS_MONTH['LogitRidge'] = 0\n",
    "UNSCALED_ML_RESULTS_MONTH['LogitElasticNet'] = 0\n",
    "UNSCALED_ML_RESULTS_MONTH['DecisionTree'] = 0\n",
    "UNSCALED_ML_RESULTS_MONTH['RF'] = 0\n",
    "UNSCALED_ML_RESULTS_MONTH['SGD'] = 0\n",
    "UNSCALED_ML_RESULTS_MONTH['XGBoost'] = 0\n",
    "UNSCALED_ML_RESULTS_MONTH"
   ]
  },
  {
   "cell_type": "markdown",
   "metadata": {},
   "source": [
    "## Scaled classifiers\n",
    "Consider the classifiers that need to be scaled, so we use DIFF and use StandardScaling"
   ]
  },
  {
   "cell_type": "code",
   "execution_count": 434,
   "metadata": {},
   "outputs": [],
   "source": [
    "X1, Y1 = create_features(MLB_DF[MLB_DF.Y <= cutoff], False)\n",
    "# x_train_01, x_test_01, y_train, y_test = seasonal_train_test_split(X1, Y1) # why standrardscale when you couldn't?\n",
    "\n",
    "# Drop ERA, AVG, SLG\n",
    "sclr = StandardScaler()\n",
    "X1 = sclr.fit_transform(X1)\n",
    "# x_test1 = sclr.transform(x_test_01)"
   ]
  },
  {
   "cell_type": "markdown",
   "metadata": {},
   "source": [
    "Build our models - use `random_state = 499` and `cv = 5` for everything"
   ]
  },
  {
   "cell_type": "code",
   "execution_count": 435,
   "metadata": {},
   "outputs": [],
   "source": [
    "SCALED_ML_MODELS = {}"
   ]
  },
  {
   "cell_type": "code",
   "execution_count": 436,
   "metadata": {},
   "outputs": [
    {
     "data": {
      "text/plain": [
       "LogisticRegressionCV(Cs=[0.1], class_weight=None, cv=5, dual=False,\n",
       "                     fit_intercept=True, intercept_scaling=1.0,\n",
       "                     l1_ratios=[0.2, 0.5, 0.7, 0.8], max_iter=100,\n",
       "                     multi_class='auto', n_jobs=None, penalty='elasticnet',\n",
       "                     random_state=499, refit=True, scoring=None, solver='saga',\n",
       "                     tol=0.0001, verbose=0)"
      ]
     },
     "execution_count": 436,
     "metadata": {},
     "output_type": "execute_result"
    }
   ],
   "source": [
    "Lasso = LogisticRegressionCV(Cs = [0.1], \n",
    "                             cv = 5, random_state = 499,\n",
    "                               penalty='l1',\n",
    "                               solver='saga')\n",
    "Ridge = LogisticRegressionCV(Cs = [0.1], \n",
    "                             cv = 5, random_state = 499,\n",
    "                               penalty='l2',\n",
    "                               solver='saga')\n",
    "ElasticNet = LogisticRegressionCV(Cs = [0.1], \n",
    "                                  cv = 5, random_state = 499,\n",
    "                               penalty='elasticnet',\n",
    "                               solver='saga',\n",
    "                               l1_ratios = [0.2, 0.5, 0.7, 0.8])\n",
    "Lasso.fit(X1, Y1)\n",
    "Ridge.fit(X1, Y1)\n",
    "ElasticNet.fit(X1, Y1)"
   ]
  },
  {
   "cell_type": "code",
   "execution_count": 437,
   "metadata": {},
   "outputs": [
    {
     "data": {
      "text/plain": [
       "array([0.5])"
      ]
     },
     "execution_count": 437,
     "metadata": {},
     "output_type": "execute_result"
    }
   ],
   "source": [
    "ElasticNet.l1_ratio_"
   ]
  },
  {
   "cell_type": "code",
   "execution_count": 438,
   "metadata": {},
   "outputs": [
    {
     "data": {
      "text/plain": [
       "SVC(C=0.1, break_ties=False, cache_size=200, class_weight=None, coef0=0.0,\n",
       "    decision_function_shape='ovr', degree=5, gamma='scale', kernel='rbf',\n",
       "    max_iter=-1, probability=False, random_state=499, shrinking=True, tol=0.001,\n",
       "    verbose=False)"
      ]
     },
     "execution_count": 438,
     "metadata": {},
     "output_type": "execute_result"
    }
   ],
   "source": [
    "SVC_10 = SVC(random_state = 499,\n",
    "               degree = 5, C = 10)\n",
    "SVC_1 = SVC(random_state = 499,\n",
    "               degree = 5, C = 1)\n",
    "SVC_0_1 = SVC(random_state = 499,\n",
    "               degree = 5, C = 0.01)\n",
    "\n",
    "SVC_10.fit(X1, Y1)\n",
    "SVC_1.fit(X1, Y1)\n",
    "SVC_0_1.fit(X1, Y1)"
   ]
  },
  {
   "cell_type": "code",
   "execution_count": 439,
   "metadata": {},
   "outputs": [
    {
     "data": {
      "text/plain": [
       "KNeighborsClassifier(algorithm='auto', leaf_size=30, metric='minkowski',\n",
       "                     metric_params=None, n_jobs=None, n_neighbors=10, p=2,\n",
       "                     weights='distance')"
      ]
     },
     "execution_count": 439,
     "metadata": {},
     "output_type": "execute_result"
    }
   ],
   "source": [
    "knnclf0 = KNeighborsClassifier(n_neighbors = 10, \n",
    "                    weights = 'uniform',\n",
    "                    algorithm = 'auto')\n",
    "\n",
    "knnclf1 = KNeighborsClassifier(n_neighbors = 10, \n",
    "                    weights = 'uniform',\n",
    "                    algorithm = 'auto')\n",
    "\n",
    "knnclf2 = KNeighborsClassifier(n_neighbors = 10, \n",
    "                    weights = 'distance',\n",
    "                    algorithm = 'auto')\n",
    "\n",
    "knnclf0.fit(X1, Y1)\n",
    "knnclf1.fit(X1, Y1)\n",
    "knnclf2.fit(X1, Y1)"
   ]
  },
  {
   "cell_type": "code",
   "execution_count": 440,
   "metadata": {},
   "outputs": [],
   "source": [
    "# Logit\n",
    "SCALED_ML_MODELS['LogitLasso'] = Lasso\n",
    "SCALED_ML_MODELS['LogitRidge'] = Ridge\n",
    "SCALED_ML_MODELS['LogitElasticNet'] = ElasticNet\n",
    "\n",
    "# SVC\n",
    "SCALED_ML_MODELS['SVC_C10'] = SVC_10\n",
    "SCALED_ML_MODELS['SVC_C1'] = SVC_1\n",
    "SCALED_ML_MODELS['SVC_C0.01'] = SVC_0_1\n",
    "\n",
    "# KNN\n",
    "SCALED_ML_MODELS['KNN_20_Uniform'] = knnclf0\n",
    "SCALED_ML_MODELS['KNN_10_Uniform'] = knnclf1\n",
    "SCALED_ML_MODELS['KNN_10_Distance'] = knnclf2"
   ]
  },
  {
   "cell_type": "markdown",
   "metadata": {},
   "source": [
    "Test our models and report holdout scores on 2015-2019"
   ]
  },
  {
   "cell_type": "code",
   "execution_count": 441,
   "metadata": {},
   "outputs": [
    {
     "data": {
      "text/plain": [
       "dict_keys(['LogitLasso', 'LogitRidge', 'LogitElasticNet', 'SVC_C10', 'SVC_C1', 'SVC_C0.01', 'KNN_20_Uniform', 'KNN_10_Uniform', 'KNN_10_Distance'])"
      ]
     },
     "execution_count": 441,
     "metadata": {},
     "output_type": "execute_result"
    }
   ],
   "source": [
    "MODELS_TO_TEST = SCALED_ML_MODELS.copy()\n",
    "MODELS_TO_TEST.keys()"
   ]
  },
  {
   "cell_type": "code",
   "execution_count": 26,
   "metadata": {},
   "outputs": [],
   "source": [
    "def score_models(MODELS_TO_TEST,\n",
    "                 RESULTS_DF,\n",
    "                 DATA_DF):\n",
    "    # Score all models\n",
    "    for i in MODELS_TO_TEST.keys():\n",
    "        model = MODELS_TO_TEST[i]\n",
    "        for y in RESULTS_DF.index:\n",
    "            x_test = DATA_DF[y]['x']\n",
    "            y_test = DATA_DF[y]['y']\n",
    "\n",
    "            RESULTS_DF.loc[y, i] = model.score(\n",
    "                x_test, y_test)\n",
    "    \n",
    "    return RESULTS_DF"
   ]
  },
  {
   "cell_type": "code",
   "execution_count": 597,
   "metadata": {},
   "outputs": [],
   "source": [
    "SCALE_SCORE_DF = score_models(\n",
    "    SCALED_ML_MODELS,\n",
    "    SCALED_ML_RESULTS,\n",
    "    MLB_FINAL_DATA_SCALED\n",
    ")"
   ]
  },
  {
   "cell_type": "code",
   "execution_count": 598,
   "metadata": {},
   "outputs": [
    {
     "data": {
      "text/html": [
       "<div>\n",
       "<style scoped>\n",
       "    .dataframe tbody tr th:only-of-type {\n",
       "        vertical-align: middle;\n",
       "    }\n",
       "\n",
       "    .dataframe tbody tr th {\n",
       "        vertical-align: top;\n",
       "    }\n",
       "\n",
       "    .dataframe thead th {\n",
       "        text-align: right;\n",
       "    }\n",
       "</style>\n",
       "<table border=\"1\" class=\"dataframe\">\n",
       "  <thead>\n",
       "    <tr style=\"text-align: right;\">\n",
       "      <th></th>\n",
       "      <th>mean</th>\n",
       "      <th>25%</th>\n",
       "      <th>75%</th>\n",
       "    </tr>\n",
       "  </thead>\n",
       "  <tbody>\n",
       "    <tr>\n",
       "      <th>LogitLasso</th>\n",
       "      <td>0.606013</td>\n",
       "      <td>0.604811</td>\n",
       "      <td>0.612644</td>\n",
       "    </tr>\n",
       "    <tr>\n",
       "      <th>LogitRidge</th>\n",
       "      <td>0.606733</td>\n",
       "      <td>0.605120</td>\n",
       "      <td>0.613148</td>\n",
       "    </tr>\n",
       "    <tr>\n",
       "      <th>LogitElasticNet</th>\n",
       "      <td>0.605806</td>\n",
       "      <td>0.604605</td>\n",
       "      <td>0.612324</td>\n",
       "    </tr>\n",
       "    <tr>\n",
       "      <th>SVC_C10</th>\n",
       "      <td>0.599525</td>\n",
       "      <td>0.596372</td>\n",
       "      <td>0.608718</td>\n",
       "    </tr>\n",
       "    <tr>\n",
       "      <th>SVC_C1</th>\n",
       "      <td>0.606218</td>\n",
       "      <td>0.604399</td>\n",
       "      <td>0.613973</td>\n",
       "    </tr>\n",
       "    <tr>\n",
       "      <th>SVC_C0.01</th>\n",
       "      <td>0.603954</td>\n",
       "      <td>0.601517</td>\n",
       "      <td>0.612233</td>\n",
       "    </tr>\n",
       "    <tr>\n",
       "      <th>KNN_20_Uniform</th>\n",
       "      <td>0.578010</td>\n",
       "      <td>0.564680</td>\n",
       "      <td>0.589582</td>\n",
       "    </tr>\n",
       "    <tr>\n",
       "      <th>KNN_10_Uniform</th>\n",
       "      <td>0.578010</td>\n",
       "      <td>0.564680</td>\n",
       "      <td>0.589582</td>\n",
       "    </tr>\n",
       "    <tr>\n",
       "      <th>KNN_10_Distance</th>\n",
       "      <td>0.577804</td>\n",
       "      <td>0.566575</td>\n",
       "      <td>0.587832</td>\n",
       "    </tr>\n",
       "  </tbody>\n",
       "</table>\n",
       "</div>"
      ],
      "text/plain": [
       "                     mean       25%       75%\n",
       "LogitLasso       0.606013  0.604811  0.612644\n",
       "LogitRidge       0.606733  0.605120  0.613148\n",
       "LogitElasticNet  0.605806  0.604605  0.612324\n",
       "SVC_C10          0.599525  0.596372  0.608718\n",
       "SVC_C1           0.606218  0.604399  0.613973\n",
       "SVC_C0.01        0.603954  0.601517  0.612233\n",
       "KNN_20_Uniform   0.578010  0.564680  0.589582\n",
       "KNN_10_Uniform   0.578010  0.564680  0.589582\n",
       "KNN_10_Distance  0.577804  0.566575  0.587832"
      ]
     },
     "execution_count": 598,
     "metadata": {},
     "output_type": "execute_result"
    }
   ],
   "source": [
    "SCALE_SCORE_DF.describe().T[['mean', '25%', '75%']]"
   ]
  },
  {
   "cell_type": "code",
   "execution_count": 599,
   "metadata": {},
   "outputs": [
    {
     "data": {
      "text/html": [
       "<div>\n",
       "<style scoped>\n",
       "    .dataframe tbody tr th:only-of-type {\n",
       "        vertical-align: middle;\n",
       "    }\n",
       "\n",
       "    .dataframe tbody tr th {\n",
       "        vertical-align: top;\n",
       "    }\n",
       "\n",
       "    .dataframe thead th {\n",
       "        text-align: right;\n",
       "    }\n",
       "</style>\n",
       "<table border=\"1\" class=\"dataframe\">\n",
       "  <thead>\n",
       "    <tr style=\"text-align: right;\">\n",
       "      <th></th>\n",
       "      <th>LogitLasso</th>\n",
       "      <th>LogitRidge</th>\n",
       "      <th>LogitElasticNet</th>\n",
       "      <th>SVC_C10</th>\n",
       "      <th>SVC_C1</th>\n",
       "      <th>SVC_C0.01</th>\n",
       "      <th>KNN_20_Uniform</th>\n",
       "      <th>KNN_10_Uniform</th>\n",
       "      <th>KNN_10_Distance</th>\n",
       "    </tr>\n",
       "    <tr>\n",
       "      <th>Y</th>\n",
       "      <th></th>\n",
       "      <th></th>\n",
       "      <th></th>\n",
       "      <th></th>\n",
       "      <th></th>\n",
       "      <th></th>\n",
       "      <th></th>\n",
       "      <th></th>\n",
       "      <th></th>\n",
       "    </tr>\n",
       "  </thead>\n",
       "  <tbody>\n",
       "    <tr>\n",
       "      <th>2016</th>\n",
       "      <td>0.588381</td>\n",
       "      <td>0.588381</td>\n",
       "      <td>0.587557</td>\n",
       "      <td>0.578080</td>\n",
       "      <td>0.585496</td>\n",
       "      <td>0.581376</td>\n",
       "      <td>0.563659</td>\n",
       "      <td>0.563659</td>\n",
       "      <td>0.567367</td>\n",
       "    </tr>\n",
       "    <tr>\n",
       "      <th>2017</th>\n",
       "      <td>0.610288</td>\n",
       "      <td>0.610700</td>\n",
       "      <td>0.610288</td>\n",
       "      <td>0.602469</td>\n",
       "      <td>0.610700</td>\n",
       "      <td>0.608230</td>\n",
       "      <td>0.565021</td>\n",
       "      <td>0.565021</td>\n",
       "      <td>0.564198</td>\n",
       "    </tr>\n",
       "    <tr>\n",
       "      <th>2018</th>\n",
       "      <td>0.612598</td>\n",
       "      <td>0.615480</td>\n",
       "      <td>0.613421</td>\n",
       "      <td>0.608893</td>\n",
       "      <td>0.615068</td>\n",
       "      <td>0.611363</td>\n",
       "      <td>0.587485</td>\n",
       "      <td>0.587485</td>\n",
       "      <td>0.585838</td>\n",
       "    </tr>\n",
       "    <tr>\n",
       "      <th>2019</th>\n",
       "      <td>0.612784</td>\n",
       "      <td>0.612371</td>\n",
       "      <td>0.611959</td>\n",
       "      <td>0.608660</td>\n",
       "      <td>0.613608</td>\n",
       "      <td>0.614845</td>\n",
       "      <td>0.595876</td>\n",
       "      <td>0.595876</td>\n",
       "      <td>0.593814</td>\n",
       "    </tr>\n",
       "  </tbody>\n",
       "</table>\n",
       "</div>"
      ],
      "text/plain": [
       "      LogitLasso  LogitRidge  LogitElasticNet   SVC_C10    SVC_C1  SVC_C0.01  \\\n",
       "Y                                                                              \n",
       "2016    0.588381    0.588381         0.587557  0.578080  0.585496   0.581376   \n",
       "2017    0.610288    0.610700         0.610288  0.602469  0.610700   0.608230   \n",
       "2018    0.612598    0.615480         0.613421  0.608893  0.615068   0.611363   \n",
       "2019    0.612784    0.612371         0.611959  0.608660  0.613608   0.614845   \n",
       "\n",
       "      KNN_20_Uniform  KNN_10_Uniform  KNN_10_Distance  \n",
       "Y                                                      \n",
       "2016        0.563659        0.563659         0.567367  \n",
       "2017        0.565021        0.565021         0.564198  \n",
       "2018        0.587485        0.587485         0.585838  \n",
       "2019        0.595876        0.595876         0.593814  "
      ]
     },
     "execution_count": 599,
     "metadata": {},
     "output_type": "execute_result"
    }
   ],
   "source": [
    "SCALE_SCORE_DF"
   ]
  },
  {
   "cell_type": "code",
   "execution_count": 972,
   "metadata": {},
   "outputs": [],
   "source": [
    "SCALE_SCORE_DF.to_csv(PATH_TO_VIS_DATA + 'scaled_model_scores.csv')"
   ]
  },
  {
   "cell_type": "code",
   "execution_count": 27,
   "metadata": {},
   "outputs": [],
   "source": [
    "def brier_score_models(MODELS_TO_TEST,\n",
    "                 RESULTS_DF,\n",
    "                 DATA_DF):\n",
    "    # Score all models\n",
    "    for i in MODELS_TO_TEST.keys():\n",
    "        model = MODELS_TO_TEST[i]\n",
    "        for y in RESULTS_DF.index:\n",
    "            x_test = DATA_DF[y]['x']\n",
    "            y_test = DATA_DF[y]['y']\n",
    "\n",
    "            try:\n",
    "                RESULTS_DF.loc[y, i] = brier_score_loss(y_test,\n",
    "                    [x[1] for x in model.predict_proba(x_test)])\n",
    "            except:\n",
    "                print(i)\n",
    "\n",
    "    return RESULTS_DF"
   ]
  },
  {
   "cell_type": "code",
   "execution_count": 448,
   "metadata": {},
   "outputs": [
    {
     "name": "stdout",
     "output_type": "stream",
     "text": [
      "SVC_C10\n",
      "SVC_C10\n",
      "SVC_C10\n",
      "SVC_C10\n",
      "SVC_C1\n",
      "SVC_C1\n",
      "SVC_C1\n",
      "SVC_C1\n",
      "SVC_C0.01\n",
      "SVC_C0.01\n",
      "SVC_C0.01\n",
      "SVC_C0.01\n"
     ]
    }
   ],
   "source": [
    "SCALE_BRIER_DF = brier_score_models(\n",
    "    SCALED_ML_MODELS,\n",
    "    SCALED_ML_RESULTS,\n",
    "    MLB_FINAL_DATA_SCALED\n",
    ")"
   ]
  },
  {
   "cell_type": "code",
   "execution_count": 971,
   "metadata": {},
   "outputs": [],
   "source": [
    "SCALE_BRIER_DF.to_csv(PATH_TO_VIS_DATA + 'scaled_brier_scores.csv')"
   ]
  },
  {
   "cell_type": "code",
   "execution_count": 454,
   "metadata": {
    "scrolled": false
   },
   "outputs": [
    {
     "data": {
      "text/html": [
       "<div>\n",
       "<style scoped>\n",
       "    .dataframe tbody tr th:only-of-type {\n",
       "        vertical-align: middle;\n",
       "    }\n",
       "\n",
       "    .dataframe tbody tr th {\n",
       "        vertical-align: top;\n",
       "    }\n",
       "\n",
       "    .dataframe thead th {\n",
       "        text-align: right;\n",
       "    }\n",
       "</style>\n",
       "<table border=\"1\" class=\"dataframe\">\n",
       "  <thead>\n",
       "    <tr style=\"text-align: right;\">\n",
       "      <th></th>\n",
       "      <th>LogitLasso</th>\n",
       "      <th>LogitRidge</th>\n",
       "      <th>LogitElasticNet</th>\n",
       "      <th>SVC_C10</th>\n",
       "      <th>SVC_C1</th>\n",
       "      <th>SVC_C0.01</th>\n",
       "      <th>KNN_20_Uniform</th>\n",
       "      <th>KNN_10_Uniform</th>\n",
       "      <th>KNN_10_Distance</th>\n",
       "    </tr>\n",
       "    <tr>\n",
       "      <th>Y</th>\n",
       "      <th></th>\n",
       "      <th></th>\n",
       "      <th></th>\n",
       "      <th></th>\n",
       "      <th></th>\n",
       "      <th></th>\n",
       "      <th></th>\n",
       "      <th></th>\n",
       "      <th></th>\n",
       "    </tr>\n",
       "  </thead>\n",
       "  <tbody>\n",
       "    <tr>\n",
       "      <th>2016</th>\n",
       "      <td>0.237729</td>\n",
       "      <td>0.237906</td>\n",
       "      <td>0.237809</td>\n",
       "      <td>0.578080</td>\n",
       "      <td>0.585496</td>\n",
       "      <td>0.581376</td>\n",
       "      <td>0.262299</td>\n",
       "      <td>0.262299</td>\n",
       "      <td>0.262639</td>\n",
       "    </tr>\n",
       "    <tr>\n",
       "      <th>2017</th>\n",
       "      <td>0.232426</td>\n",
       "      <td>0.232491</td>\n",
       "      <td>0.232457</td>\n",
       "      <td>0.602469</td>\n",
       "      <td>0.610700</td>\n",
       "      <td>0.608230</td>\n",
       "      <td>0.254872</td>\n",
       "      <td>0.254872</td>\n",
       "      <td>0.255584</td>\n",
       "    </tr>\n",
       "    <tr>\n",
       "      <th>2018</th>\n",
       "      <td>0.229093</td>\n",
       "      <td>0.229079</td>\n",
       "      <td>0.229089</td>\n",
       "      <td>0.608893</td>\n",
       "      <td>0.615068</td>\n",
       "      <td>0.611363</td>\n",
       "      <td>0.250375</td>\n",
       "      <td>0.250375</td>\n",
       "      <td>0.250791</td>\n",
       "    </tr>\n",
       "    <tr>\n",
       "      <th>2019</th>\n",
       "      <td>0.231070</td>\n",
       "      <td>0.231159</td>\n",
       "      <td>0.231113</td>\n",
       "      <td>0.608660</td>\n",
       "      <td>0.613608</td>\n",
       "      <td>0.614845</td>\n",
       "      <td>0.246730</td>\n",
       "      <td>0.246730</td>\n",
       "      <td>0.247359</td>\n",
       "    </tr>\n",
       "  </tbody>\n",
       "</table>\n",
       "</div>"
      ],
      "text/plain": [
       "      LogitLasso  LogitRidge  LogitElasticNet   SVC_C10    SVC_C1  SVC_C0.01  \\\n",
       "Y                                                                              \n",
       "2016    0.237729    0.237906         0.237809  0.578080  0.585496   0.581376   \n",
       "2017    0.232426    0.232491         0.232457  0.602469  0.610700   0.608230   \n",
       "2018    0.229093    0.229079         0.229089  0.608893  0.615068   0.611363   \n",
       "2019    0.231070    0.231159         0.231113  0.608660  0.613608   0.614845   \n",
       "\n",
       "      KNN_20_Uniform  KNN_10_Uniform  KNN_10_Distance  \n",
       "Y                                                      \n",
       "2016        0.262299        0.262299         0.262639  \n",
       "2017        0.254872        0.254872         0.255584  \n",
       "2018        0.250375        0.250375         0.250791  \n",
       "2019        0.246730        0.246730         0.247359  "
      ]
     },
     "execution_count": 454,
     "metadata": {},
     "output_type": "execute_result"
    }
   ],
   "source": [
    "SCALE_BRIER_DF"
   ]
  },
  {
   "cell_type": "code",
   "execution_count": 519,
   "metadata": {},
   "outputs": [],
   "source": [
    "X3_1, Y3_1 = create_features(MLB_DF[MLB_DF.Y > cutoff], False)"
   ]
  },
  {
   "cell_type": "code",
   "execution_count": 617,
   "metadata": {},
   "outputs": [],
   "source": [
    "X3_1 = sclr.transform(X3_1)"
   ]
  },
  {
   "cell_type": "code",
   "execution_count": 618,
   "metadata": {},
   "outputs": [],
   "source": [
    "from sklearn.metrics import roc_curve, auc\n",
    "fpr_s = {}\n",
    "tpr_s = {}\n",
    "auc_dict_s = {}\n",
    "\n",
    "for i in SCALED_ML_MODELS.keys():\n",
    "    try:\n",
    "        fpr_s[i], tpr_s[i], _ = roc_curve(\n",
    "        Y3_1, [x[1] for x in SCALED_ML_MODELS[i].predict_proba(\n",
    "            X3_1)])\n",
    "        auc_dict_s[i] = auc(fpr_s[i], tpr_s[i])\n",
    "    except:\n",
    "        pass      \n"
   ]
  },
  {
   "cell_type": "code",
   "execution_count": 619,
   "metadata": {},
   "outputs": [
    {
     "data": {
      "text/plain": [
       "<matplotlib.legend.Legend at 0x12dc3d910>"
      ]
     },
     "execution_count": 619,
     "metadata": {},
     "output_type": "execute_result"
    },
    {
     "data": {
      "image/png": "[encoded data removed]",
      "text/plain": [
       "<Figure size 720x720 with 1 Axes>"
      ]
     },
     "metadata": {
      "needs_background": "light"
     },
     "output_type": "display_data"
    }
   ],
   "source": [
    "plt.figure(figsize = (10, 10))\n",
    "for i in SCALED_ML_MODELS.keys():\n",
    "    try:\n",
    "        plt.plot(fpr_s[i], tpr_s[i], label = i + ' ROC \\\n",
    "            (area = %0.4f)' % auc_dict_s[i])\n",
    "    except:\n",
    "        pass\n",
    "plt.legend()"
   ]
  },
  {
   "cell_type": "code",
   "execution_count": null,
   "metadata": {},
   "outputs": [],
   "source": []
  },
  {
   "cell_type": "markdown",
   "metadata": {},
   "source": [
    "## Unscaled classifiers\n",
    "Based on percentage difference - use `random_state = 499` and `cv = 5` for everything"
   ]
  },
  {
   "cell_type": "code",
   "execution_count": 9,
   "metadata": {},
   "outputs": [
    {
     "name": "stderr",
     "output_type": "stream",
     "text": [
      "/Library/Frameworks/Python.framework/Versions/3.8/lib/python3.8/site-packages/pandas/core/frame.py:4110: SettingWithCopyWarning: \n",
      "A value is trying to be set on a copy of a slice from a DataFrame\n",
      "\n",
      "See the caveats in the documentation: http://pandas.pydata.org/pandas-docs/stable/user_guide/indexing.html#returning-a-view-versus-a-copy\n",
      "  return super().drop(\n"
     ]
    }
   ],
   "source": [
    "X2, Y2 = create_features(MLB_DF[MLB_DF.Y <= cutoff], True)"
   ]
  },
  {
   "cell_type": "code",
   "execution_count": 20,
   "metadata": {},
   "outputs": [],
   "source": [
    "UNSCALED_ML_MODELS = {}"
   ]
  },
  {
   "cell_type": "code",
   "execution_count": 457,
   "metadata": {
    "scrolled": false
   },
   "outputs": [
    {
     "data": {
      "text/plain": [
       "LogisticRegressionCV(Cs=10, class_weight=None, cv=5, dual=False,\n",
       "                     fit_intercept=True, intercept_scaling=1.0, l1_ratios=None,\n",
       "                     max_iter=400, multi_class='auto', n_jobs=None,\n",
       "                     penalty='l1', random_state=499, refit=True, scoring=None,\n",
       "                     solver='saga', tol=0.0001, verbose=0)"
      ]
     },
     "execution_count": 457,
     "metadata": {},
     "output_type": "execute_result"
    }
   ],
   "source": [
    "Lasso = LogisticRegressionCV(cv = 5, random_state = 499,\n",
    "                               penalty='l1',\n",
    "                               solver='saga',\n",
    "                            max_iter = 400)\n",
    "Lasso.fit(X2, Y2)"
   ]
  },
  {
   "cell_type": "code",
   "execution_count": 462,
   "metadata": {},
   "outputs": [
    {
     "data": {
      "text/plain": [
       "LogisticRegressionCV(Cs=[0.1], class_weight=None, cv=5, dual=False,\n",
       "                     fit_intercept=True, intercept_scaling=1.0, l1_ratios=None,\n",
       "                     max_iter=400, multi_class='auto', n_jobs=None,\n",
       "                     penalty='l2', random_state=499, refit=True, scoring=None,\n",
       "                     solver='saga', tol=0.0001, verbose=0)"
      ]
     },
     "execution_count": 462,
     "metadata": {},
     "output_type": "execute_result"
    }
   ],
   "source": [
    "Ridge = LogisticRegressionCV(Cs = [0.1], \n",
    "                             cv = 5, random_state = 499,\n",
    "                               penalty='l2',\n",
    "                               solver='saga',\n",
    "                            max_iter = 400)\n",
    "Ridge.fit(X2, Y2)"
   ]
  },
  {
   "cell_type": "code",
   "execution_count": 585,
   "metadata": {},
   "outputs": [
    {
     "data": {
      "text/plain": [
       "LogisticRegressionCV(Cs=[0.01], class_weight=None, cv=5, dual=False,\n",
       "                     fit_intercept=True, intercept_scaling=1.0, l1_ratios=[0.5],\n",
       "                     max_iter=400, multi_class='auto', n_jobs=None,\n",
       "                     penalty='elasticnet', random_state=499, refit=True,\n",
       "                     scoring=None, solver='saga', tol=0.0001, verbose=0)"
      ]
     },
     "execution_count": 585,
     "metadata": {},
     "output_type": "execute_result"
    }
   ],
   "source": [
    "ElasticNet = LogisticRegressionCV(Cs = [0.01], \n",
    "                                  cv = 5, random_state = 499,\n",
    "                               penalty='elasticnet',\n",
    "                               solver='saga',\n",
    "                               l1_ratios = [0.5],\n",
    "                                 max_iter = 400)\n",
    "ElasticNet.fit(X2, Y2)"
   ]
  },
  {
   "cell_type": "code",
   "execution_count": 464,
   "metadata": {
    "scrolled": true
   },
   "outputs": [
    {
     "data": {
      "text/plain": [
       "SGDClassifier(alpha=0.0001, average=False, class_weight=None,\n",
       "              early_stopping=False, epsilon=0.1, eta0=0.0, fit_intercept=True,\n",
       "              l1_ratio=0.15, learning_rate='optimal', loss='log', max_iter=1000,\n",
       "              n_iter_no_change=10, n_jobs=None, penalty='l2', power_t=0.5,\n",
       "              random_state=499, shuffle=True, tol=0.001,\n",
       "              validation_fraction=0.1, verbose=0, warm_start=False)"
      ]
     },
     "execution_count": 464,
     "metadata": {},
     "output_type": "execute_result"
    }
   ],
   "source": [
    "# Stochastic gradient descent\n",
    "SGD = SGDClassifier(random_state = 499, \n",
    "              n_iter_no_change = 10, loss='log')\n",
    "SGD.fit(X2, Y2)"
   ]
  },
  {
   "cell_type": "code",
   "execution_count": 467,
   "metadata": {},
   "outputs": [
    {
     "data": {
      "text/plain": [
       "GridSearchCV(cv=None, error_score=nan,\n",
       "             estimator=DecisionTreeClassifier(ccp_alpha=0.0, class_weight=None,\n",
       "                                              criterion='gini', max_depth=None,\n",
       "                                              max_features=None,\n",
       "                                              max_leaf_nodes=None,\n",
       "                                              min_impurity_decrease=0.0,\n",
       "                                              min_impurity_split=None,\n",
       "                                              min_samples_leaf=1,\n",
       "                                              min_samples_split=2,\n",
       "                                              min_weight_fraction_leaf=0.0,\n",
       "                                              presort='deprecated',\n",
       "                                              random_state=None,\n",
       "                                              splitter='best'),\n",
       "             iid='deprecated', n_jobs=None,\n",
       "             param_grid={'criterion': ('gini', 'entropy'),\n",
       "                         'max_depth': [1, 2, 3, 4, 5, 7],\n",
       "                         'max_features': ['auto', 'sqrt', 'log2', None],\n",
       "                         'random_state': [499]},\n",
       "             pre_dispatch='2*n_jobs', refit=True, return_train_score=False,\n",
       "             scoring=None, verbose=0)"
      ]
     },
     "execution_count": 467,
     "metadata": {},
     "output_type": "execute_result"
    }
   ],
   "source": [
    "# # Decision tree\n",
    "# param_grid = {\n",
    "#     'criterion': ('gini', 'entropy'),\n",
    "#     'max_depth': [1, 2, 3, 4, 5, 7],\n",
    "#     'max_features': ['auto', 'sqrt', 'log2', None],\n",
    "#     'random_state': [499]\n",
    "# }\n",
    "# clf = GridSearchCV(DecisionTreeClassifier(), \n",
    "#              param_grid)\n",
    "# clf.fit(X2, Y2)"
   ]
  },
  {
   "cell_type": "code",
   "execution_count": 468,
   "metadata": {},
   "outputs": [
    {
     "data": {
      "text/html": [
       "<div>\n",
       "<style scoped>\n",
       "    .dataframe tbody tr th:only-of-type {\n",
       "        vertical-align: middle;\n",
       "    }\n",
       "\n",
       "    .dataframe tbody tr th {\n",
       "        vertical-align: top;\n",
       "    }\n",
       "\n",
       "    .dataframe thead th {\n",
       "        text-align: right;\n",
       "    }\n",
       "</style>\n",
       "<table border=\"1\" class=\"dataframe\">\n",
       "  <thead>\n",
       "    <tr style=\"text-align: right;\">\n",
       "      <th></th>\n",
       "      <th>mean_fit_time</th>\n",
       "      <th>std_fit_time</th>\n",
       "      <th>mean_score_time</th>\n",
       "      <th>std_score_time</th>\n",
       "      <th>param_criterion</th>\n",
       "      <th>param_max_depth</th>\n",
       "      <th>param_max_features</th>\n",
       "      <th>param_random_state</th>\n",
       "      <th>params</th>\n",
       "      <th>split0_test_score</th>\n",
       "      <th>split1_test_score</th>\n",
       "      <th>split2_test_score</th>\n",
       "      <th>split3_test_score</th>\n",
       "      <th>split4_test_score</th>\n",
       "      <th>mean_test_score</th>\n",
       "      <th>std_test_score</th>\n",
       "      <th>rank_test_score</th>\n",
       "    </tr>\n",
       "  </thead>\n",
       "  <tbody>\n",
       "    <tr>\n",
       "      <th>39</th>\n",
       "      <td>0.136432</td>\n",
       "      <td>0.008075</td>\n",
       "      <td>0.002766</td>\n",
       "      <td>0.000610</td>\n",
       "      <td>entropy</td>\n",
       "      <td>4</td>\n",
       "      <td>None</td>\n",
       "      <td>499</td>\n",
       "      <td>{'criterion': 'entropy', 'max_depth': 4, 'max_...</td>\n",
       "      <td>0.630423</td>\n",
       "      <td>0.612850</td>\n",
       "      <td>0.617053</td>\n",
       "      <td>0.610325</td>\n",
       "      <td>0.613483</td>\n",
       "      <td>0.616827</td>\n",
       "      <td>0.007130</td>\n",
       "      <td>1</td>\n",
       "    </tr>\n",
       "    <tr>\n",
       "      <th>15</th>\n",
       "      <td>0.113627</td>\n",
       "      <td>0.011554</td>\n",
       "      <td>0.002693</td>\n",
       "      <td>0.000342</td>\n",
       "      <td>gini</td>\n",
       "      <td>4</td>\n",
       "      <td>None</td>\n",
       "      <td>499</td>\n",
       "      <td>{'criterion': 'gini', 'max_depth': 4, 'max_fea...</td>\n",
       "      <td>0.627814</td>\n",
       "      <td>0.612850</td>\n",
       "      <td>0.616916</td>\n",
       "      <td>0.610325</td>\n",
       "      <td>0.613483</td>\n",
       "      <td>0.616278</td>\n",
       "      <td>0.006140</td>\n",
       "      <td>2</td>\n",
       "    </tr>\n",
       "    <tr>\n",
       "      <th>35</th>\n",
       "      <td>0.111920</td>\n",
       "      <td>0.019453</td>\n",
       "      <td>0.002340</td>\n",
       "      <td>0.000222</td>\n",
       "      <td>entropy</td>\n",
       "      <td>3</td>\n",
       "      <td>None</td>\n",
       "      <td>499</td>\n",
       "      <td>{'criterion': 'entropy', 'max_depth': 3, 'max_...</td>\n",
       "      <td>0.625892</td>\n",
       "      <td>0.614498</td>\n",
       "      <td>0.618701</td>\n",
       "      <td>0.605657</td>\n",
       "      <td>0.613621</td>\n",
       "      <td>0.615674</td>\n",
       "      <td>0.006626</td>\n",
       "      <td>3</td>\n",
       "    </tr>\n",
       "    <tr>\n",
       "      <th>11</th>\n",
       "      <td>0.078476</td>\n",
       "      <td>0.000151</td>\n",
       "      <td>0.002234</td>\n",
       "      <td>0.000081</td>\n",
       "      <td>gini</td>\n",
       "      <td>3</td>\n",
       "      <td>None</td>\n",
       "      <td>499</td>\n",
       "      <td>{'criterion': 'gini', 'max_depth': 3, 'max_fea...</td>\n",
       "      <td>0.619577</td>\n",
       "      <td>0.614498</td>\n",
       "      <td>0.618564</td>\n",
       "      <td>0.605657</td>\n",
       "      <td>0.613621</td>\n",
       "      <td>0.614383</td>\n",
       "      <td>0.004923</td>\n",
       "      <td>4</td>\n",
       "    </tr>\n",
       "    <tr>\n",
       "      <th>19</th>\n",
       "      <td>0.124455</td>\n",
       "      <td>0.001004</td>\n",
       "      <td>0.002408</td>\n",
       "      <td>0.000096</td>\n",
       "      <td>gini</td>\n",
       "      <td>5</td>\n",
       "      <td>None</td>\n",
       "      <td>499</td>\n",
       "      <td>{'criterion': 'gini', 'max_depth': 5, 'max_fea...</td>\n",
       "      <td>0.627677</td>\n",
       "      <td>0.615733</td>\n",
       "      <td>0.608266</td>\n",
       "      <td>0.605108</td>\n",
       "      <td>0.614033</td>\n",
       "      <td>0.614163</td>\n",
       "      <td>0.007770</td>\n",
       "      <td>5</td>\n",
       "    </tr>\n",
       "  </tbody>\n",
       "</table>\n",
       "</div>"
      ],
      "text/plain": [
       "    mean_fit_time  std_fit_time  mean_score_time  std_score_time  \\\n",
       "39       0.136432      0.008075         0.002766        0.000610   \n",
       "15       0.113627      0.011554         0.002693        0.000342   \n",
       "35       0.111920      0.019453         0.002340        0.000222   \n",
       "11       0.078476      0.000151         0.002234        0.000081   \n",
       "19       0.124455      0.001004         0.002408        0.000096   \n",
       "\n",
       "   param_criterion param_max_depth param_max_features param_random_state  \\\n",
       "39         entropy               4               None                499   \n",
       "15            gini               4               None                499   \n",
       "35         entropy               3               None                499   \n",
       "11            gini               3               None                499   \n",
       "19            gini               5               None                499   \n",
       "\n",
       "                                               params  split0_test_score  \\\n",
       "39  {'criterion': 'entropy', 'max_depth': 4, 'max_...           0.630423   \n",
       "15  {'criterion': 'gini', 'max_depth': 4, 'max_fea...           0.627814   \n",
       "35  {'criterion': 'entropy', 'max_depth': 3, 'max_...           0.625892   \n",
       "11  {'criterion': 'gini', 'max_depth': 3, 'max_fea...           0.619577   \n",
       "19  {'criterion': 'gini', 'max_depth': 5, 'max_fea...           0.627677   \n",
       "\n",
       "    split1_test_score  split2_test_score  split3_test_score  \\\n",
       "39           0.612850           0.617053           0.610325   \n",
       "15           0.612850           0.616916           0.610325   \n",
       "35           0.614498           0.618701           0.605657   \n",
       "11           0.614498           0.618564           0.605657   \n",
       "19           0.615733           0.608266           0.605108   \n",
       "\n",
       "    split4_test_score  mean_test_score  std_test_score  rank_test_score  \n",
       "39           0.613483         0.616827        0.007130                1  \n",
       "15           0.613483         0.616278        0.006140                2  \n",
       "35           0.613621         0.615674        0.006626                3  \n",
       "11           0.613621         0.614383        0.004923                4  \n",
       "19           0.614033         0.614163        0.007770                5  "
      ]
     },
     "execution_count": 468,
     "metadata": {},
     "output_type": "execute_result"
    }
   ],
   "source": [
    "# pd.DataFrame(clf.cv_results_).sort_values(\n",
    "# by = 'rank_test_score').head(5)"
   ]
  },
  {
   "cell_type": "code",
   "execution_count": 469,
   "metadata": {},
   "outputs": [
    {
     "data": {
      "text/plain": [
       "DecisionTreeClassifier(ccp_alpha=0.0, class_weight=None, criterion='entropy',\n",
       "                       max_depth=3, max_features=None, max_leaf_nodes=None,\n",
       "                       min_impurity_decrease=0.0, min_impurity_split=None,\n",
       "                       min_samples_leaf=1, min_samples_split=2,\n",
       "                       min_weight_fraction_leaf=0.0, presort='deprecated',\n",
       "                       random_state=499, splitter='best')"
      ]
     },
     "execution_count": 469,
     "metadata": {},
     "output_type": "execute_result"
    }
   ],
   "source": [
    "DT = DecisionTreeClassifier(\n",
    "    random_state = 499,\n",
    "    criterion = 'entropy',\n",
    "    max_depth = 3,\n",
    "    max_features = None\n",
    ")\n",
    "DT.fit(X2, Y2)"
   ]
  },
  {
   "cell_type": "code",
   "execution_count": 470,
   "metadata": {},
   "outputs": [
    {
     "data": {
      "text/plain": [
       "RandomizedSearchCV(cv=5, error_score=nan,\n",
       "                   estimator=RandomForestClassifier(bootstrap=True,\n",
       "                                                    ccp_alpha=0.0,\n",
       "                                                    class_weight=None,\n",
       "                                                    criterion='gini',\n",
       "                                                    max_depth=None,\n",
       "                                                    max_features='auto',\n",
       "                                                    max_leaf_nodes=None,\n",
       "                                                    max_samples=None,\n",
       "                                                    min_impurity_decrease=0.0,\n",
       "                                                    min_impurity_split=None,\n",
       "                                                    min_samples_leaf=1,\n",
       "                                                    min_samples_split=2,\n",
       "                                                    min_weight_fraction_leaf=0.0,\n",
       "                                                    n_estimators=100,\n",
       "                                                    n_jobs...\n",
       "                                                    random_state=None,\n",
       "                                                    verbose=0,\n",
       "                                                    warm_start=False),\n",
       "                   iid='deprecated', n_iter=10, n_jobs=-1,\n",
       "                   param_distributions={'criterion': ['gini', 'entropy'],\n",
       "                                        'max_depth': [2, 3, 4],\n",
       "                                        'max_features': ['auto'],\n",
       "                                        'n_estimators': [30, 40, 50, 60],\n",
       "                                        'oob_score': [True],\n",
       "                                        'random_state': [499]},\n",
       "                   pre_dispatch='2*n_jobs', random_state=None, refit=True,\n",
       "                   return_train_score=False, scoring=None, verbose=0)"
      ]
     },
     "execution_count": 470,
     "metadata": {},
     "output_type": "execute_result"
    }
   ],
   "source": [
    "# # RandomSearc for RandomForest\n",
    "# param_grid = {\n",
    "#     'n_estimators': [30, 40, 50, 60],\n",
    "#     'criterion': ['gini', 'entropy'],\n",
    "#     'max_depth': [2, 3, 4],\n",
    "#     'max_features': ['auto'],\n",
    "#     'oob_score': [True],\n",
    "#     'random_state': [499]\n",
    "# }\n",
    "# clf_rf = RandomizedSearchCV(RandomForestClassifier(), \n",
    "#              param_grid, cv=5, n_jobs = -1)\n",
    "# clf_rf.fit(X2, Y2)"
   ]
  },
  {
   "cell_type": "code",
   "execution_count": 471,
   "metadata": {},
   "outputs": [
    {
     "name": "stdout",
     "output_type": "stream",
     "text": [
      "Optimal:  {'random_state': 499, 'oob_score': True, 'n_estimators': 60, 'max_features': 'auto', 'max_depth': 4, 'criterion': 'entropy'}\n",
      "Score:  0.6187767500810377\n"
     ]
    }
   ],
   "source": [
    "# print(\"Optimal: \", clf_rf.best_params_)\n",
    "# print(\"Score: \", clf_rf.best_score_)"
   ]
  },
  {
   "cell_type": "code",
   "execution_count": 574,
   "metadata": {},
   "outputs": [
    {
     "data": {
      "text/plain": [
       "RandomForestClassifier(bootstrap=True, ccp_alpha=0.0, class_weight=None,\n",
       "                       criterion='entropy', max_depth=4, max_features='auto',\n",
       "                       max_leaf_nodes=None, max_samples=None,\n",
       "                       min_impurity_decrease=0.0, min_impurity_split=None,\n",
       "                       min_samples_leaf=1, min_samples_split=2,\n",
       "                       min_weight_fraction_leaf=0.0, n_estimators=60,\n",
       "                       n_jobs=None, oob_score=True, random_state=499, verbose=0,\n",
       "                       warm_start=False)"
      ]
     },
     "execution_count": 574,
     "metadata": {},
     "output_type": "execute_result"
    }
   ],
   "source": [
    "# Random forest\n",
    "RF = RandomForestClassifier(\n",
    "    n_estimators = 60, \n",
    "    max_depth = 4, \n",
    "    max_features = 'auto',\n",
    "    criterion = 'entropy',\n",
    "    oob_score = True,\n",
    "    random_state = 499)\n",
    "RF.fit(X2, Y2)"
   ]
  },
  {
   "cell_type": "markdown",
   "metadata": {},
   "source": [
    "Computer the home bias"
   ]
  },
  {
   "cell_type": "code",
   "execution_count": 465,
   "metadata": {},
   "outputs": [
    {
     "name": "stdout",
     "output_type": "stream",
     "text": [
      "0.5444007130673575\n"
     ]
    }
   ],
   "source": [
    "home_bias = (math.exp(Logit.intercept_[0]))/(\n",
    "    1 + math.exp(Logit.intercept_[0]))\n",
    "print(home_bias)"
   ]
  },
  {
   "cell_type": "code",
   "execution_count": 7,
   "metadata": {},
   "outputs": [],
   "source": [
    "home_bias = 0.5444"
   ]
  },
  {
   "cell_type": "code",
   "execution_count": 15,
   "metadata": {},
   "outputs": [
    {
     "data": {
      "text/plain": [
       "RandomizedSearchCV(cv=None, error_score=nan,\n",
       "                   estimator=XGBClassifier(base_score=0.5444, booster=None,\n",
       "                                           colsample_bylevel=None,\n",
       "                                           colsample_bynode=None,\n",
       "                                           colsample_bytree=None, gamma=None,\n",
       "                                           gpu_id=None, importance_type='gain',\n",
       "                                           interaction_constraints=None,\n",
       "                                           learning_rate=None,\n",
       "                                           max_delta_step=None, max_depth=None,\n",
       "                                           min_child_weight=None, missing=nan,\n",
       "                                           monotone_constraints=N...\n",
       "                                           subsample=None, tree_method=None,\n",
       "                                           validate_parameters=False,\n",
       "                                           verbosity=None),\n",
       "                   iid='deprecated', n_iter=10, n_jobs=None,\n",
       "                   param_distributions={'cv': [5],\n",
       "                                        'learning_rate': [0.001, 0.01, 0.025,\n",
       "                                                          0.05, 0.08, 0.1,\n",
       "                                                          0.15],\n",
       "                                        'max_depth': [3, 5],\n",
       "                                        'n_estimators': [50, 100, 200, 300,\n",
       "                                                         400]},\n",
       "                   pre_dispatch='2*n_jobs', random_state=None, refit=True,\n",
       "                   return_train_score=False, scoring=None, verbose=0)"
      ]
     },
     "execution_count": 15,
     "metadata": {},
     "output_type": "execute_result"
    }
   ],
   "source": [
    "xgb_model = XGBClassifier(base_score = home_bias,\n",
    "                     random_state = 499,\n",
    "                     n_jobs = -1)\n",
    "# param_grid = {\n",
    "#     'max_depth': [3, 5],\n",
    "#     'learning_rate': [0.02, 0.05, 0.1, 0.15, 0.2, 0.24, 0.251],\n",
    "#     'n_estimators': [15, 30, 50, 100, 200],\n",
    "#     'subsample': [0.55, 0.62, 0.69, 0.76, 0.83, 0.89],\n",
    "#     'cv': [5]\n",
    "# }\n",
    "\n",
    "param_grid = {\n",
    "    'max_depth': [3, 5],\n",
    "    'learning_rate': [0.001, 0.01, 0.025, 0.05, 0.08, 0.1, 0.15],\n",
    "    'n_estimators': [50, 100, 200, 300, 400],\n",
    "#     'subsample': [0.55, 0.62, 0.69, 0.76, 0.83, 0.89],\n",
    "    'cv': [5]\n",
    "}\n",
    "rscv = RandomizedSearchCV(xgb_model, param_grid)\n",
    "rscv.fit(X2, Y2)"
   ]
  },
  {
   "cell_type": "code",
   "execution_count": 18,
   "metadata": {},
   "outputs": [],
   "source": [
    "# pd.DataFrame(rscv.cv_results_)"
   ]
  },
  {
   "cell_type": "code",
   "execution_count": null,
   "metadata": {},
   "outputs": [],
   "source": []
  },
  {
   "cell_type": "code",
   "execution_count": 17,
   "metadata": {
    "scrolled": true
   },
   "outputs": [
    {
     "data": {
      "text/plain": [
       "XGBClassifier(base_score=0.5444, booster=None, colsample_bylevel=1,\n",
       "              colsample_bynode=1, colsample_bytree=1, cv=5, gamma=0, gpu_id=-1,\n",
       "              importance_type='gain', interaction_constraints=None,\n",
       "              learning_rate=0.05, max_delta_step=0, max_depth=3,\n",
       "              min_child_weight=1, missing=nan, monotone_constraints=None,\n",
       "              n_estimators=300, n_jobs=-1, num_parallel_tree=1,\n",
       "              objective='binary:logistic', random_state=499, reg_alpha=0,\n",
       "              reg_lambda=1, scale_pos_weight=1, subsample=1, tree_method=None,\n",
       "              validate_parameters=False, verbosity=None)"
      ]
     },
     "execution_count": 17,
     "metadata": {},
     "output_type": "execute_result"
    }
   ],
   "source": [
    "# XGBoost\n",
    "XGBooster = XGBClassifier(base_score = home_bias,\n",
    "            n_estimators = 15,\n",
    "           max_depth = 3,\n",
    "           learning_rate = 0.251,\n",
    "           subsample = 0.89,                \n",
    "             random_state = 499,\n",
    "                     n_jobs = -1,\n",
    "                          cv = 5)\n",
    "XGBooster = XGBClassifier(base_score = home_bias,\n",
    "            n_estimators = 300,\n",
    "           max_depth = 3,\n",
    "           learning_rate = 0.05,          \n",
    "             random_state = 499,\n",
    "                     n_jobs = -1,\n",
    "                          cv = 5)\n",
    "XGBooster.fit(X2, Y2)"
   ]
  },
  {
   "cell_type": "code",
   "execution_count": 23,
   "metadata": {},
   "outputs": [
    {
     "ename": "NameError",
     "evalue": "name 'Lasso' is not defined",
     "output_type": "error",
     "traceback": [
      "\u001b[0;31m---------------------------------------------------------------------------\u001b[0m",
      "\u001b[0;31mNameError\u001b[0m                                 Traceback (most recent call last)",
      "\u001b[0;32m<ipython-input-23-e7813c1aefe5>\u001b[0m in \u001b[0;36m<module>\u001b[0;34m\u001b[0m\n\u001b[1;32m      1\u001b[0m \u001b[0;31m# Logit\u001b[0m\u001b[0;34m\u001b[0m\u001b[0;34m\u001b[0m\u001b[0;34m\u001b[0m\u001b[0m\n\u001b[0;32m----> 2\u001b[0;31m \u001b[0mUNSCALED_ML_MODELS\u001b[0m\u001b[0;34m[\u001b[0m\u001b[0;34m'LogitLasso'\u001b[0m\u001b[0;34m]\u001b[0m \u001b[0;34m=\u001b[0m \u001b[0mLasso\u001b[0m\u001b[0;34m\u001b[0m\u001b[0;34m\u001b[0m\u001b[0m\n\u001b[0m\u001b[1;32m      3\u001b[0m \u001b[0mUNSCALED_ML_MODELS\u001b[0m\u001b[0;34m[\u001b[0m\u001b[0;34m'LogitRidge'\u001b[0m\u001b[0;34m]\u001b[0m \u001b[0;34m=\u001b[0m \u001b[0mRidge\u001b[0m\u001b[0;34m\u001b[0m\u001b[0;34m\u001b[0m\u001b[0m\n\u001b[1;32m      4\u001b[0m \u001b[0mUNSCALED_ML_MODELS\u001b[0m\u001b[0;34m[\u001b[0m\u001b[0;34m'LogitElasticNet'\u001b[0m\u001b[0;34m]\u001b[0m \u001b[0;34m=\u001b[0m \u001b[0mElasticNet\u001b[0m\u001b[0;34m\u001b[0m\u001b[0;34m\u001b[0m\u001b[0m\n\u001b[1;32m      5\u001b[0m \u001b[0;34m\u001b[0m\u001b[0m\n",
      "\u001b[0;31mNameError\u001b[0m: name 'Lasso' is not defined"
     ]
    }
   ],
   "source": [
    "# Logit\n",
    "UNSCALED_ML_MODELS['LogitLasso'] = Lasso\n",
    "UNSCALED_ML_MODELS['LogitRidge'] = Ridge\n",
    "UNSCALED_ML_MODELS['LogitElasticNet'] = ElasticNet\n",
    "\n",
    "# SGD\n",
    "UNSCALED_ML_MODELS['SGD'] = SGD\n",
    "\n",
    "# XGBoost\n",
    "UNSCALED_ML_MODELS['XGBoost'] = XGBooster\n",
    "\n",
    "# RF\n",
    "UNSCALED_ML_MODELS['DecisionTree'] = DT\n",
    "\n",
    "# RF\n",
    "UNSCALED_ML_MODELS['RF'] = RF"
   ]
  },
  {
   "cell_type": "markdown",
   "metadata": {},
   "source": [
    "Score our models and determine the output"
   ]
  },
  {
   "cell_type": "code",
   "execution_count": 28,
   "metadata": {},
   "outputs": [],
   "source": [
    "UNSCALED_SCORE_DF = score_models(\n",
    "    UNSCALED_ML_MODELS,\n",
    "    UNSCALED_ML_RESULTS,\n",
    "    MLB_FINAL_DATA_UNSCALED\n",
    ")"
   ]
  },
  {
   "cell_type": "code",
   "execution_count": 29,
   "metadata": {},
   "outputs": [
    {
     "data": {
      "text/html": [
       "<div>\n",
       "<style scoped>\n",
       "    .dataframe tbody tr th:only-of-type {\n",
       "        vertical-align: middle;\n",
       "    }\n",
       "\n",
       "    .dataframe tbody tr th {\n",
       "        vertical-align: top;\n",
       "    }\n",
       "\n",
       "    .dataframe thead th {\n",
       "        text-align: right;\n",
       "    }\n",
       "</style>\n",
       "<table border=\"1\" class=\"dataframe\">\n",
       "  <thead>\n",
       "    <tr style=\"text-align: right;\">\n",
       "      <th></th>\n",
       "      <th>LogitLasso</th>\n",
       "      <th>LogitRidge</th>\n",
       "      <th>LogitElasticNet</th>\n",
       "      <th>DecisionTree</th>\n",
       "      <th>RF</th>\n",
       "      <th>SGD</th>\n",
       "      <th>XGBoost</th>\n",
       "    </tr>\n",
       "    <tr>\n",
       "      <th>Y</th>\n",
       "      <th></th>\n",
       "      <th></th>\n",
       "      <th></th>\n",
       "      <th></th>\n",
       "      <th></th>\n",
       "      <th></th>\n",
       "      <th></th>\n",
       "    </tr>\n",
       "  </thead>\n",
       "  <tbody>\n",
       "    <tr>\n",
       "      <th>2016</th>\n",
       "      <td>0</td>\n",
       "      <td>0</td>\n",
       "      <td>0</td>\n",
       "      <td>0</td>\n",
       "      <td>0</td>\n",
       "      <td>0</td>\n",
       "      <td>0.614339</td>\n",
       "    </tr>\n",
       "    <tr>\n",
       "      <th>2017</th>\n",
       "      <td>0</td>\n",
       "      <td>0</td>\n",
       "      <td>0</td>\n",
       "      <td>0</td>\n",
       "      <td>0</td>\n",
       "      <td>0</td>\n",
       "      <td>0.618519</td>\n",
       "    </tr>\n",
       "    <tr>\n",
       "      <th>2018</th>\n",
       "      <td>0</td>\n",
       "      <td>0</td>\n",
       "      <td>0</td>\n",
       "      <td>0</td>\n",
       "      <td>0</td>\n",
       "      <td>0</td>\n",
       "      <td>0.637299</td>\n",
       "    </tr>\n",
       "    <tr>\n",
       "      <th>2019</th>\n",
       "      <td>0</td>\n",
       "      <td>0</td>\n",
       "      <td>0</td>\n",
       "      <td>0</td>\n",
       "      <td>0</td>\n",
       "      <td>0</td>\n",
       "      <td>0.625155</td>\n",
       "    </tr>\n",
       "  </tbody>\n",
       "</table>\n",
       "</div>"
      ],
      "text/plain": [
       "      LogitLasso  LogitRidge  LogitElasticNet  DecisionTree  RF  SGD   XGBoost\n",
       "Y                                                                             \n",
       "2016           0           0                0             0   0    0  0.614339\n",
       "2017           0           0                0             0   0    0  0.618519\n",
       "2018           0           0                0             0   0    0  0.637299\n",
       "2019           0           0                0             0   0    0  0.625155"
      ]
     },
     "execution_count": 29,
     "metadata": {},
     "output_type": "execute_result"
    }
   ],
   "source": [
    "UNSCALED_SCORE_DF"
   ]
  },
  {
   "cell_type": "code",
   "execution_count": 30,
   "metadata": {
    "scrolled": true
   },
   "outputs": [
    {
     "data": {
      "text/plain": [
       "Y\n",
       "2016    0.614339\n",
       "2017    0.618519\n",
       "2018    0.637299\n",
       "2019    0.625155\n",
       "dtype: float64"
      ]
     },
     "execution_count": 30,
     "metadata": {},
     "output_type": "execute_result"
    }
   ],
   "source": [
    "UNSCALED_SCORE_DF.T.max()"
   ]
  },
  {
   "cell_type": "code",
   "execution_count": 973,
   "metadata": {},
   "outputs": [],
   "source": [
    "UNSCALED_SCORE_DF.to_csv(PATH_TO_VIS_DATA + 'unscaled_model_scores.csv')"
   ]
  },
  {
   "cell_type": "code",
   "execution_count": 590,
   "metadata": {},
   "outputs": [],
   "source": [
    "UNSCALED_BRIER_DF = brier_score_models(\n",
    "    UNSCALED_ML_MODELS,\n",
    "    UNSCALED_ML_RESULTS,\n",
    "    MLB_FINAL_DATA_UNSCALED\n",
    ")"
   ]
  },
  {
   "cell_type": "code",
   "execution_count": 591,
   "metadata": {},
   "outputs": [
    {
     "data": {
      "text/plain": [
       "Y\n",
       "2016    0.230019\n",
       "2017    0.225924\n",
       "2018    0.223644\n",
       "2019    0.226753\n",
       "dtype: float64"
      ]
     },
     "execution_count": 591,
     "metadata": {},
     "output_type": "execute_result"
    }
   ],
   "source": [
    "UNSCALED_BRIER_DF.T.min()"
   ]
  },
  {
   "cell_type": "code",
   "execution_count": 592,
   "metadata": {
    "scrolled": false
   },
   "outputs": [
    {
     "data": {
      "text/plain": [
       "LogitLasso         0.002501\n",
       "LogitRidge         0.002298\n",
       "LogitElasticNet    0.002318\n",
       "DecisionTree       0.003992\n",
       "RF                 0.002708\n",
       "SGD                0.019293\n",
       "XGBoost            0.002941\n",
       "dtype: float64"
      ]
     },
     "execution_count": 592,
     "metadata": {},
     "output_type": "execute_result"
    }
   ],
   "source": [
    "UNSCALED_BRIER_DF.std()"
   ]
  },
  {
   "cell_type": "code",
   "execution_count": 969,
   "metadata": {},
   "outputs": [],
   "source": [
    "UNSCALED_BRIER_DF.to_csv(PATH_TO_VIS_DATA + 'unscaled_brier_scores.csv')"
   ]
  },
  {
   "cell_type": "code",
   "execution_count": 41,
   "metadata": {},
   "outputs": [],
   "source": [
    "def score_models_monthly(MODELS_TO_TEST,\n",
    "                 RESULTS_DF,\n",
    "                 DATA_DF):\n",
    "    # Score all models\n",
    "    for i in MODELS_TO_TEST.keys():\n",
    "        model = MODELS_TO_TEST[i]\n",
    "        for month in RESULTS_DF.index:\n",
    "            x_test = DATA_DF[month]['x']\n",
    "            y_test = DATA_DF[month]['y']\n",
    "\n",
    "            RESULTS_DF.loc[month, i] = model.score(\n",
    "                x_test, y_test)\n",
    "    \n",
    "    return RESULTS_DF"
   ]
  },
  {
   "cell_type": "code",
   "execution_count": 42,
   "metadata": {},
   "outputs": [],
   "source": [
    "MLB_MONTH_2019 = MLB_DF[MLB_DF.Y == 2019]\n",
    "months = list(set(MLB_DF.M))\n",
    "YEARLY_DATA = {}\n",
    "for i in months:\n",
    "    YEARLY_MLB = create_features(MLB_MONTH_2019[MLB_MONTH_2019.M == i])\n",
    "    x = YEARLY_MLB[0]\n",
    "    YEARLY_DATA[i] = {\n",
    "        'x': x,\n",
    "        'y': YEARLY_MLB[1]\n",
    "    }"
   ]
  },
  {
   "cell_type": "code",
   "execution_count": 48,
   "metadata": {},
   "outputs": [],
   "source": [
    "UNSCALED_SCORE_2019_DF = score_models_monthly(\n",
    "    UNSCALED_ML_MODELS,\n",
    "    UNSCALED_ML_RESULTS_MONTH,\n",
    "    YEARLY_DATA\n",
    ")"
   ]
  },
  {
   "cell_type": "code",
   "execution_count": 50,
   "metadata": {},
   "outputs": [],
   "source": [
    "UNSCALED_SCORE_2019_DF.to_csv(PATH_TO_VIS_DATA + 'unscaled_model_monthly.csv')"
   ]
  },
  {
   "cell_type": "code",
   "execution_count": 51,
   "metadata": {},
   "outputs": [
    {
     "data": {
      "text/html": [
       "<div>\n",
       "<style scoped>\n",
       "    .dataframe tbody tr th:only-of-type {\n",
       "        vertical-align: middle;\n",
       "    }\n",
       "\n",
       "    .dataframe tbody tr th {\n",
       "        vertical-align: top;\n",
       "    }\n",
       "\n",
       "    .dataframe thead th {\n",
       "        text-align: right;\n",
       "    }\n",
       "</style>\n",
       "<table border=\"1\" class=\"dataframe\">\n",
       "  <thead>\n",
       "    <tr style=\"text-align: right;\">\n",
       "      <th></th>\n",
       "      <th>LogitLasso</th>\n",
       "      <th>LogitRidge</th>\n",
       "      <th>LogitElasticNet</th>\n",
       "      <th>DecisionTree</th>\n",
       "      <th>RF</th>\n",
       "      <th>SGD</th>\n",
       "      <th>XGBoost</th>\n",
       "    </tr>\n",
       "    <tr>\n",
       "      <th>M</th>\n",
       "      <th></th>\n",
       "      <th></th>\n",
       "      <th></th>\n",
       "      <th></th>\n",
       "      <th></th>\n",
       "      <th></th>\n",
       "      <th></th>\n",
       "    </tr>\n",
       "  </thead>\n",
       "  <tbody>\n",
       "    <tr>\n",
       "      <th>3</th>\n",
       "      <td>0</td>\n",
       "      <td>0</td>\n",
       "      <td>0</td>\n",
       "      <td>0</td>\n",
       "      <td>0</td>\n",
       "      <td>0</td>\n",
       "      <td>0.500000</td>\n",
       "    </tr>\n",
       "    <tr>\n",
       "      <th>4</th>\n",
       "      <td>0</td>\n",
       "      <td>0</td>\n",
       "      <td>0</td>\n",
       "      <td>0</td>\n",
       "      <td>0</td>\n",
       "      <td>0</td>\n",
       "      <td>0.590078</td>\n",
       "    </tr>\n",
       "    <tr>\n",
       "      <th>5</th>\n",
       "      <td>0</td>\n",
       "      <td>0</td>\n",
       "      <td>0</td>\n",
       "      <td>0</td>\n",
       "      <td>0</td>\n",
       "      <td>0</td>\n",
       "      <td>0.657767</td>\n",
       "    </tr>\n",
       "    <tr>\n",
       "      <th>6</th>\n",
       "      <td>0</td>\n",
       "      <td>0</td>\n",
       "      <td>0</td>\n",
       "      <td>0</td>\n",
       "      <td>0</td>\n",
       "      <td>0</td>\n",
       "      <td>0.622829</td>\n",
       "    </tr>\n",
       "    <tr>\n",
       "      <th>7</th>\n",
       "      <td>0</td>\n",
       "      <td>0</td>\n",
       "      <td>0</td>\n",
       "      <td>0</td>\n",
       "      <td>0</td>\n",
       "      <td>0</td>\n",
       "      <td>0.620219</td>\n",
       "    </tr>\n",
       "    <tr>\n",
       "      <th>8</th>\n",
       "      <td>0</td>\n",
       "      <td>0</td>\n",
       "      <td>0</td>\n",
       "      <td>0</td>\n",
       "      <td>0</td>\n",
       "      <td>0</td>\n",
       "      <td>0.631325</td>\n",
       "    </tr>\n",
       "    <tr>\n",
       "      <th>9</th>\n",
       "      <td>0</td>\n",
       "      <td>0</td>\n",
       "      <td>0</td>\n",
       "      <td>0</td>\n",
       "      <td>0</td>\n",
       "      <td>0</td>\n",
       "      <td>0.642857</td>\n",
       "    </tr>\n",
       "  </tbody>\n",
       "</table>\n",
       "</div>"
      ],
      "text/plain": [
       "   LogitLasso  LogitRidge  LogitElasticNet  DecisionTree  RF  SGD   XGBoost\n",
       "M                                                                          \n",
       "3           0           0                0             0   0    0  0.500000\n",
       "4           0           0                0             0   0    0  0.590078\n",
       "5           0           0                0             0   0    0  0.657767\n",
       "6           0           0                0             0   0    0  0.622829\n",
       "7           0           0                0             0   0    0  0.620219\n",
       "8           0           0                0             0   0    0  0.631325\n",
       "9           0           0                0             0   0    0  0.642857"
      ]
     },
     "execution_count": 51,
     "metadata": {},
     "output_type": "execute_result"
    }
   ],
   "source": [
    "UNSCALED_SCORE_2019_DF"
   ]
  },
  {
   "cell_type": "markdown",
   "metadata": {},
   "source": [
    "Evaluating ROC curves"
   ]
  },
  {
   "cell_type": "code",
   "execution_count": 593,
   "metadata": {},
   "outputs": [],
   "source": [
    "X3, Y3 = create_features(MLB_DF[MLB_DF.Y > cutoff], True)"
   ]
  },
  {
   "cell_type": "code",
   "execution_count": 594,
   "metadata": {},
   "outputs": [],
   "source": [
    "from sklearn.metrics import roc_curve, auc\n",
    "fpr = {}\n",
    "tpr = {}\n",
    "auc_dict = {}\n",
    "\n",
    "for i in UNSCALED_ML_MODELS.keys():\n",
    "    fpr[i], tpr[i], _ = roc_curve(\n",
    "    Y3, [x[1] for x in UNSCALED_ML_MODELS[i].predict_proba(X3)])\n",
    "    auc_dict[i] = auc(fpr[i], tpr[i])"
   ]
  },
  {
   "cell_type": "code",
   "execution_count": 620,
   "metadata": {
    "scrolled": false
   },
   "outputs": [
    {
     "data": {
      "text/plain": [
       "<matplotlib.legend.Legend at 0x130db0bb0>"
      ]
     },
     "execution_count": 620,
     "metadata": {},
     "output_type": "execute_result"
    },
    {
     "data": {
      "image/png": "[encoded data removed]",
      "text/plain": [
       "<Figure size 720x720 with 1 Axes>"
      ]
     },
     "metadata": {
      "needs_background": "light"
     },
     "output_type": "display_data"
    }
   ],
   "source": [
    "plt.figure(figsize = (10, 10))\n",
    "for i in UNSCALED_ML_MODELS.keys():\n",
    "    plt.plot(fpr[i], tpr[i], label = i + ' ROC \\\n",
    "        (area = %0.5f)' % auc_dict[i])\n",
    "plt.legend()"
   ]
  },
  {
   "cell_type": "code",
   "execution_count": 1083,
   "metadata": {
    "scrolled": false
   },
   "outputs": [
    {
     "data": {
      "image/png": "[encoded data removed]",
      "text/plain": [
       "<Figure size 900x900 with 1 Axes>"
      ]
     },
     "metadata": {},
     "output_type": "display_data"
    }
   ],
   "source": [
    "plt.figure(figsize = (9, 9))\n",
    "for i in UNSCALED_ML_MODELS.keys():\n",
    "    plt.plot(fpr[i], tpr[i], label = i + ' (area = %0.5f)' % auc_dict[i])\n",
    "for i in SCALED_ML_MODELS.keys():\n",
    "    if ('Logit' not in i):\n",
    "        try:\n",
    "            plt.plot(fpr_s[i], tpr_s[i], label = i + ' (area = %0.4f)' % auc_dict_s[i])\n",
    "        except:\n",
    "            pass\n",
    "plt.plot([0, 1], 'r--', color = 'black', label = 'Reference line (AUC = 0.5)')\n",
    "plt.legend()\n",
    "plt.xlabel('False Positive Rate')\n",
    "plt.ylabel('True Positive Rate')\n",
    "plt.title('Model ROC Curves')\n",
    "plt.tight_layout()\n",
    "plt.savefig('../charts/model-full-roc.png', dpi=320)\n",
    "plt.show()"
   ]
  },
  {
   "cell_type": "code",
   "execution_count": 965,
   "metadata": {},
   "outputs": [
    {
     "data": {
      "image/png": "[encoded data removed]",
      "text/plain": [
       "<Figure size 600x600 with 1 Axes>"
      ]
     },
     "metadata": {},
     "output_type": "display_data"
    }
   ],
   "source": [
    "import matplotlib as mpl\n",
    "mpl.rcParams.update(mpl.rcParamsDefault)\n",
    "\n",
    "plt.figure(figsize = (6, 6))\n",
    "for i in ['LogitElasticNet', 'XGBoost', 'RF','SGD', ]:\n",
    "    plt.plot(fpr[i], tpr[i], label = i + ' (AUC = %0.5f)' % auc_dict[i])\n",
    "for i in ['KNN_10_Uniform']:\n",
    "    if ('Logit' not in i):\n",
    "        try:\n",
    "            plt.plot(fpr_s[i], tpr_s[i], label = i + ' (AUC = %0.4f)' % auc_dict_s[i])\n",
    "        except:\n",
    "            pass\n",
    "plt.plot([0, 1], 'r--', color = 'GRAY', label = 'Reference line (AUC = 0.5)')\n",
    "plt.legend()\n",
    "plt.xlabel('False Positive Rate')\n",
    "plt.ylabel('True Positive Rate')\n",
    "plt.title('Model ROC Curves')\n",
    "plt.tight_layout()\n",
    "plt.savefig('../charts/model-abbreviated-roc.png', dpi=320)\n",
    "plt.show()"
   ]
  },
  {
   "cell_type": "markdown",
   "metadata": {},
   "source": [
    "### Final model evaluation\n",
    "Looking at ElasticNet, XGBoost, KNN, SVC_C1, Naive\n",
    "\n",
    "\n",
    "Test over 2015 to 2019 modeling each season. Increased to 10 fold CV to combat overfitting"
   ]
  },
  {
   "cell_type": "code",
   "execution_count": 725,
   "metadata": {},
   "outputs": [],
   "source": [
    "FINAL_MODELS = {}\n",
    "# Models requiring scaling\n",
    "FINAL_MODELS['KNN'] = KNeighborsClassifier(n_neighbors = 10, \n",
    "                    weights = 'uniform',\n",
    "                    algorithm = 'auto')\n",
    "\n",
    "FINAL_MODELS['SVC'] = SVC(random_state = 499,\n",
    "               degree = 5, C = 0.01)\n",
    "\n",
    "# Models not requiring scaling\n",
    "FINAL_MODELS['ElasticNet'] = LogisticRegressionCV(Cs = [0.01], \n",
    "                                  cv = 10, random_state = 499,\n",
    "                               penalty='elasticnet',\n",
    "                               solver='saga',\n",
    "                               l1_ratios = [0.5],\n",
    "                                 max_iter = 1000)\n",
    "\n",
    "FINAL_MODELS['RandomForest'] = RandomForestClassifier(\n",
    "    n_estimators = 60, \n",
    "    max_depth = 4, \n",
    "    max_features = 'auto',\n",
    "    criterion = 'entropy',\n",
    "    oob_score = True,\n",
    "    random_state = 499)\n",
    "\n",
    "FINAL_MODELS['XGBoost'] = XGBClassifier(base_score = home_bias,\n",
    "            n_estimators = 15,\n",
    "           max_depth = 3,\n",
    "           learning_rate = 0.251,\n",
    "           subsample = 0.89,                \n",
    "             random_state = 499,\n",
    "                     n_jobs = -1,\n",
    "                          cv = 10)"
   ]
  },
  {
   "cell_type": "markdown",
   "metadata": {},
   "source": [
    "Create our response dataframes"
   ]
  },
  {
   "cell_type": "code",
   "execution_count": 726,
   "metadata": {},
   "outputs": [],
   "source": [
    "MODELS_FINAL_TRAIN = pd.DataFrame([2016, 2017, 2018, 2019]).rename({\n",
    "    0: 'Y'\n",
    "}, axis = 1).set_index('Y')\n",
    "MODELS_FINAL_TRAIN['SVC'] = 0\n",
    "MODELS_FINAL_TRAIN['KNN'] = 0\n",
    "MODELS_FINAL_TRAIN['ElasticNet'] = 0\n",
    "MODELS_FINAL_TRAIN['RandomForest'] = 0\n",
    "MODELS_FINAL_TRAIN['XGBoost'] = 0"
   ]
  },
  {
   "cell_type": "code",
   "execution_count": 727,
   "metadata": {},
   "outputs": [],
   "source": [
    "MODELS_FINAL_TEST = MODELS_FINAL_TRAIN.copy()"
   ]
  },
  {
   "cell_type": "markdown",
   "metadata": {},
   "source": [
    "Fit each year's data"
   ]
  },
  {
   "cell_type": "code",
   "execution_count": 728,
   "metadata": {},
   "outputs": [],
   "source": [
    "# iterate over years\n",
    "# , 2017, 2018, 2019\n",
    "for year in [2016, 2017, 2018, 2019]:\n",
    "    YEAR_MLB = MLB_DF[MLB_DF.Y == year]\n",
    "    \n",
    "    # Set PCT = True for non-scaled, PCT = False for scaled\n",
    "    X, Y = create_features(YEAR_MLB, True)\n",
    "    x_train, x_test, y_train, y_test = seasonal_train_test_split(X, Y)\n",
    "\n",
    "    for i in ['ElasticNet', 'RandomForest', 'XGBoost']:\n",
    "        model = FINAL_MODELS[i]\n",
    "        model.fit(x_train, y_train)\n",
    "        MODELS_FINAL_TRAIN.loc[year, i] = model.score(x_train, y_train)\n",
    "        MODELS_FINAL_TEST.loc[year, i] = model.score(x_test, y_test)"
   ]
  },
  {
   "cell_type": "code",
   "execution_count": 729,
   "metadata": {},
   "outputs": [],
   "source": [
    "# iterate over years\n",
    "for year in [2016, 2017, 2018, 2019]:\n",
    "    YEAR_MLB = MLB_DF[MLB_DF.Y == year]\n",
    "    \n",
    "    # Set PCT = True for non-scaled, PCT = False for scaled\n",
    "    X, Y = create_features(YEAR_MLB, False)\n",
    "    x_train, x_test, y_train, y_test = seasonal_train_test_split(X, Y)\n",
    "    sclr = StandardScaler()\n",
    "    x_train = sclr.fit_transform(x_train)\n",
    "    x_test = sclr.transform(x_test)\n",
    "    \n",
    "    for i in ['KNN', 'SVC']:\n",
    "        model = FINAL_MODELS[i]\n",
    "        model.fit(x_train, y_train)\n",
    "        MODELS_FINAL_TRAIN.loc[year, i] = model.score(x_train, y_train)\n",
    "        MODELS_FINAL_TEST.loc[year, i] = model.score(x_test, y_test)"
   ]
  },
  {
   "cell_type": "code",
   "execution_count": 730,
   "metadata": {
    "scrolled": true
   },
   "outputs": [
    {
     "data": {
      "text/html": [
       "<div>\n",
       "<style scoped>\n",
       "    .dataframe tbody tr th:only-of-type {\n",
       "        vertical-align: middle;\n",
       "    }\n",
       "\n",
       "    .dataframe tbody tr th {\n",
       "        vertical-align: top;\n",
       "    }\n",
       "\n",
       "    .dataframe thead th {\n",
       "        text-align: right;\n",
       "    }\n",
       "</style>\n",
       "<table border=\"1\" class=\"dataframe\">\n",
       "  <thead>\n",
       "    <tr style=\"text-align: right;\">\n",
       "      <th></th>\n",
       "      <th>SVC</th>\n",
       "      <th>KNN</th>\n",
       "      <th>ElasticNet</th>\n",
       "      <th>RandomForest</th>\n",
       "      <th>XGBoost</th>\n",
       "    </tr>\n",
       "    <tr>\n",
       "      <th>Y</th>\n",
       "      <th></th>\n",
       "      <th></th>\n",
       "      <th></th>\n",
       "      <th></th>\n",
       "      <th></th>\n",
       "    </tr>\n",
       "  </thead>\n",
       "  <tbody>\n",
       "    <tr>\n",
       "      <th>2016</th>\n",
       "      <td>0.533516</td>\n",
       "      <td>0.665385</td>\n",
       "      <td>0.618681</td>\n",
       "      <td>0.664286</td>\n",
       "      <td>0.685714</td>\n",
       "    </tr>\n",
       "    <tr>\n",
       "      <th>2017</th>\n",
       "      <td>0.541164</td>\n",
       "      <td>0.672887</td>\n",
       "      <td>0.643249</td>\n",
       "      <td>0.667947</td>\n",
       "      <td>0.691548</td>\n",
       "    </tr>\n",
       "    <tr>\n",
       "      <th>2018</th>\n",
       "      <td>0.535969</td>\n",
       "      <td>0.682043</td>\n",
       "      <td>0.640308</td>\n",
       "      <td>0.669962</td>\n",
       "      <td>0.682043</td>\n",
       "    </tr>\n",
       "    <tr>\n",
       "      <th>2019</th>\n",
       "      <td>0.534103</td>\n",
       "      <td>0.676568</td>\n",
       "      <td>0.628163</td>\n",
       "      <td>0.674917</td>\n",
       "      <td>0.685369</td>\n",
       "    </tr>\n",
       "  </tbody>\n",
       "</table>\n",
       "</div>"
      ],
      "text/plain": [
       "           SVC       KNN  ElasticNet  RandomForest   XGBoost\n",
       "Y                                                           \n",
       "2016  0.533516  0.665385    0.618681      0.664286  0.685714\n",
       "2017  0.541164  0.672887    0.643249      0.667947  0.691548\n",
       "2018  0.535969  0.682043    0.640308      0.669962  0.682043\n",
       "2019  0.534103  0.676568    0.628163      0.674917  0.685369"
      ]
     },
     "execution_count": 730,
     "metadata": {},
     "output_type": "execute_result"
    }
   ],
   "source": [
    "MODELS_FINAL_TRAIN"
   ]
  },
  {
   "cell_type": "code",
   "execution_count": 731,
   "metadata": {},
   "outputs": [
    {
     "data": {
      "text/plain": [
       "SVC             0.001630\n",
       "KNN             0.108385\n",
       "ElasticNet      0.014905\n",
       "RandomForest    0.054470\n",
       "XGBoost         0.073824\n",
       "dtype: float64"
      ]
     },
     "execution_count": 731,
     "metadata": {},
     "output_type": "execute_result"
    }
   ],
   "source": [
    "(MODELS_FINAL_TRAIN - MODELS_FINAL_TEST).mean()"
   ]
  },
  {
   "cell_type": "code",
   "execution_count": 732,
   "metadata": {},
   "outputs": [],
   "source": [
    "MODELS_FINAL_TRAIN['Naive'] = MLB_DF[MLB_DF.Y > 2015].groupby('Y')['outcome'].mean()\n",
    "MODELS_FINAL_TEST['Naive'] = MLB_DF[MLB_DF.Y > 2015].groupby('Y')['outcome'].mean()"
   ]
  },
  {
   "cell_type": "code",
   "execution_count": 733,
   "metadata": {},
   "outputs": [
    {
     "data": {
      "text/html": [
       "<div>\n",
       "<style scoped>\n",
       "    .dataframe tbody tr th:only-of-type {\n",
       "        vertical-align: middle;\n",
       "    }\n",
       "\n",
       "    .dataframe tbody tr th {\n",
       "        vertical-align: top;\n",
       "    }\n",
       "\n",
       "    .dataframe thead th {\n",
       "        text-align: right;\n",
       "    }\n",
       "</style>\n",
       "<table border=\"1\" class=\"dataframe\">\n",
       "  <thead>\n",
       "    <tr style=\"text-align: right;\">\n",
       "      <th></th>\n",
       "      <th>SVC</th>\n",
       "      <th>KNN</th>\n",
       "      <th>ElasticNet</th>\n",
       "      <th>RandomForest</th>\n",
       "      <th>XGBoost</th>\n",
       "      <th>Naive</th>\n",
       "    </tr>\n",
       "    <tr>\n",
       "      <th>Y</th>\n",
       "      <th></th>\n",
       "      <th></th>\n",
       "      <th></th>\n",
       "      <th></th>\n",
       "      <th></th>\n",
       "      <th></th>\n",
       "    </tr>\n",
       "  </thead>\n",
       "  <tbody>\n",
       "    <tr>\n",
       "      <th>2016</th>\n",
       "      <td>0.533516</td>\n",
       "      <td>0.665385</td>\n",
       "      <td>0.618681</td>\n",
       "      <td>0.664286</td>\n",
       "      <td>0.685714</td>\n",
       "      <td>0.529872</td>\n",
       "    </tr>\n",
       "    <tr>\n",
       "      <th>2017</th>\n",
       "      <td>0.541164</td>\n",
       "      <td>0.672887</td>\n",
       "      <td>0.643249</td>\n",
       "      <td>0.667947</td>\n",
       "      <td>0.691548</td>\n",
       "      <td>0.539506</td>\n",
       "    </tr>\n",
       "    <tr>\n",
       "      <th>2018</th>\n",
       "      <td>0.535969</td>\n",
       "      <td>0.682043</td>\n",
       "      <td>0.640308</td>\n",
       "      <td>0.669962</td>\n",
       "      <td>0.682043</td>\n",
       "      <td>0.527378</td>\n",
       "    </tr>\n",
       "    <tr>\n",
       "      <th>2019</th>\n",
       "      <td>0.534103</td>\n",
       "      <td>0.676568</td>\n",
       "      <td>0.628163</td>\n",
       "      <td>0.674917</td>\n",
       "      <td>0.685369</td>\n",
       "      <td>0.529485</td>\n",
       "    </tr>\n",
       "  </tbody>\n",
       "</table>\n",
       "</div>"
      ],
      "text/plain": [
       "           SVC       KNN  ElasticNet  RandomForest   XGBoost     Naive\n",
       "Y                                                                     \n",
       "2016  0.533516  0.665385    0.618681      0.664286  0.685714  0.529872\n",
       "2017  0.541164  0.672887    0.643249      0.667947  0.691548  0.539506\n",
       "2018  0.535969  0.682043    0.640308      0.669962  0.682043  0.527378\n",
       "2019  0.534103  0.676568    0.628163      0.674917  0.685369  0.529485"
      ]
     },
     "execution_count": 733,
     "metadata": {},
     "output_type": "execute_result"
    }
   ],
   "source": [
    "MODELS_FINAL_TRAIN"
   ]
  },
  {
   "cell_type": "code",
   "execution_count": 734,
   "metadata": {
    "scrolled": true
   },
   "outputs": [
    {
     "data": {
      "text/html": [
       "<div>\n",
       "<style scoped>\n",
       "    .dataframe tbody tr th:only-of-type {\n",
       "        vertical-align: middle;\n",
       "    }\n",
       "\n",
       "    .dataframe tbody tr th {\n",
       "        vertical-align: top;\n",
       "    }\n",
       "\n",
       "    .dataframe thead th {\n",
       "        text-align: right;\n",
       "    }\n",
       "</style>\n",
       "<table border=\"1\" class=\"dataframe\">\n",
       "  <thead>\n",
       "    <tr style=\"text-align: right;\">\n",
       "      <th></th>\n",
       "      <th>SVC</th>\n",
       "      <th>KNN</th>\n",
       "      <th>ElasticNet</th>\n",
       "      <th>RandomForest</th>\n",
       "      <th>XGBoost</th>\n",
       "      <th>Naive</th>\n",
       "    </tr>\n",
       "    <tr>\n",
       "      <th>Y</th>\n",
       "      <th></th>\n",
       "      <th></th>\n",
       "      <th></th>\n",
       "      <th></th>\n",
       "      <th></th>\n",
       "      <th></th>\n",
       "    </tr>\n",
       "  </thead>\n",
       "  <tbody>\n",
       "    <tr>\n",
       "      <th>2016</th>\n",
       "      <td>0.518946</td>\n",
       "      <td>0.510708</td>\n",
       "      <td>0.599671</td>\n",
       "      <td>0.578254</td>\n",
       "      <td>0.581549</td>\n",
       "      <td>0.529872</td>\n",
       "    </tr>\n",
       "    <tr>\n",
       "      <th>2017</th>\n",
       "      <td>0.534539</td>\n",
       "      <td>0.580592</td>\n",
       "      <td>0.601974</td>\n",
       "      <td>0.606908</td>\n",
       "      <td>0.598684</td>\n",
       "      <td>0.539506</td>\n",
       "    </tr>\n",
       "    <tr>\n",
       "      <th>2018</th>\n",
       "      <td>0.557566</td>\n",
       "      <td>0.570724</td>\n",
       "      <td>0.633224</td>\n",
       "      <td>0.639803</td>\n",
       "      <td>0.628289</td>\n",
       "      <td>0.527378</td>\n",
       "    </tr>\n",
       "    <tr>\n",
       "      <th>2019</th>\n",
       "      <td>0.527183</td>\n",
       "      <td>0.601318</td>\n",
       "      <td>0.635914</td>\n",
       "      <td>0.634267</td>\n",
       "      <td>0.640857</td>\n",
       "      <td>0.529485</td>\n",
       "    </tr>\n",
       "  </tbody>\n",
       "</table>\n",
       "</div>"
      ],
      "text/plain": [
       "           SVC       KNN  ElasticNet  RandomForest   XGBoost     Naive\n",
       "Y                                                                     \n",
       "2016  0.518946  0.510708    0.599671      0.578254  0.581549  0.529872\n",
       "2017  0.534539  0.580592    0.601974      0.606908  0.598684  0.539506\n",
       "2018  0.557566  0.570724    0.633224      0.639803  0.628289  0.527378\n",
       "2019  0.527183  0.601318    0.635914      0.634267  0.640857  0.529485"
      ]
     },
     "execution_count": 734,
     "metadata": {},
     "output_type": "execute_result"
    }
   ],
   "source": [
    "MODELS_FINAL_TEST"
   ]
  },
  {
   "cell_type": "code",
   "execution_count": 829,
   "metadata": {},
   "outputs": [],
   "source": [
    "MODELS_FINAL_TRAIN.to_csv(PATH_TO_VIS_DATA + 'final_model_train.csv')\n",
    "MODELS_FINAL_TEST.to_csv(PATH_TO_VIS_DATA + 'final_model_test.csv')"
   ]
  },
  {
   "cell_type": "code",
   "execution_count": 735,
   "metadata": {},
   "outputs": [],
   "source": [
    "# iterate over years\n",
    "# , 2017, 2018, 2019\n",
    "for year in [2016, 2017, 2018, 2019]:\n",
    "    YEAR_MLB = MLB_DF[MLB_DF.Y == year]\n",
    "    \n",
    "    # Set PCT = True for non-scaled, PCT = False for scaled\n",
    "    X, Y = create_features(YEAR_MLB, True)\n",
    "    x_train, x_test, y_train, y_test = seasonal_train_test_split(X, Y)\n",
    "\n",
    "    for i in ['ElasticNet', 'RandomForest', 'XGBoost']:\n",
    "        model = FINAL_MODELS[i]\n",
    "        model.fit(x_train, y_train)\n",
    "        MODELS_FINAL_TRAIN.loc[year, i] = model.score(x_train, y_train)\n",
    "        MODELS_FINAL_TEST.loc[year, i] = model.score(x_test, y_test)"
   ]
  },
  {
   "cell_type": "code",
   "execution_count": 736,
   "metadata": {},
   "outputs": [],
   "source": [
    "BRIER_SCORES = pd.DataFrame([2016, 2017, 2018, 2019]).rename({\n",
    "    0: 'Y'\n",
    "}, axis = 1).set_index('Y')\n",
    "BRIER_SCORES['ElasticNet'] = 0\n",
    "BRIER_SCORES['RandomForest'] = 0\n",
    "BRIER_SCORES['XGBoost'] = 0"
   ]
  },
  {
   "cell_type": "code",
   "execution_count": 737,
   "metadata": {
    "scrolled": true
   },
   "outputs": [
    {
     "data": {
      "text/plain": [
       "Y\n",
       "2016    0.470128\n",
       "2017    0.460494\n",
       "2018    0.472622\n",
       "2019    0.470515\n",
       "dtype: float64"
      ]
     },
     "execution_count": 737,
     "metadata": {},
     "output_type": "execute_result"
    }
   ],
   "source": [
    "BRIER_NAIVE = MLB_DF[MLB_DF.Y > 2015].groupby(['Y', 'outcome'])['outcome'].count().to_frame().rename({\n",
    "    'outcome': 'count'\n",
    "}, axis = 1).reset_index()\n",
    "BRIER_NAIVE['difference'] = (BRIER_NAIVE['count'] - BRIER_NAIVE['count'] * BRIER_NAIVE['outcome'])\n",
    "BRIER_NAIVE_SCORER = BRIER_NAIVE.groupby('Y').sum()\n",
    "BRIER_NAIVE_SCORER['difference']/BRIER_NAIVE_SCORER['count']"
   ]
  },
  {
   "cell_type": "code",
   "execution_count": 738,
   "metadata": {},
   "outputs": [],
   "source": [
    "BRIER_SCORES['Naive'] = BRIER_NAIVE_SCORER['difference']/BRIER_NAIVE_SCORER['count']"
   ]
  },
  {
   "cell_type": "code",
   "execution_count": 739,
   "metadata": {},
   "outputs": [
    {
     "data": {
      "text/html": [
       "<div>\n",
       "<style scoped>\n",
       "    .dataframe tbody tr th:only-of-type {\n",
       "        vertical-align: middle;\n",
       "    }\n",
       "\n",
       "    .dataframe tbody tr th {\n",
       "        vertical-align: top;\n",
       "    }\n",
       "\n",
       "    .dataframe thead th {\n",
       "        text-align: right;\n",
       "    }\n",
       "</style>\n",
       "<table border=\"1\" class=\"dataframe\">\n",
       "  <thead>\n",
       "    <tr style=\"text-align: right;\">\n",
       "      <th></th>\n",
       "      <th>ElasticNet</th>\n",
       "      <th>RandomForest</th>\n",
       "      <th>XGBoost</th>\n",
       "      <th>Naive</th>\n",
       "    </tr>\n",
       "    <tr>\n",
       "      <th>Y</th>\n",
       "      <th></th>\n",
       "      <th></th>\n",
       "      <th></th>\n",
       "      <th></th>\n",
       "    </tr>\n",
       "  </thead>\n",
       "  <tbody>\n",
       "    <tr>\n",
       "      <th>2016</th>\n",
       "      <td>0</td>\n",
       "      <td>0</td>\n",
       "      <td>0</td>\n",
       "      <td>0.470128</td>\n",
       "    </tr>\n",
       "    <tr>\n",
       "      <th>2017</th>\n",
       "      <td>0</td>\n",
       "      <td>0</td>\n",
       "      <td>0</td>\n",
       "      <td>0.460494</td>\n",
       "    </tr>\n",
       "    <tr>\n",
       "      <th>2018</th>\n",
       "      <td>0</td>\n",
       "      <td>0</td>\n",
       "      <td>0</td>\n",
       "      <td>0.472622</td>\n",
       "    </tr>\n",
       "    <tr>\n",
       "      <th>2019</th>\n",
       "      <td>0</td>\n",
       "      <td>0</td>\n",
       "      <td>0</td>\n",
       "      <td>0.470515</td>\n",
       "    </tr>\n",
       "  </tbody>\n",
       "</table>\n",
       "</div>"
      ],
      "text/plain": [
       "      ElasticNet  RandomForest  XGBoost     Naive\n",
       "Y                                                \n",
       "2016           0             0        0  0.470128\n",
       "2017           0             0        0  0.460494\n",
       "2018           0             0        0  0.472622\n",
       "2019           0             0        0  0.470515"
      ]
     },
     "execution_count": 739,
     "metadata": {},
     "output_type": "execute_result"
    }
   ],
   "source": [
    "BRIER_SCORES"
   ]
  },
  {
   "cell_type": "code",
   "execution_count": 740,
   "metadata": {},
   "outputs": [],
   "source": [
    "# iterate over years\n",
    "# , 2017, 2018, 2019\n",
    "for year in [2016, 2017, 2018, 2019]:\n",
    "    YEAR_MLB = MLB_DF[MLB_DF.Y == year]\n",
    "    \n",
    "    # Set PCT = True for non-scaled, PCT = False for scaled\n",
    "    X, Y = create_features(YEAR_MLB, True)\n",
    "    x_train, x_test, y_train, y_test = seasonal_train_test_split(X, Y)\n",
    "\n",
    "    for i in ['ElasticNet', 'RandomForest', 'XGBoost']:\n",
    "        model = FINAL_MODELS[i]\n",
    "        model.fit(x_train, y_train)\n",
    "        BRIER_SCORES.loc[year, i] =  brier_score_loss(y_test,\n",
    "                    [x[1] for x in model.predict_proba(x_test)])"
   ]
  },
  {
   "cell_type": "code",
   "execution_count": 741,
   "metadata": {
    "scrolled": true
   },
   "outputs": [
    {
     "data": {
      "text/html": [
       "<div>\n",
       "<style scoped>\n",
       "    .dataframe tbody tr th:only-of-type {\n",
       "        vertical-align: middle;\n",
       "    }\n",
       "\n",
       "    .dataframe tbody tr th {\n",
       "        vertical-align: top;\n",
       "    }\n",
       "\n",
       "    .dataframe thead th {\n",
       "        text-align: right;\n",
       "    }\n",
       "</style>\n",
       "<table border=\"1\" class=\"dataframe\">\n",
       "  <thead>\n",
       "    <tr style=\"text-align: right;\">\n",
       "      <th></th>\n",
       "      <th>ElasticNet</th>\n",
       "      <th>RandomForest</th>\n",
       "      <th>XGBoost</th>\n",
       "      <th>Naive</th>\n",
       "    </tr>\n",
       "    <tr>\n",
       "      <th>Y</th>\n",
       "      <th></th>\n",
       "      <th></th>\n",
       "      <th></th>\n",
       "      <th></th>\n",
       "    </tr>\n",
       "  </thead>\n",
       "  <tbody>\n",
       "    <tr>\n",
       "      <th>2016</th>\n",
       "      <td>0.230803</td>\n",
       "      <td>0.235042</td>\n",
       "      <td>0.236650</td>\n",
       "      <td>0.470128</td>\n",
       "    </tr>\n",
       "    <tr>\n",
       "      <th>2017</th>\n",
       "      <td>0.233752</td>\n",
       "      <td>0.232582</td>\n",
       "      <td>0.233470</td>\n",
       "      <td>0.460494</td>\n",
       "    </tr>\n",
       "    <tr>\n",
       "      <th>2018</th>\n",
       "      <td>0.223714</td>\n",
       "      <td>0.222452</td>\n",
       "      <td>0.226821</td>\n",
       "      <td>0.472622</td>\n",
       "    </tr>\n",
       "    <tr>\n",
       "      <th>2019</th>\n",
       "      <td>0.222970</td>\n",
       "      <td>0.223184</td>\n",
       "      <td>0.223082</td>\n",
       "      <td>0.470515</td>\n",
       "    </tr>\n",
       "  </tbody>\n",
       "</table>\n",
       "</div>"
      ],
      "text/plain": [
       "      ElasticNet  RandomForest   XGBoost     Naive\n",
       "Y                                                 \n",
       "2016    0.230803      0.235042  0.236650  0.470128\n",
       "2017    0.233752      0.232582  0.233470  0.460494\n",
       "2018    0.223714      0.222452  0.226821  0.472622\n",
       "2019    0.222970      0.223184  0.223082  0.470515"
      ]
     },
     "execution_count": 741,
     "metadata": {},
     "output_type": "execute_result"
    }
   ],
   "source": [
    "BRIER_SCORES"
   ]
  },
  {
   "cell_type": "code",
   "execution_count": 828,
   "metadata": {},
   "outputs": [],
   "source": [
    "BRIER_SCORES.to_csv(PATH_TO_VIS_DATA + 'brier_scores.csv')"
   ]
  },
  {
   "cell_type": "markdown",
   "metadata": {},
   "source": [
    "### Exploratory evaluation\n",
    "Understanding our models"
   ]
  },
  {
   "cell_type": "code",
   "execution_count": 746,
   "metadata": {},
   "outputs": [],
   "source": [
    "new_cols = ['OBP', 'WHIP', 'K9', 'HR9', 'K/BB', 'FIP', 'ISO', 'ELO', 'rest']"
   ]
  },
  {
   "cell_type": "code",
   "execution_count": 747,
   "metadata": {
    "scrolled": false
   },
   "outputs": [
    {
     "data": {
      "text/plain": [
       "<BarContainer object of 9 artists>"
      ]
     },
     "execution_count": 747,
     "metadata": {},
     "output_type": "execute_result"
    },
    {
     "data": {
      "image/png": "[encoded data removed]",
      "text/plain": [
       "<Figure size 720x720 with 1 Axes>"
      ]
     },
     "metadata": {
      "needs_background": "light"
     },
     "output_type": "display_data"
    }
   ],
   "source": [
    "plt.figure(figsize = (10, 10))\n",
    "\n",
    "plt.bar(new_cols, pd.Series(FINAL_MODELS['ElasticNet'].coef_[0], \n",
    "          index = x_train.columns).sort_values(\n",
    "    ascending = False))"
   ]
  },
  {
   "cell_type": "code",
   "execution_count": 816,
   "metadata": {},
   "outputs": [],
   "source": [
    "LOGIT_FI = abs(pd.Series(FINAL_MODELS['ElasticNet'].coef_[0], \n",
    "          index = new_cols)).sort_values(\n",
    "ascending = False)"
   ]
  },
  {
   "cell_type": "code",
   "execution_count": 806,
   "metadata": {},
   "outputs": [],
   "source": [
    "# XGBoost feature importance\n",
    "XGB_FEATURES = pd.Series(FINAL_MODELS['XGBoost'].get_booster(\n",
    ").get_score(\n",
    "    importance_type = 'total_gain')).sort_values(\n",
    "    ascending = False)\n",
    "XGB_FEATURES.index = [i for i in new_cols if i != 'rest']\n",
    "\n",
    "XGB_COLS = [i[0:4] for i in list(XGB_FEATURES.index)]"
   ]
  },
  {
   "cell_type": "code",
   "execution_count": 807,
   "metadata": {},
   "outputs": [
    {
     "data": {
      "text/plain": [
       "<BarContainer object of 8 artists>"
      ]
     },
     "execution_count": 807,
     "metadata": {},
     "output_type": "execute_result"
    },
    {
     "data": {
      "image/png": "[encoded data removed]",
      "text/plain": [
       "<Figure size 432x288 with 1 Axes>"
      ]
     },
     "metadata": {
      "needs_background": "light"
     },
     "output_type": "display_data"
    }
   ],
   "source": [
    "plt.bar(XGB_COLS,\n",
    "        XGB_FEATURES)"
   ]
  },
  {
   "cell_type": "code",
   "execution_count": 808,
   "metadata": {},
   "outputs": [
    {
     "data": {
      "text/plain": [
       "OBP     310.235478\n",
       "WHIP    155.023940\n",
       "K9       67.589345\n",
       "HR9      56.256752\n",
       "K/BB     55.665763\n",
       "FIP      51.516996\n",
       "ISO      47.603709\n",
       "ELO      37.499384\n",
       "dtype: float64"
      ]
     },
     "execution_count": 808,
     "metadata": {},
     "output_type": "execute_result"
    }
   ],
   "source": [
    "XGB_FEATURES"
   ]
  },
  {
   "cell_type": "code",
   "execution_count": 812,
   "metadata": {},
   "outputs": [],
   "source": [
    "XGB_FI = pd.Series(FINAL_MODELS['XGBoost'].feature_importances_,\n",
    "          new_cols).sort_values(ascending = False)"
   ]
  },
  {
   "cell_type": "code",
   "execution_count": 811,
   "metadata": {},
   "outputs": [],
   "source": [
    "RF_FI = pd.Series(FINAL_MODELS['RandomForest'].feature_importances_,\n",
    "          new_cols).sort_values(ascending = False)"
   ]
  },
  {
   "cell_type": "code",
   "execution_count": 821,
   "metadata": {},
   "outputs": [],
   "source": [
    "FI_df = pd.DataFrame([LOGIT_FI, XGB_FI, RF_FI], index = [\n",
    "    'ElasticNet', 'XGBoost', 'RandomForest'\n",
    "]).T"
   ]
  },
  {
   "cell_type": "code",
   "execution_count": 825,
   "metadata": {},
   "outputs": [
    {
     "data": {
      "text/html": [
       "<div>\n",
       "<style scoped>\n",
       "    .dataframe tbody tr th:only-of-type {\n",
       "        vertical-align: middle;\n",
       "    }\n",
       "\n",
       "    .dataframe tbody tr th {\n",
       "        vertical-align: top;\n",
       "    }\n",
       "\n",
       "    .dataframe thead th {\n",
       "        text-align: right;\n",
       "    }\n",
       "</style>\n",
       "<table border=\"1\" class=\"dataframe\">\n",
       "  <thead>\n",
       "    <tr style=\"text-align: right;\">\n",
       "      <th></th>\n",
       "      <th>ElasticNet</th>\n",
       "      <th>XGBoost</th>\n",
       "      <th>RandomForest</th>\n",
       "    </tr>\n",
       "  </thead>\n",
       "  <tbody>\n",
       "    <tr>\n",
       "      <th>OBP</th>\n",
       "      <td>0.028587</td>\n",
       "      <td>0.260696</td>\n",
       "      <td>0.334458</td>\n",
       "    </tr>\n",
       "    <tr>\n",
       "      <th>rest</th>\n",
       "      <td>0.010631</td>\n",
       "      <td>0.000000</td>\n",
       "      <td>0.001511</td>\n",
       "    </tr>\n",
       "    <tr>\n",
       "      <th>ISO</th>\n",
       "      <td>0.006530</td>\n",
       "      <td>0.160921</td>\n",
       "      <td>0.248600</td>\n",
       "    </tr>\n",
       "    <tr>\n",
       "      <th>WHIP</th>\n",
       "      <td>0.004617</td>\n",
       "      <td>0.082717</td>\n",
       "      <td>0.074011</td>\n",
       "    </tr>\n",
       "    <tr>\n",
       "      <th>K9</th>\n",
       "      <td>0.000997</td>\n",
       "      <td>0.105006</td>\n",
       "      <td>0.042547</td>\n",
       "    </tr>\n",
       "    <tr>\n",
       "      <th>K/BB</th>\n",
       "      <td>0.000753</td>\n",
       "      <td>0.079515</td>\n",
       "      <td>0.072443</td>\n",
       "    </tr>\n",
       "    <tr>\n",
       "      <th>HR9</th>\n",
       "      <td>0.000691</td>\n",
       "      <td>0.099274</td>\n",
       "      <td>0.054707</td>\n",
       "    </tr>\n",
       "    <tr>\n",
       "      <th>FIP</th>\n",
       "      <td>0.000410</td>\n",
       "      <td>0.098232</td>\n",
       "      <td>0.057671</td>\n",
       "    </tr>\n",
       "    <tr>\n",
       "      <th>ELO</th>\n",
       "      <td>0.000000</td>\n",
       "      <td>0.113638</td>\n",
       "      <td>0.114053</td>\n",
       "    </tr>\n",
       "  </tbody>\n",
       "</table>\n",
       "</div>"
      ],
      "text/plain": [
       "      ElasticNet   XGBoost  RandomForest\n",
       "OBP     0.028587  0.260696      0.334458\n",
       "rest    0.010631  0.000000      0.001511\n",
       "ISO     0.006530  0.160921      0.248600\n",
       "WHIP    0.004617  0.082717      0.074011\n",
       "K9      0.000997  0.105006      0.042547\n",
       "K/BB    0.000753  0.079515      0.072443\n",
       "HR9     0.000691  0.099274      0.054707\n",
       "FIP     0.000410  0.098232      0.057671\n",
       "ELO     0.000000  0.113638      0.114053"
      ]
     },
     "execution_count": 825,
     "metadata": {},
     "output_type": "execute_result"
    }
   ],
   "source": [
    "FI_df"
   ]
  },
  {
   "cell_type": "code",
   "execution_count": 827,
   "metadata": {},
   "outputs": [],
   "source": [
    "FI_df.to_csv(PATH_TO_VIS_DATA + 'feature_importance.csv')"
   ]
  },
  {
   "cell_type": "code",
   "execution_count": 974,
   "metadata": {},
   "outputs": [],
   "source": [
    "from plotnine import *"
   ]
  },
  {
   "cell_type": "markdown",
   "metadata": {},
   "source": [
    "### Lift charts"
   ]
  },
  {
   "cell_type": "code",
   "execution_count": 1091,
   "metadata": {},
   "outputs": [],
   "source": [
    "# ONLY RUN ONCE\n",
    "\n",
    "BRIER_TRUNCATED = BRIER_SCORES.copy()\n",
    "# iterate over years\n",
    "# , 2017, 2018, 2019\n",
    "for year in [2016, 2017, 2018, 2019]:\n",
    "    YEAR_MLB = MLB_DF[MLB_DF.Y == year]\n",
    "    \n",
    "    # Set PCT = True for non-scaled, PCT = False for scaled\n",
    "    X, Y = create_features(YEAR_MLB, True)\n",
    "    x_train, x_test, y_train, y_test = seasonal_train_test_split(X, Y)\n",
    "\n",
    "    for i in ['ElasticNet', 'RandomForest', 'XGBoost']:\n",
    "        model = FINAL_MODELS[i]\n",
    "        model.fit(x_train, y_train)\n",
    "        BRIER_TRUNCATED.loc[year, i] =  brier_score_loss(y_test,\n",
    "                    [min(max(x[1], 0.15), 0.75) for x in model.predict_proba(x_test)])"
   ]
  },
  {
   "cell_type": "code",
   "execution_count": 1092,
   "metadata": {},
   "outputs": [
    {
     "data": {
      "text/plain": [
       "ElasticNet      0.227428\n",
       "RandomForest    0.228384\n",
       "XGBoost         0.229724\n",
       "Naive           0.468440\n",
       "dtype: float64"
      ]
     },
     "execution_count": 1092,
     "metadata": {},
     "output_type": "execute_result"
    }
   ],
   "source": [
    "BRIER_TRUNCATED.mean()"
   ]
  },
  {
   "cell_type": "code",
   "execution_count": 1008,
   "metadata": {},
   "outputs": [],
   "source": [
    "Lift_DF = pd.DataFrame([x[1] for x in FINAL_MODELS['RandomForest'].predict_proba(x_test)]).rename({\n",
    "    0: 'RandomForest'\n",
    "}, axis = 1)\n",
    "Lift_DF = pd.concat([Lift_DF, pd.DataFrame([x[1] for x in FINAL_MODELS['XGBoost'].predict_proba(x_test)]).rename({\n",
    "    0: 'XGBoost'\n",
    "}, axis = 1),pd.DataFrame([x[1] for x in FINAL_MODELS['ElasticNet'].predict_proba(x_test)]).rename({\n",
    "    0: 'ElasticNet'\n",
    "}, axis = 1)], axis = 1)\n",
    "Lift_DF['y'] = y_test.reset_index(drop = True)"
   ]
  },
  {
   "cell_type": "code",
   "execution_count": 1088,
   "metadata": {},
   "outputs": [],
   "source": [
    "def lift_bucketing(x):\n",
    "    if (x <= 0.15):\n",
    "        return 0.15\n",
    "    if (x >= 0.75):\n",
    "        return 0.75\n",
    "    return x\n",
    "    \n",
    "Lift_DF_bucket = Lift_DF.applymap(lambda x: lift_bucketing(round(16*x)/16))"
   ]
  },
  {
   "cell_type": "code",
   "execution_count": 1089,
   "metadata": {},
   "outputs": [
    {
     "data": {
      "text/html": [
       "<div>\n",
       "<style scoped>\n",
       "    .dataframe tbody tr th:only-of-type {\n",
       "        vertical-align: middle;\n",
       "    }\n",
       "\n",
       "    .dataframe tbody tr th {\n",
       "        vertical-align: top;\n",
       "    }\n",
       "\n",
       "    .dataframe thead th {\n",
       "        text-align: right;\n",
       "    }\n",
       "</style>\n",
       "<table border=\"1\" class=\"dataframe\">\n",
       "  <thead>\n",
       "    <tr style=\"text-align: right;\">\n",
       "      <th></th>\n",
       "      <th>RandomForest</th>\n",
       "      <th>XGBoost</th>\n",
       "      <th>y</th>\n",
       "    </tr>\n",
       "    <tr>\n",
       "      <th>ElasticNet</th>\n",
       "      <th></th>\n",
       "      <th></th>\n",
       "      <th></th>\n",
       "    </tr>\n",
       "  </thead>\n",
       "  <tbody>\n",
       "    <tr>\n",
       "      <th>0.1500</th>\n",
       "      <td>15</td>\n",
       "      <td>15</td>\n",
       "      <td>15</td>\n",
       "    </tr>\n",
       "    <tr>\n",
       "      <th>0.1875</th>\n",
       "      <td>23</td>\n",
       "      <td>23</td>\n",
       "      <td>23</td>\n",
       "    </tr>\n",
       "    <tr>\n",
       "      <th>0.2500</th>\n",
       "      <td>37</td>\n",
       "      <td>37</td>\n",
       "      <td>37</td>\n",
       "    </tr>\n",
       "    <tr>\n",
       "      <th>0.3125</th>\n",
       "      <td>49</td>\n",
       "      <td>49</td>\n",
       "      <td>49</td>\n",
       "    </tr>\n",
       "    <tr>\n",
       "      <th>0.3750</th>\n",
       "      <td>46</td>\n",
       "      <td>46</td>\n",
       "      <td>46</td>\n",
       "    </tr>\n",
       "    <tr>\n",
       "      <th>0.4375</th>\n",
       "      <td>71</td>\n",
       "      <td>71</td>\n",
       "      <td>71</td>\n",
       "    </tr>\n",
       "    <tr>\n",
       "      <th>0.5000</th>\n",
       "      <td>83</td>\n",
       "      <td>83</td>\n",
       "      <td>83</td>\n",
       "    </tr>\n",
       "    <tr>\n",
       "      <th>0.5625</th>\n",
       "      <td>83</td>\n",
       "      <td>83</td>\n",
       "      <td>83</td>\n",
       "    </tr>\n",
       "    <tr>\n",
       "      <th>0.6250</th>\n",
       "      <td>82</td>\n",
       "      <td>82</td>\n",
       "      <td>82</td>\n",
       "    </tr>\n",
       "    <tr>\n",
       "      <th>0.6875</th>\n",
       "      <td>68</td>\n",
       "      <td>68</td>\n",
       "      <td>68</td>\n",
       "    </tr>\n",
       "    <tr>\n",
       "      <th>0.7500</th>\n",
       "      <td>50</td>\n",
       "      <td>50</td>\n",
       "      <td>50</td>\n",
       "    </tr>\n",
       "  </tbody>\n",
       "</table>\n",
       "</div>"
      ],
      "text/plain": [
       "            RandomForest  XGBoost   y\n",
       "ElasticNet                           \n",
       "0.1500                15       15  15\n",
       "0.1875                23       23  23\n",
       "0.2500                37       37  37\n",
       "0.3125                49       49  49\n",
       "0.3750                46       46  46\n",
       "0.4375                71       71  71\n",
       "0.5000                83       83  83\n",
       "0.5625                83       83  83\n",
       "0.6250                82       82  82\n",
       "0.6875                68       68  68\n",
       "0.7500                50       50  50"
      ]
     },
     "execution_count": 1089,
     "metadata": {},
     "output_type": "execute_result"
    }
   ],
   "source": [
    "Lift_DF_bucket.groupby('ElasticNet').count()"
   ]
  },
  {
   "cell_type": "code",
   "execution_count": 1090,
   "metadata": {},
   "outputs": [],
   "source": [
    "Lift_Chart = pd.concat([\n",
    "    Lift_DF_bucket.groupby('ElasticNet')['y'].mean().to_frame().rename({'y': 'ElasticNet'}, axis = 1),\n",
    "    Lift_DF_bucket.groupby('RandomForest')['y'].mean().to_frame().rename(\n",
    "        {'y': 'RandomForest'}, axis = 1),\n",
    "    Lift_DF_bucket.groupby('XGBoost')['y'].mean().to_frame().rename({\n",
    "        'y': 'XGBoost'}, axis = 1)], axis = 1).fillna(0)"
   ]
  },
  {
   "cell_type": "code",
   "execution_count": 1094,
   "metadata": {},
   "outputs": [
    {
     "data": {
      "text/html": [
       "<div>\n",
       "<style scoped>\n",
       "    .dataframe tbody tr th:only-of-type {\n",
       "        vertical-align: middle;\n",
       "    }\n",
       "\n",
       "    .dataframe tbody tr th {\n",
       "        vertical-align: top;\n",
       "    }\n",
       "\n",
       "    .dataframe thead th {\n",
       "        text-align: right;\n",
       "    }\n",
       "</style>\n",
       "<table border=\"1\" class=\"dataframe\">\n",
       "  <thead>\n",
       "    <tr style=\"text-align: right;\">\n",
       "      <th></th>\n",
       "      <th>ElasticNet</th>\n",
       "      <th>RandomForest</th>\n",
       "      <th>XGBoost</th>\n",
       "    </tr>\n",
       "  </thead>\n",
       "  <tbody>\n",
       "    <tr>\n",
       "      <th>0.1500</th>\n",
       "      <td>0.310000</td>\n",
       "      <td>0.000000</td>\n",
       "      <td>0.150000</td>\n",
       "    </tr>\n",
       "    <tr>\n",
       "      <th>0.1875</th>\n",
       "      <td>0.176087</td>\n",
       "      <td>0.000000</td>\n",
       "      <td>0.407143</td>\n",
       "    </tr>\n",
       "    <tr>\n",
       "      <th>0.2500</th>\n",
       "      <td>0.344595</td>\n",
       "      <td>0.305556</td>\n",
       "      <td>0.257692</td>\n",
       "    </tr>\n",
       "    <tr>\n",
       "      <th>0.3125</th>\n",
       "      <td>0.370408</td>\n",
       "      <td>0.300000</td>\n",
       "      <td>0.331579</td>\n",
       "    </tr>\n",
       "    <tr>\n",
       "      <th>0.3750</th>\n",
       "      <td>0.384783</td>\n",
       "      <td>0.376230</td>\n",
       "      <td>0.410377</td>\n",
       "    </tr>\n",
       "    <tr>\n",
       "      <th>0.4375</th>\n",
       "      <td>0.445775</td>\n",
       "      <td>0.430000</td>\n",
       "      <td>0.426000</td>\n",
       "    </tr>\n",
       "    <tr>\n",
       "      <th>0.5000</th>\n",
       "      <td>0.431928</td>\n",
       "      <td>0.426190</td>\n",
       "      <td>0.461111</td>\n",
       "    </tr>\n",
       "    <tr>\n",
       "      <th>0.5625</th>\n",
       "      <td>0.518675</td>\n",
       "      <td>0.486449</td>\n",
       "      <td>0.479032</td>\n",
       "    </tr>\n",
       "    <tr>\n",
       "      <th>0.6250</th>\n",
       "      <td>0.530488</td>\n",
       "      <td>0.527143</td>\n",
       "      <td>0.525904</td>\n",
       "    </tr>\n",
       "    <tr>\n",
       "      <th>0.6875</th>\n",
       "      <td>0.600000</td>\n",
       "      <td>0.628378</td>\n",
       "      <td>0.559091</td>\n",
       "    </tr>\n",
       "    <tr>\n",
       "      <th>0.7500</th>\n",
       "      <td>0.606000</td>\n",
       "      <td>0.578571</td>\n",
       "      <td>0.619231</td>\n",
       "    </tr>\n",
       "  </tbody>\n",
       "</table>\n",
       "</div>"
      ],
      "text/plain": [
       "        ElasticNet  RandomForest   XGBoost\n",
       "0.1500    0.310000      0.000000  0.150000\n",
       "0.1875    0.176087      0.000000  0.407143\n",
       "0.2500    0.344595      0.305556  0.257692\n",
       "0.3125    0.370408      0.300000  0.331579\n",
       "0.3750    0.384783      0.376230  0.410377\n",
       "0.4375    0.445775      0.430000  0.426000\n",
       "0.5000    0.431928      0.426190  0.461111\n",
       "0.5625    0.518675      0.486449  0.479032\n",
       "0.6250    0.530488      0.527143  0.525904\n",
       "0.6875    0.600000      0.628378  0.559091\n",
       "0.7500    0.606000      0.578571  0.619231"
      ]
     },
     "execution_count": 1094,
     "metadata": {},
     "output_type": "execute_result"
    }
   ],
   "source": [
    "Lift_Chart"
   ]
  },
  {
   "cell_type": "code",
   "execution_count": 1115,
   "metadata": {},
   "outputs": [
    {
     "data": {
      "image/png": "[encoded data removed]",
      "text/plain": [
       "<Figure size 500x500 with 1 Axes>"
      ]
     },
     "metadata": {},
     "output_type": "display_data"
    }
   ],
   "source": [
    "plt.figure(figsize = (5, 5))\n",
    "plt.plot(Lift_Chart['ElasticNet'], color = '#0198E1',\n",
    "         label = 'ElasticNet, brier = %0.4f' % BRIER_TRUNCATED.mean()['ElasticNet'])\n",
    "plt.plot(Lift_Chart['RandomForest'], color = '#FCD116',\n",
    "         label = 'RandomForest, brier = %0.4f' % BRIER_TRUNCATED.mean()['RandomForest'])\n",
    "plt.plot(Lift_Chart['XGBoost'], color = '#FF3333',\n",
    "         label = 'XGBoost, brier = %0.4f' % BRIER_TRUNCATED.mean()['XGBoost'])\n",
    "plt.xlim(0.1, 0.8)\n",
    "plt.xlabel('P(Model_Win) - Model forecast likelihood')\n",
    "plt.ylabel('P(Win | Model_Win)')\n",
    "plt.title('Lift Chart')\n",
    "plt.tight_layout()\n",
    "plt.legend(loc = 'lower right')\n",
    "plt.savefig('../charts/lift-final-truncated.png', dpi=320)"
   ]
  },
  {
   "cell_type": "markdown",
   "metadata": {},
   "source": [
    "### Summative analysis"
   ]
  },
  {
   "cell_type": "code",
   "execution_count": 1126,
   "metadata": {},
   "outputs": [],
   "source": [
    "nationals_df = MLB_DF[(MLB_DF.Y == 2019) & ((MLB_DF.home_team == 'WAS') | (MLB_DF.away_team == 'WAS'))]"
   ]
  },
  {
   "cell_type": "code",
   "execution_count": 1127,
   "metadata": {},
   "outputs": [],
   "source": [
    "nats_features = create_features(nationals_df, True)"
   ]
  },
  {
   "cell_type": "code",
   "execution_count": 1152,
   "metadata": {},
   "outputs": [],
   "source": [
    "nats_home_indicator = (nationals_df.home_team == 'WAS').astype(int).reset_index(drop = True)"
   ]
  },
  {
   "cell_type": "code",
   "execution_count": 1160,
   "metadata": {
    "scrolled": true
   },
   "outputs": [],
   "source": [
    "nats_predictions = [x[1] for x in FINAL_MODELS['ElasticNet'].predict_proba(nats_features[0])]\n",
    "# (FINAL_MODELS['ElasticNet'].predict(nats_features[0]) == nats_features[1]).mean()"
   ]
  },
  {
   "cell_type": "code",
   "execution_count": 1225,
   "metadata": {},
   "outputs": [],
   "source": [
    "nats_wins = 0\n",
    "\n",
    "nats_win_probabilities = []\n",
    "for i in range(162):\n",
    "    if (nats_home_indicator[i] == 1):\n",
    "        if (nats_predictions[i] > 0.5):\n",
    "            nats_wins = nats_wins + 1\n",
    "        nats_win_probabilities.append(nats_predictions[i] - 0.5)\n",
    "    else:\n",
    "        if (nats_predictions[i] <= 0.5):\n",
    "            nats_wins = nats_wins + 1\n",
    "        nats_win_probabilities.append(1 - nats_predictions[i] - 0.5)\n"
   ]
  },
  {
   "cell_type": "code",
   "execution_count": 1226,
   "metadata": {},
   "outputs": [
    {
     "data": {
      "text/plain": [
       "113"
      ]
     },
     "execution_count": 1226,
     "metadata": {},
     "output_type": "execute_result"
    }
   ],
   "source": [
    "nats_wins"
   ]
  },
  {
   "cell_type": "code",
   "execution_count": 1191,
   "metadata": {},
   "outputs": [
    {
     "data": {
      "text/plain": [
       "(0.0, 162.0, -0.4629822061792251, 0.5345642159056789)"
      ]
     },
     "execution_count": 1191,
     "metadata": {},
     "output_type": "execute_result"
    },
    {
     "data": {
      "image/png": "[encoded data removed]",
      "text/plain": [
       "<Figure size 1500x200 with 1 Axes>"
      ]
     },
     "metadata": {},
     "output_type": "display_data"
    }
   ],
   "source": [
    "plt.figure(figsize = (15, 2))\n",
    "plt.bar(range(162), nats_win_probabilities, color = ['green' if x > 0 else 'red' for x in nats_win_probabilities])\n",
    "plt.xlim(0, 162)\n",
    "plt.savefig('../charts/2019-washington-nationals.png', dpi=320)\n",
    "plt.axis('off')"
   ]
  },
  {
   "cell_type": "markdown",
   "metadata": {},
   "source": [
    "For my Yankees..."
   ]
  },
  {
   "cell_type": "code",
   "execution_count": 1242,
   "metadata": {},
   "outputs": [
    {
     "name": "stdout",
     "output_type": "stream",
     "text": [
      "99\n"
     ]
    }
   ],
   "source": [
    "yanks = MLB_DF[(MLB_DF.Y == 2017) & ((MLB_DF.home_team == 'NYA') | (MLB_DF.away_team == 'NYA'))]\n",
    "baby_bombers = create_features(yanks, True)\n",
    "cradle = (yanks.home_team == 'NYA').astype(int).reset_index(drop = True)\n",
    "yanks_2017 = [x[1] for x in FINAL_MODELS['ElasticNet'].predict_proba(baby_bombers[0])]\n",
    "\n",
    "yankees_win = 0\n",
    "nyy_win_probabilities = []\n",
    "for i in range(162):\n",
    "    if (cradle[i] == 1):\n",
    "        if (yanks_2017[i] > 0.5):\n",
    "            yankees_win = yankees_win + 1\n",
    "        nyy_win_probabilities.append(yanks_2017[i] - 0.5)\n",
    "    else:\n",
    "        if (yanks_2017[i] <= 0.5):\n",
    "            yankees_win = yankees_win + 1\n",
    "        nyy_win_probabilities.append(1 - yanks_2017[i] - 0.5)\n",
    "        \n",
    "print(yankees_win)"
   ]
  },
  {
   "cell_type": "code",
   "execution_count": 1243,
   "metadata": {},
   "outputs": [
    {
     "data": {
      "text/plain": [
       "(0.0, 162.0, -0.2693699544203793, 0.3950953883184151)"
      ]
     },
     "execution_count": 1243,
     "metadata": {},
     "output_type": "execute_result"
    },
    {
     "data": {
      "image/png": "[encoded data removed]",
      "text/plain": [
       "<Figure size 1500x200 with 1 Axes>"
      ]
     },
     "metadata": {},
     "output_type": "display_data"
    }
   ],
   "source": [
    "plt.figure(figsize = (15, 2))\n",
    "plt.bar(range(162), nyy_win_probabilities, color = ['#0C2340' if x > 0 else '#E4002C' for x in nyy_win_probabilities])\n",
    "plt.xlim(0, 162)\n",
    "plt.savefig('../charts/2017-newyork-yankees.png', dpi=320)\n",
    "plt.axis('off')"
   ]
  },
  {
   "cell_type": "markdown",
   "metadata": {},
   "source": [
    "And the unfortunate but well deserved Red Sox (Dr. Jensen's team...)"
   ]
  },
  {
   "cell_type": "code",
   "execution_count": 1199,
   "metadata": {},
   "outputs": [
    {
     "name": "stdout",
     "output_type": "stream",
     "text": [
      "116\n"
     ]
    }
   ],
   "source": [
    "Boston_Data = MLB_DF[(MLB_DF.Y == 2018) & ((MLB_DF.home_team == 'BOS') | (MLB_DF.away_team == 'BOS'))]\n",
    "BOS_FEATURES = create_features(Boston_Data, True)\n",
    "BOS_HOME = (Boston_Data.home_team == 'BOS').astype(int).reset_index(drop = True)\n",
    "BOS_2018 = [x[1] for x in FINAL_MODELS['ElasticNet'].predict_proba(BOS_FEATURES[0])]\n",
    "\n",
    "BOS_WIN = 0\n",
    "bos_win_probabilities = []\n",
    "for i in range(162):\n",
    "    if (BOS_HOME[i] == 1):\n",
    "        if (BOS_2018[i] > 0.5):\n",
    "            BOS_WIN = BOS_WIN + 1\n",
    "        bos_win_probabilities.append(BOS_2018[i] - 0.5)\n",
    "    else:\n",
    "        if (BOS_2018[i] <= 0.5):\n",
    "            BOS_WIN = BOS_WIN + 1\n",
    "        bos_win_probabilities.append(1 - BOS_2018[i] - 0.5)\n",
    "        \n",
    "print(BOS_WIN)"
   ]
  },
  {
   "cell_type": "code",
   "execution_count": 1221,
   "metadata": {},
   "outputs": [
    {
     "data": {
      "text/plain": [
       "(0.0, 162.0, -0.33381980711173304, 0.3974695804447593)"
      ]
     },
     "execution_count": 1221,
     "metadata": {},
     "output_type": "execute_result"
    },
    {
     "data": {
      "image/png": "[encoded data removed]",
      "text/plain": [
       "<Figure size 1500x200 with 1 Axes>"
      ]
     },
     "metadata": {},
     "output_type": "display_data"
    }
   ],
   "source": [
    "plt.figure(figsize = (15, 2))\n",
    "plt.bar(range(162), bos_win_probabilities, color = ['#BD3039' if x > 0 else 'silver' for x in bos_win_probabilities])\n",
    "plt.xlim(0, 162)\n",
    "plt.savefig('../charts/2018-boston-redsox.png', dpi=320)\n",
    "plt.axis('off')"
   ]
  },
  {
   "cell_type": "markdown",
   "metadata": {},
   "source": [
    "Cleveland Indians"
   ]
  },
  {
   "cell_type": "code",
   "execution_count": 1205,
   "metadata": {},
   "outputs": [
    {
     "name": "stdout",
     "output_type": "stream",
     "text": [
      "108\n"
     ]
    },
    {
     "data": {
      "image/png": "[encoded data removed]",
      "text/plain": [
       "<Figure size 1500x200 with 1 Axes>"
      ]
     },
     "metadata": {},
     "output_type": "display_data"
    }
   ],
   "source": [
    "Boston_Data = MLB_DF[(MLB_DF.Y == 2017) & ((MLB_DF.home_team == 'CLE') | (MLB_DF.away_team == 'CLE'))]\n",
    "BOS_FEATURES = create_features(Boston_Data, True)\n",
    "BOS_HOME = (Boston_Data.home_team == 'CLE').astype(int).reset_index(drop = True)\n",
    "BOS_2018 = [x[1] for x in FINAL_MODELS['ElasticNet'].predict_proba(BOS_FEATURES[0])]\n",
    "\n",
    "BOS_WIN = 0\n",
    "bos_win_probabilities = []\n",
    "for i in range(162):\n",
    "    if (BOS_HOME[i] == 1):\n",
    "        if (BOS_2018[i] > 0.5):\n",
    "            BOS_WIN = BOS_WIN + 1\n",
    "        bos_win_probabilities.append(BOS_2018[i] - 0.5)\n",
    "    else:\n",
    "        if (BOS_2018[i] <= 0.5):\n",
    "            BOS_WIN = BOS_WIN + 1\n",
    "        bos_win_probabilities.append(1 - BOS_2018[i] - 0.5)\n",
    "        \n",
    "print(BOS_WIN)\n",
    "plt.figure(figsize = (15, 2))\n",
    "plt.bar(range(162), bos_win_probabilities, color = ['green' if x > 0 else 'red' for x in bos_win_probabilities])\n",
    "plt.xlim(0, 162)\n",
    "plt.axis('off')\n",
    "plt.xlabel('Cleveland Indians, 2017')\n",
    "plt.savefig('../charts/2017-cleveland-indians.png', dpi=320)\n"
   ]
  },
  {
   "cell_type": "code",
   "execution_count": 1224,
   "metadata": {},
   "outputs": [
    {
     "name": "stdout",
     "output_type": "stream",
     "text": [
      "104\n"
     ]
    },
    {
     "data": {
      "image/png": "[encoded data removed]",
      "text/plain": [
       "<Figure size 1500x200 with 1 Axes>"
      ]
     },
     "metadata": {},
     "output_type": "display_data"
    }
   ],
   "source": [
    "# OAKLAND A'S\n",
    "Boston_Data = MLB_DF[(MLB_DF.Y == 2002) & ((MLB_DF.home_team == 'OAK') | (MLB_DF.away_team == 'OAK'))]\n",
    "BOS_FEATURES = create_features(Boston_Data, True)\n",
    "BOS_HOME = (Boston_Data.home_team == 'OAK').astype(int).reset_index(drop = True)\n",
    "BOS_2018 = [x[1] for x in FINAL_MODELS['ElasticNet'].predict_proba(BOS_FEATURES[0])]\n",
    "\n",
    "BOS_WIN = 0\n",
    "bos_win_probabilities = []\n",
    "for i in range(162):\n",
    "    if (BOS_HOME[i] == 1):\n",
    "        if (BOS_2018[i] > 0.5):\n",
    "            BOS_WIN = BOS_WIN + 1\n",
    "        bos_win_probabilities.append(BOS_2018[i] - 0.5)\n",
    "    else:\n",
    "        if (BOS_2018[i] <= 0.5):\n",
    "            BOS_WIN = BOS_WIN + 1\n",
    "        bos_win_probabilities.append(1 - BOS_2018[i] - 0.5)\n",
    "        \n",
    "print(BOS_WIN)\n",
    "plt.figure(figsize = (15, 2))\n",
    "plt.bar(range(162), bos_win_probabilities, color = ['#056607' if x > 0 else '#EFB21E' for x in bos_win_probabilities])\n",
    "plt.xlim(0, 162)\n",
    "plt.axis('off')\n",
    "plt.xlabel('Oakland As, 2002 - Moneyball')\n",
    "plt.savefig('../charts/2002-oakland-as.png', dpi=320)\n"
   ]
  },
  {
   "cell_type": "markdown",
   "metadata": {},
   "source": [
    "### Analysis of the 2019 season to compare to Pythagorean"
   ]
  },
  {
   "cell_type": "code",
   "execution_count": 1279,
   "metadata": {},
   "outputs": [],
   "source": [
    "team_records = pd.DataFrame(list(set(MLB_DF.home_team))).rename(\n",
    "    {0: 'team'}, axis = 1\n",
    ").set_index('team')\n",
    "team_records[2019] = 0"
   ]
  },
  {
   "cell_type": "code",
   "execution_count": 1280,
   "metadata": {
    "scrolled": false
   },
   "outputs": [
    {
     "name": "stdout",
     "output_type": "stream",
     "text": [
      "BAL 36\n",
      "CHA 54\n",
      "SLN 75\n",
      "HOU 131\n",
      "BOS 109\n",
      "DET 33\n",
      "MIN 106\n",
      "PIT 63\n",
      "SDN 63\n",
      "ATL 106\n",
      "MIA 26\n",
      "TEX 73\n",
      "CIN 76\n",
      "WAS 113\n",
      "NYA 115\n",
      "KCA 41\n",
      "ANA 78\n",
      "TBA 107\n",
      "COL 77\n",
      "CLE 103\n",
      "ARI 79\n",
      "CHN 99\n",
      "PHI 81\n",
      "OAK 97\n",
      "TOR 57\n",
      "SEA 65\n",
      "NYN 97\n",
      "SFN 62\n",
      "MIL 75\n",
      "LAN 128\n"
     ]
    }
   ],
   "source": [
    "for team in list(set(MLB_DF.home_team)):\n",
    "    TEAM_DATA = MLB_DF[(MLB_DF.Y == 2019) & ((MLB_DF.home_team == team) | (MLB_DF.away_team == team))]\n",
    "    FEATURES = create_features(TEAM_DATA, True)\n",
    "    HOME_TEAM = (TEAM_DATA.home_team == team).astype(int).reset_index(drop = True)\n",
    "    TEAM_2019 = [x[1] for x in FINAL_MODELS['ElasticNet'].predict_proba(FEATURES[0])]\n",
    "\n",
    "    WIN = 0\n",
    "    for i in range(162):\n",
    "        try:\n",
    "            if (HOME_TEAM[i] == 1):\n",
    "                if (TEAM_2019[i] > 0.5):\n",
    "                    WIN = WIN + 1\n",
    "            else:\n",
    "                if (TEAM_2019[i] <= 0.5):\n",
    "                    WIN = WIN + 1\n",
    "        except:\n",
    "            pass\n",
    "    team_records.loc[team, 2019] = WIN\n",
    "    print(team + ' ' + str(WIN))"
   ]
  },
  {
   "cell_type": "code",
   "execution_count": 1286,
   "metadata": {},
   "outputs": [],
   "source": [
    "actual_records = pd.read_csv(\n",
    "    PATH_TO_OUTPUT_DATA + 'EDA/W_L_DATA.csv')\n",
    "actual_records = actual_records[actual_records.Y == 2019]\n",
    "actual_res = actual_records.sort_values(\n",
    "    by = \"W\",ascending = False)[['team', 'W']].set_index('team')\n",
    "actual_res = actual_res.reset_index(\n",
    ").reset_index().set_index('team')\n",
    "actual_res['actual_rank'] = actual_res['index'] + 1"
   ]
  },
  {
   "cell_type": "code",
   "execution_count": 1287,
   "metadata": {},
   "outputs": [],
   "source": [
    "pred_records = team_records.sort_values(\n",
    "    by = 2019,ascending = False).reset_index(\n",
    ").reset_index().set_index('team')\n",
    "pred_records['pred_rank'] = pred_records['index'] + 1"
   ]
  },
  {
   "cell_type": "code",
   "execution_count": 1304,
   "metadata": {
    "scrolled": false
   },
   "outputs": [
    {
     "name": "stderr",
     "output_type": "stream",
     "text": [
      "<ipython-input-1304-09238f184377>:1: FutureWarning: Sorting because non-concatenation axis is not aligned. A future version\n",
      "of pandas will change to not sort by default.\n",
      "\n",
      "To accept the future behavior, pass 'sort=False'.\n",
      "\n",
      "To retain the current behavior and silence the warning, pass 'sort=True'.\n",
      "\n",
      "  comparison = pd.concat([\n"
     ]
    },
    {
     "data": {
      "text/html": [
       "<div>\n",
       "<style scoped>\n",
       "    .dataframe tbody tr th:only-of-type {\n",
       "        vertical-align: middle;\n",
       "    }\n",
       "\n",
       "    .dataframe tbody tr th {\n",
       "        vertical-align: top;\n",
       "    }\n",
       "\n",
       "    .dataframe thead th {\n",
       "        text-align: right;\n",
       "    }\n",
       "</style>\n",
       "<table border=\"1\" class=\"dataframe\">\n",
       "  <thead>\n",
       "    <tr style=\"text-align: right;\">\n",
       "      <th></th>\n",
       "      <th>pred_win</th>\n",
       "      <th>actual_win</th>\n",
       "      <th>pred_rank</th>\n",
       "      <th>actual_rank</th>\n",
       "    </tr>\n",
       "  </thead>\n",
       "  <tbody>\n",
       "    <tr>\n",
       "      <th>HOU</th>\n",
       "      <td>131</td>\n",
       "      <td>107</td>\n",
       "      <td>1</td>\n",
       "      <td>1</td>\n",
       "    </tr>\n",
       "    <tr>\n",
       "      <th>LAN</th>\n",
       "      <td>128</td>\n",
       "      <td>106</td>\n",
       "      <td>2</td>\n",
       "      <td>2</td>\n",
       "    </tr>\n",
       "    <tr>\n",
       "      <th>NYA</th>\n",
       "      <td>115</td>\n",
       "      <td>103</td>\n",
       "      <td>3</td>\n",
       "      <td>3</td>\n",
       "    </tr>\n",
       "    <tr>\n",
       "      <th>MIN</th>\n",
       "      <td>106</td>\n",
       "      <td>101</td>\n",
       "      <td>7</td>\n",
       "      <td>4</td>\n",
       "    </tr>\n",
       "    <tr>\n",
       "      <th>ATL</th>\n",
       "      <td>106</td>\n",
       "      <td>97</td>\n",
       "      <td>8</td>\n",
       "      <td>5</td>\n",
       "    </tr>\n",
       "    <tr>\n",
       "      <th>TBA</th>\n",
       "      <td>107</td>\n",
       "      <td>96</td>\n",
       "      <td>6</td>\n",
       "      <td>6</td>\n",
       "    </tr>\n",
       "    <tr>\n",
       "      <th>OAK</th>\n",
       "      <td>97</td>\n",
       "      <td>96</td>\n",
       "      <td>11</td>\n",
       "      <td>7</td>\n",
       "    </tr>\n",
       "    <tr>\n",
       "      <th>WAS</th>\n",
       "      <td>113</td>\n",
       "      <td>93</td>\n",
       "      <td>4</td>\n",
       "      <td>8</td>\n",
       "    </tr>\n",
       "    <tr>\n",
       "      <th>CLE</th>\n",
       "      <td>103</td>\n",
       "      <td>93</td>\n",
       "      <td>9</td>\n",
       "      <td>9</td>\n",
       "    </tr>\n",
       "    <tr>\n",
       "      <th>SLN</th>\n",
       "      <td>75</td>\n",
       "      <td>90</td>\n",
       "      <td>18</td>\n",
       "      <td>10</td>\n",
       "    </tr>\n",
       "    <tr>\n",
       "      <th>MIL</th>\n",
       "      <td>75</td>\n",
       "      <td>89</td>\n",
       "      <td>19</td>\n",
       "      <td>11</td>\n",
       "    </tr>\n",
       "    <tr>\n",
       "      <th>NYN</th>\n",
       "      <td>97</td>\n",
       "      <td>86</td>\n",
       "      <td>12</td>\n",
       "      <td>12</td>\n",
       "    </tr>\n",
       "    <tr>\n",
       "      <th>ARI</th>\n",
       "      <td>79</td>\n",
       "      <td>85</td>\n",
       "      <td>14</td>\n",
       "      <td>13</td>\n",
       "    </tr>\n",
       "    <tr>\n",
       "      <th>CHN</th>\n",
       "      <td>99</td>\n",
       "      <td>84</td>\n",
       "      <td>10</td>\n",
       "      <td>14</td>\n",
       "    </tr>\n",
       "    <tr>\n",
       "      <th>BOS</th>\n",
       "      <td>109</td>\n",
       "      <td>83</td>\n",
       "      <td>5</td>\n",
       "      <td>15</td>\n",
       "    </tr>\n",
       "    <tr>\n",
       "      <th>PHI</th>\n",
       "      <td>81</td>\n",
       "      <td>81</td>\n",
       "      <td>13</td>\n",
       "      <td>16</td>\n",
       "    </tr>\n",
       "    <tr>\n",
       "      <th>TEX</th>\n",
       "      <td>73</td>\n",
       "      <td>78</td>\n",
       "      <td>20</td>\n",
       "      <td>17</td>\n",
       "    </tr>\n",
       "    <tr>\n",
       "      <th>SFN</th>\n",
       "      <td>62</td>\n",
       "      <td>77</td>\n",
       "      <td>24</td>\n",
       "      <td>18</td>\n",
       "    </tr>\n",
       "    <tr>\n",
       "      <th>CIN</th>\n",
       "      <td>76</td>\n",
       "      <td>75</td>\n",
       "      <td>17</td>\n",
       "      <td>19</td>\n",
       "    </tr>\n",
       "    <tr>\n",
       "      <th>ANA</th>\n",
       "      <td>78</td>\n",
       "      <td>72</td>\n",
       "      <td>15</td>\n",
       "      <td>20</td>\n",
       "    </tr>\n",
       "    <tr>\n",
       "      <th>CHA</th>\n",
       "      <td>54</td>\n",
       "      <td>71</td>\n",
       "      <td>26</td>\n",
       "      <td>21</td>\n",
       "    </tr>\n",
       "    <tr>\n",
       "      <th>COL</th>\n",
       "      <td>77</td>\n",
       "      <td>71</td>\n",
       "      <td>16</td>\n",
       "      <td>22</td>\n",
       "    </tr>\n",
       "    <tr>\n",
       "      <th>SDN</th>\n",
       "      <td>63</td>\n",
       "      <td>70</td>\n",
       "      <td>22</td>\n",
       "      <td>23</td>\n",
       "    </tr>\n",
       "    <tr>\n",
       "      <th>PIT</th>\n",
       "      <td>63</td>\n",
       "      <td>69</td>\n",
       "      <td>23</td>\n",
       "      <td>24</td>\n",
       "    </tr>\n",
       "    <tr>\n",
       "      <th>SEA</th>\n",
       "      <td>65</td>\n",
       "      <td>68</td>\n",
       "      <td>21</td>\n",
       "      <td>25</td>\n",
       "    </tr>\n",
       "    <tr>\n",
       "      <th>TOR</th>\n",
       "      <td>57</td>\n",
       "      <td>67</td>\n",
       "      <td>25</td>\n",
       "      <td>26</td>\n",
       "    </tr>\n",
       "    <tr>\n",
       "      <th>KCA</th>\n",
       "      <td>41</td>\n",
       "      <td>59</td>\n",
       "      <td>27</td>\n",
       "      <td>27</td>\n",
       "    </tr>\n",
       "    <tr>\n",
       "      <th>MIA</th>\n",
       "      <td>26</td>\n",
       "      <td>57</td>\n",
       "      <td>30</td>\n",
       "      <td>28</td>\n",
       "    </tr>\n",
       "    <tr>\n",
       "      <th>BAL</th>\n",
       "      <td>36</td>\n",
       "      <td>54</td>\n",
       "      <td>28</td>\n",
       "      <td>29</td>\n",
       "    </tr>\n",
       "    <tr>\n",
       "      <th>DET</th>\n",
       "      <td>33</td>\n",
       "      <td>47</td>\n",
       "      <td>29</td>\n",
       "      <td>30</td>\n",
       "    </tr>\n",
       "  </tbody>\n",
       "</table>\n",
       "</div>"
      ],
      "text/plain": [
       "     pred_win  actual_win  pred_rank  actual_rank\n",
       "HOU       131         107          1            1\n",
       "LAN       128         106          2            2\n",
       "NYA       115         103          3            3\n",
       "MIN       106         101          7            4\n",
       "ATL       106          97          8            5\n",
       "TBA       107          96          6            6\n",
       "OAK        97          96         11            7\n",
       "WAS       113          93          4            8\n",
       "CLE       103          93          9            9\n",
       "SLN        75          90         18           10\n",
       "MIL        75          89         19           11\n",
       "NYN        97          86         12           12\n",
       "ARI        79          85         14           13\n",
       "CHN        99          84         10           14\n",
       "BOS       109          83          5           15\n",
       "PHI        81          81         13           16\n",
       "TEX        73          78         20           17\n",
       "SFN        62          77         24           18\n",
       "CIN        76          75         17           19\n",
       "ANA        78          72         15           20\n",
       "CHA        54          71         26           21\n",
       "COL        77          71         16           22\n",
       "SDN        63          70         22           23\n",
       "PIT        63          69         23           24\n",
       "SEA        65          68         21           25\n",
       "TOR        57          67         25           26\n",
       "KCA        41          59         27           27\n",
       "MIA        26          57         30           28\n",
       "BAL        36          54         28           29\n",
       "DET        33          47         29           30"
      ]
     },
     "execution_count": 1304,
     "metadata": {},
     "output_type": "execute_result"
    }
   ],
   "source": [
    "comparison = pd.concat([\n",
    "    pred_records,\n",
    "    actual_res], axis = 1)[[2019, 'W', \n",
    "                            'pred_rank', 'actual_rank']]\n",
    "comparison.rename({\n",
    "    2019: 'pred_win',\n",
    "    'W': 'actual_win'\n",
    "}, axis = 1, inplace = True)\n",
    "comparison = comparison.sort_values(\n",
    "    by = 'actual_win', ascending = False)\n",
    "comparison.to_csv(PATH_TO_VIS_DATA + 'WL_comparison.csv')\n",
    "comparison"
   ]
  },
  {
   "cell_type": "code",
   "execution_count": 1293,
   "metadata": {},
   "outputs": [],
   "source": [
    "comparison['SqErr'] = (\n",
    "    comparison['pred_win'] -\n",
    "    comparison['actual_win']\n",
    ")**2"
   ]
  },
  {
   "cell_type": "code",
   "execution_count": 1300,
   "metadata": {},
   "outputs": [
    {
     "data": {
      "text/plain": [
       "200.73333333333332"
      ]
     },
     "execution_count": 1300,
     "metadata": {},
     "output_type": "execute_result"
    }
   ],
   "source": [
    "MSE = sum(comparison['SqErr'])/30\n",
    "MSE"
   ]
  },
  {
   "cell_type": "code",
   "execution_count": 1303,
   "metadata": {},
   "outputs": [
    {
     "data": {
      "text/plain": [
       "14.168039149202452"
      ]
     },
     "execution_count": 1303,
     "metadata": {},
     "output_type": "execute_result"
    }
   ],
   "source": [
    "import numpy as np\n",
    "np.sqrt(MSE)"
   ]
  },
  {
   "cell_type": "code",
   "execution_count": null,
   "metadata": {},
   "outputs": [],
   "source": []
  }
 ],
 "metadata": {
  "kernelspec": {
   "display_name": "Python 3",
   "language": "python",
   "name": "python3"
  },
  "language_info": {
   "codemirror_mode": {
    "name": "ipython",
    "version": 3
   },
   "file_extension": ".py",
   "mimetype": "text/x-python",
   "name": "python",
   "nbconvert_exporter": "python",
   "pygments_lexer": "ipython3",
   "version": "3.8.0"
  }
 },
 "nbformat": 4,
 "nbformat_minor": 2
}
